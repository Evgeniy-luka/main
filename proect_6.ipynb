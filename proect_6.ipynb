{
  "cells": [
    {
      "cell_type": "markdown",
      "metadata": {
        "id": "view-in-github",
        "colab_type": "text"
      },
      "source": [
        "<a href=\"https://colab.research.google.com/github/Evgeniy-luka/main/blob/main/proect_6.ipynb\" target=\"_parent\"><img src=\"https://colab.research.google.com/assets/colab-badge.svg\" alt=\"Open In Colab\"/></a>"
      ]
    },
    {
      "cell_type": "markdown",
      "id": "e06910dd",
      "metadata": {
        "id": "e06910dd"
      },
      "source": [
        "# Анализ игровой индустрии с 2000 по 2013 год\n",
        "\n",
        "- Автор: Ляпустин Е.\n",
        "- Дата: начало 22.09.2025"
      ]
    },
    {
      "cell_type": "markdown",
      "id": "4149134c",
      "metadata": {
        "id": "4149134c"
      },
      "source": [
        "### Цели и задачи проекта\n",
        "\n",
        "Изучить развитие игровой индустрии за период с 2000 по 2013 год включительно"
      ]
    },
    {
      "cell_type": "markdown",
      "id": "728986ea",
      "metadata": {
        "id": "728986ea"
      },
      "source": [
        "### Описание данных\n",
        "\n",
        "<font color='#777778'>Здесь приведите описание данных.</font>\n",
        "\n",
        "Описание данных\n",
        "Данные /datasets/new_games.csv содержат информацию о продажах игр разных жанров и платформ, а также пользовательские и экспертные оценки игр:\n",
        "\n",
        "Name — название игры.\n",
        "\n",
        "Platform — название платформы.\n",
        "\n",
        "Year of Release — год выпуска игры.\n",
        "\n",
        "Genre — жанр игры.\n",
        "\n",
        "NA sales — продажи в Северной Америке (в миллионах проданных копий).\n",
        "\n",
        "EU sales — продажи в Европе (в миллионах проданных копий).\n",
        "\n",
        "JP sales — продажи в Японии (в миллионах проданных копий).\n",
        "\n",
        "Other sales — продажи в других странах (в миллионах проданных копий).\n",
        "\n",
        "Critic Score — оценка критиков (от 0 до 100).\n",
        "\n",
        "User Score — оценка пользователей (от 0 до 10).\n",
        "\n",
        "Rating — рейтинг организации ESRB (англ. Entertainment Software Rating Board). Эта ассоциация определяет рейтинг компьютерных игр и присваивает им подходящую возрастную категорию."
      ]
    },
    {
      "cell_type": "markdown",
      "id": "4fecaf95",
      "metadata": {
        "id": "4fecaf95"
      },
      "source": [
        "### Содержимое проекта\n",
        "\n",
        "Загрузка и знакомство с данными\n",
        "\n",
        "Проверка ошибок в данных и их предобработка:\n",
        "\n",
        "- Названия, или метки, столбцов датафрейма\n",
        "\n",
        "- Типы данных\n",
        "\n",
        "- Наличие пропусков в данных\n",
        "\n",
        "- Явные и неявные дубликаты в данных\n",
        "\n",
        "Фильтрация данных период с 2000 по 2013 год включительно\n",
        "\n",
        "Категоризация данных:\n",
        "\n",
        "- по оценкам пользователей\n",
        "\n",
        "- по оценкам критиков\n",
        "\n",
        "Выделение топ-7 платформ по количеству игр, выпущенных за весь требуемый период"
      ]
    },
    {
      "cell_type": "markdown",
      "id": "6f7d21d6",
      "metadata": {
        "id": "6f7d21d6"
      },
      "source": [
        "## 1. Загрузка данных и знакомство с ними\n",
        "\n",
        "- Загрузите необходимые библиотеки Python и данные датасета `/datasets/new_games.csv`.\n"
      ]
    },
    {
      "cell_type": "code",
      "execution_count": null,
      "id": "7224bbd9",
      "metadata": {
        "id": "7224bbd9"
      },
      "outputs": [],
      "source": [
        "import pandas as pd"
      ]
    },
    {
      "cell_type": "code",
      "execution_count": null,
      "id": "874884f3",
      "metadata": {
        "id": "874884f3"
      },
      "outputs": [],
      "source": [
        "df = pd.read_csv('/datasets/new_games.csv')"
      ]
    },
    {
      "cell_type": "markdown",
      "id": "e0a8705f",
      "metadata": {
        "id": "e0a8705f"
      },
      "source": [
        "- Познакомьтесь с данными: выведите первые строки и результат метода `info()`.\n"
      ]
    },
    {
      "cell_type": "code",
      "execution_count": null,
      "id": "3937acf7",
      "metadata": {
        "id": "3937acf7",
        "outputId": "48c52a70-eeb8-4d30-9723-af9e53e8d6b3"
      },
      "outputs": [
        {
          "name": "stdout",
          "output_type": "stream",
          "text": [
            "<class 'pandas.core.frame.DataFrame'>\n",
            "RangeIndex: 16956 entries, 0 to 16955\n",
            "Data columns (total 11 columns):\n",
            " #   Column           Non-Null Count  Dtype  \n",
            "---  ------           --------------  -----  \n",
            " 0   Name             16954 non-null  object \n",
            " 1   Platform         16956 non-null  object \n",
            " 2   Year of Release  16681 non-null  float64\n",
            " 3   Genre            16954 non-null  object \n",
            " 4   NA sales         16956 non-null  float64\n",
            " 5   EU sales         16956 non-null  object \n",
            " 6   JP sales         16956 non-null  object \n",
            " 7   Other sales      16956 non-null  float64\n",
            " 8   Critic Score     8242 non-null   float64\n",
            " 9   User Score       10152 non-null  object \n",
            " 10  Rating           10085 non-null  object \n",
            "dtypes: float64(4), object(7)\n",
            "memory usage: 1.4+ MB\n"
          ]
        }
      ],
      "source": [
        "df.info()"
      ]
    },
    {
      "cell_type": "code",
      "execution_count": null,
      "id": "d7c8eb4b",
      "metadata": {
        "id": "d7c8eb4b",
        "outputId": "34207bb0-ebac-4eec-b5df-e42456108503"
      },
      "outputs": [
        {
          "data": {
            "text/plain": [
              "16956"
            ]
          },
          "execution_count": 4,
          "metadata": {},
          "output_type": "execute_result"
        }
      ],
      "source": [
        "start_row = df.shape[0] # Фиксирую колличество строк в исходном Датасете\n",
        "start_row"
      ]
    },
    {
      "cell_type": "code",
      "execution_count": null,
      "id": "fc561cac",
      "metadata": {
        "id": "fc561cac",
        "outputId": "4d7c9267-ab84-436e-8979-19675e90b348"
      },
      "outputs": [
        {
          "data": {
            "text/html": [
              "<div>\n",
              "<style scoped>\n",
              "    .dataframe tbody tr th:only-of-type {\n",
              "        vertical-align: middle;\n",
              "    }\n",
              "\n",
              "    .dataframe tbody tr th {\n",
              "        vertical-align: top;\n",
              "    }\n",
              "\n",
              "    .dataframe thead th {\n",
              "        text-align: right;\n",
              "    }\n",
              "</style>\n",
              "<table border=\"1\" class=\"dataframe\">\n",
              "  <thead>\n",
              "    <tr style=\"text-align: right;\">\n",
              "      <th></th>\n",
              "      <th>Name</th>\n",
              "      <th>Platform</th>\n",
              "      <th>Year of Release</th>\n",
              "      <th>Genre</th>\n",
              "      <th>NA sales</th>\n",
              "      <th>EU sales</th>\n",
              "      <th>JP sales</th>\n",
              "      <th>Other sales</th>\n",
              "      <th>Critic Score</th>\n",
              "      <th>User Score</th>\n",
              "      <th>Rating</th>\n",
              "    </tr>\n",
              "  </thead>\n",
              "  <tbody>\n",
              "    <tr>\n",
              "      <th>0</th>\n",
              "      <td>Wii Sports</td>\n",
              "      <td>Wii</td>\n",
              "      <td>2006.0</td>\n",
              "      <td>Sports</td>\n",
              "      <td>41.36</td>\n",
              "      <td>28.96</td>\n",
              "      <td>3.77</td>\n",
              "      <td>8.45</td>\n",
              "      <td>76.0</td>\n",
              "      <td>8</td>\n",
              "      <td>E</td>\n",
              "    </tr>\n",
              "    <tr>\n",
              "      <th>1</th>\n",
              "      <td>Super Mario Bros.</td>\n",
              "      <td>NES</td>\n",
              "      <td>1985.0</td>\n",
              "      <td>Platform</td>\n",
              "      <td>29.08</td>\n",
              "      <td>3.58</td>\n",
              "      <td>6.81</td>\n",
              "      <td>0.77</td>\n",
              "      <td>NaN</td>\n",
              "      <td>NaN</td>\n",
              "      <td>NaN</td>\n",
              "    </tr>\n",
              "    <tr>\n",
              "      <th>2</th>\n",
              "      <td>Mario Kart Wii</td>\n",
              "      <td>Wii</td>\n",
              "      <td>2008.0</td>\n",
              "      <td>Racing</td>\n",
              "      <td>15.68</td>\n",
              "      <td>12.76</td>\n",
              "      <td>3.79</td>\n",
              "      <td>3.29</td>\n",
              "      <td>82.0</td>\n",
              "      <td>8.3</td>\n",
              "      <td>E</td>\n",
              "    </tr>\n",
              "    <tr>\n",
              "      <th>3</th>\n",
              "      <td>Wii Sports Resort</td>\n",
              "      <td>Wii</td>\n",
              "      <td>2009.0</td>\n",
              "      <td>Sports</td>\n",
              "      <td>15.61</td>\n",
              "      <td>10.93</td>\n",
              "      <td>3.28</td>\n",
              "      <td>2.95</td>\n",
              "      <td>80.0</td>\n",
              "      <td>8</td>\n",
              "      <td>E</td>\n",
              "    </tr>\n",
              "    <tr>\n",
              "      <th>4</th>\n",
              "      <td>Pokemon Red/Pokemon Blue</td>\n",
              "      <td>GB</td>\n",
              "      <td>1996.0</td>\n",
              "      <td>Role-Playing</td>\n",
              "      <td>11.27</td>\n",
              "      <td>8.89</td>\n",
              "      <td>10.22</td>\n",
              "      <td>1.00</td>\n",
              "      <td>NaN</td>\n",
              "      <td>NaN</td>\n",
              "      <td>NaN</td>\n",
              "    </tr>\n",
              "  </tbody>\n",
              "</table>\n",
              "</div>"
            ],
            "text/plain": [
              "                       Name Platform  Year of Release         Genre  NA sales  \\\n",
              "0                Wii Sports      Wii           2006.0        Sports     41.36   \n",
              "1         Super Mario Bros.      NES           1985.0      Platform     29.08   \n",
              "2            Mario Kart Wii      Wii           2008.0        Racing     15.68   \n",
              "3         Wii Sports Resort      Wii           2009.0        Sports     15.61   \n",
              "4  Pokemon Red/Pokemon Blue       GB           1996.0  Role-Playing     11.27   \n",
              "\n",
              "  EU sales JP sales  Other sales  Critic Score User Score Rating  \n",
              "0    28.96     3.77         8.45          76.0          8      E  \n",
              "1     3.58     6.81         0.77           NaN        NaN    NaN  \n",
              "2    12.76     3.79         3.29          82.0        8.3      E  \n",
              "3    10.93     3.28         2.95          80.0          8      E  \n",
              "4     8.89    10.22         1.00           NaN        NaN    NaN  "
            ]
          },
          "execution_count": 5,
          "metadata": {},
          "output_type": "execute_result"
        }
      ],
      "source": [
        "df.head()"
      ]
    },
    {
      "cell_type": "markdown",
      "id": "26267bc0",
      "metadata": {
        "id": "26267bc0"
      },
      "source": [
        "- Сделайте вывод о полученных данных: данные какого объёма вам предоставили, соответствуют ли они описанию, встречаются ли в них пропуски, используются ли верные типы данных.\n",
        "- Отметьте другие особенности данных, которые вы обнаружили и на которые стоит обратить внимание при предобработке. Например, вы можете проверить названия столбцов: все ли названия отражают содержимое данных и прописаны в удобном для работы виде."
      ]
    },
    {
      "cell_type": "markdown",
      "id": "3eb7f1ff",
      "metadata": {
        "id": "3eb7f1ff"
      },
      "source": [
        "1. Объем данных\n",
        "\n",
        "Количество строк 16956\n",
        "\n",
        "Количество столбцов 11\n",
        "\n",
        "2. Данные соответствуют описанию\n",
        "\n",
        "3. Пропуски в данных\n",
        "\n",
        "Имеются пропуски в данных необходимо более глубокое изучение\n",
        "\n",
        "В столбце Critic Score более 50 % пропусков, Rating и User Score по 40 % пропусков, Year of Release 1,62% пропусков,\n",
        "Name и Genre по 0.11% соответственно, в остальных столбцах пропуски отсутствуют.     \n",
        "\n",
        "4. Типы данных\n",
        "\n",
        "Соответствие типов данных: float64(4), object(7)\n",
        "\n",
        "Столбцы Name, Platform, Genre, NA sales, Other sales, Critic Score, Rating -  имеют верный тип данных.\n",
        "\n",
        "Столбцы EU sales, JP sales, User Score  текущий - тип object, требуемый тип float64 для проведения с этими столбцами вычислений.\n",
        "\n",
        "Столбец Year of Release - имеет тип данных float64, можно его изменить для красоты на тип int\n",
        "\n",
        "5. Другие особенности и замечания\n",
        "\n",
        "Названия столбцов необходимо привести к стилю snake case, а названия должны быть в нижнем регистре\n"
      ]
    },
    {
      "cell_type": "markdown",
      "id": "774bf76e",
      "metadata": {
        "id": "774bf76e"
      },
      "source": [
        "---\n",
        "\n",
        "## 2.  Проверка ошибок в данных и их предобработка\n",
        "\n",
        "\n",
        "### 2.1. Названия, или метки, столбцов датафрейма\n",
        "\n",
        "- Выведите на экран названия всех столбцов датафрейма и проверьте их стиль написания.\n",
        "- Приведите все столбцы к стилю snake case. Названия должны быть в нижнем регистре, а вместо пробелов — подчёркивания."
      ]
    },
    {
      "cell_type": "code",
      "execution_count": null,
      "id": "b9276a2b",
      "metadata": {
        "id": "b9276a2b",
        "outputId": "bcddb378-a55a-444f-ebb0-7142e643f7a4"
      },
      "outputs": [
        {
          "data": {
            "text/plain": [
              "Index(['Name', 'Platform', 'Year of Release', 'Genre', 'NA sales', 'EU sales',\n",
              "       'JP sales', 'Other sales', 'Critic Score', 'User Score', 'Rating'],\n",
              "      dtype='object')"
            ]
          },
          "execution_count": 6,
          "metadata": {},
          "output_type": "execute_result"
        }
      ],
      "source": [
        "df.columns"
      ]
    },
    {
      "cell_type": "code",
      "execution_count": null,
      "id": "d554563c",
      "metadata": {
        "id": "d554563c"
      },
      "outputs": [],
      "source": [
        "# приведем названием колонок в правильный формат\n",
        "df.columns = df.columns.str.lower().str.replace(\" \", \"_\")"
      ]
    },
    {
      "cell_type": "code",
      "execution_count": null,
      "id": "87b573dd",
      "metadata": {
        "id": "87b573dd",
        "outputId": "c3bcac4a-0e1b-4477-9282-e47592a117e1"
      },
      "outputs": [
        {
          "data": {
            "text/html": [
              "<div>\n",
              "<style scoped>\n",
              "    .dataframe tbody tr th:only-of-type {\n",
              "        vertical-align: middle;\n",
              "    }\n",
              "\n",
              "    .dataframe tbody tr th {\n",
              "        vertical-align: top;\n",
              "    }\n",
              "\n",
              "    .dataframe thead th {\n",
              "        text-align: right;\n",
              "    }\n",
              "</style>\n",
              "<table border=\"1\" class=\"dataframe\">\n",
              "  <thead>\n",
              "    <tr style=\"text-align: right;\">\n",
              "      <th></th>\n",
              "      <th>name</th>\n",
              "      <th>platform</th>\n",
              "      <th>year_of_release</th>\n",
              "      <th>genre</th>\n",
              "      <th>na_sales</th>\n",
              "      <th>eu_sales</th>\n",
              "      <th>jp_sales</th>\n",
              "      <th>other_sales</th>\n",
              "      <th>critic_score</th>\n",
              "      <th>user_score</th>\n",
              "      <th>rating</th>\n",
              "    </tr>\n",
              "  </thead>\n",
              "  <tbody>\n",
              "    <tr>\n",
              "      <th>0</th>\n",
              "      <td>Wii Sports</td>\n",
              "      <td>Wii</td>\n",
              "      <td>2006.0</td>\n",
              "      <td>Sports</td>\n",
              "      <td>41.36</td>\n",
              "      <td>28.96</td>\n",
              "      <td>3.77</td>\n",
              "      <td>8.45</td>\n",
              "      <td>76.0</td>\n",
              "      <td>8</td>\n",
              "      <td>E</td>\n",
              "    </tr>\n",
              "    <tr>\n",
              "      <th>1</th>\n",
              "      <td>Super Mario Bros.</td>\n",
              "      <td>NES</td>\n",
              "      <td>1985.0</td>\n",
              "      <td>Platform</td>\n",
              "      <td>29.08</td>\n",
              "      <td>3.58</td>\n",
              "      <td>6.81</td>\n",
              "      <td>0.77</td>\n",
              "      <td>NaN</td>\n",
              "      <td>NaN</td>\n",
              "      <td>NaN</td>\n",
              "    </tr>\n",
              "    <tr>\n",
              "      <th>2</th>\n",
              "      <td>Mario Kart Wii</td>\n",
              "      <td>Wii</td>\n",
              "      <td>2008.0</td>\n",
              "      <td>Racing</td>\n",
              "      <td>15.68</td>\n",
              "      <td>12.76</td>\n",
              "      <td>3.79</td>\n",
              "      <td>3.29</td>\n",
              "      <td>82.0</td>\n",
              "      <td>8.3</td>\n",
              "      <td>E</td>\n",
              "    </tr>\n",
              "    <tr>\n",
              "      <th>3</th>\n",
              "      <td>Wii Sports Resort</td>\n",
              "      <td>Wii</td>\n",
              "      <td>2009.0</td>\n",
              "      <td>Sports</td>\n",
              "      <td>15.61</td>\n",
              "      <td>10.93</td>\n",
              "      <td>3.28</td>\n",
              "      <td>2.95</td>\n",
              "      <td>80.0</td>\n",
              "      <td>8</td>\n",
              "      <td>E</td>\n",
              "    </tr>\n",
              "    <tr>\n",
              "      <th>4</th>\n",
              "      <td>Pokemon Red/Pokemon Blue</td>\n",
              "      <td>GB</td>\n",
              "      <td>1996.0</td>\n",
              "      <td>Role-Playing</td>\n",
              "      <td>11.27</td>\n",
              "      <td>8.89</td>\n",
              "      <td>10.22</td>\n",
              "      <td>1.00</td>\n",
              "      <td>NaN</td>\n",
              "      <td>NaN</td>\n",
              "      <td>NaN</td>\n",
              "    </tr>\n",
              "  </tbody>\n",
              "</table>\n",
              "</div>"
            ],
            "text/plain": [
              "                       name platform  year_of_release         genre  na_sales  \\\n",
              "0                Wii Sports      Wii           2006.0        Sports     41.36   \n",
              "1         Super Mario Bros.      NES           1985.0      Platform     29.08   \n",
              "2            Mario Kart Wii      Wii           2008.0        Racing     15.68   \n",
              "3         Wii Sports Resort      Wii           2009.0        Sports     15.61   \n",
              "4  Pokemon Red/Pokemon Blue       GB           1996.0  Role-Playing     11.27   \n",
              "\n",
              "  eu_sales jp_sales  other_sales  critic_score user_score rating  \n",
              "0    28.96     3.77         8.45          76.0          8      E  \n",
              "1     3.58     6.81         0.77           NaN        NaN    NaN  \n",
              "2    12.76     3.79         3.29          82.0        8.3      E  \n",
              "3    10.93     3.28         2.95          80.0          8      E  \n",
              "4     8.89    10.22         1.00           NaN        NaN    NaN  "
            ]
          },
          "execution_count": 8,
          "metadata": {},
          "output_type": "execute_result"
        }
      ],
      "source": [
        "df.head()"
      ]
    },
    {
      "cell_type": "markdown",
      "id": "41bc6bf8",
      "metadata": {
        "id": "41bc6bf8"
      },
      "source": [
        "### 2.2. Типы данных\n",
        "\n",
        "- Если встречаются некорректные типы данных, предположите их причины.\n",
        "- При необходимости проведите преобразование типов данных. Помните, что столбцы с числовыми данными и пропусками нельзя преобразовать к типу `int64`. Сначала вам понадобится обработать пропуски, а затем преобразовать типы данных."
      ]
    },
    {
      "cell_type": "code",
      "execution_count": null,
      "id": "2d897a57",
      "metadata": {
        "id": "2d897a57",
        "outputId": "3c46f365-dcd6-496a-a64c-45216a1de022"
      },
      "outputs": [
        {
          "name": "stdout",
          "output_type": "stream",
          "text": [
            "<class 'pandas.core.frame.DataFrame'>\n",
            "RangeIndex: 16956 entries, 0 to 16955\n",
            "Data columns (total 11 columns):\n",
            " #   Column           Non-Null Count  Dtype  \n",
            "---  ------           --------------  -----  \n",
            " 0   name             16954 non-null  object \n",
            " 1   platform         16956 non-null  object \n",
            " 2   year_of_release  16681 non-null  float64\n",
            " 3   genre            16954 non-null  object \n",
            " 4   na_sales         16956 non-null  float64\n",
            " 5   eu_sales         16956 non-null  object \n",
            " 6   jp_sales         16956 non-null  object \n",
            " 7   other_sales      16956 non-null  float64\n",
            " 8   critic_score     8242 non-null   float64\n",
            " 9   user_score       10152 non-null  object \n",
            " 10  rating           10085 non-null  object \n",
            "dtypes: float64(4), object(7)\n",
            "memory usage: 1.4+ MB\n"
          ]
        }
      ],
      "source": [
        "df.info()"
      ]
    },
    {
      "cell_type": "markdown",
      "id": "6a1a84ef",
      "metadata": {
        "id": "6a1a84ef"
      },
      "source": [
        "- В числовых столбцах могут встретиться строковые значения, например `unknown` или другие. Приводите такие столбцы к числовому типу данных, заменив строковые значения на пропуски."
      ]
    },
    {
      "cell_type": "code",
      "execution_count": null,
      "id": "73dd345e",
      "metadata": {
        "id": "73dd345e"
      },
      "outputs": [],
      "source": [
        "df[['eu_sales', 'jp_sales','na_sales', 'user_score']] = df[['eu_sales', 'jp_sales','na_sales', 'user_score']].apply(pd.to_numeric, errors='coerce')"
      ]
    },
    {
      "cell_type": "code",
      "execution_count": null,
      "id": "78d5f08d",
      "metadata": {
        "id": "78d5f08d",
        "outputId": "315748df-5ca4-402f-b4c9-e02468eaf5c2"
      },
      "outputs": [
        {
          "name": "stdout",
          "output_type": "stream",
          "text": [
            "<class 'pandas.core.frame.DataFrame'>\n",
            "RangeIndex: 16956 entries, 0 to 16955\n",
            "Data columns (total 11 columns):\n",
            " #   Column           Non-Null Count  Dtype  \n",
            "---  ------           --------------  -----  \n",
            " 0   name             16954 non-null  object \n",
            " 1   platform         16956 non-null  object \n",
            " 2   year_of_release  16681 non-null  float64\n",
            " 3   genre            16954 non-null  object \n",
            " 4   na_sales         16956 non-null  float64\n",
            " 5   eu_sales         16950 non-null  float64\n",
            " 6   jp_sales         16952 non-null  float64\n",
            " 7   other_sales      16956 non-null  float64\n",
            " 8   critic_score     8242 non-null   float64\n",
            " 9   user_score       7688 non-null   float64\n",
            " 10  rating           10085 non-null  object \n",
            "dtypes: float64(7), object(4)\n",
            "memory usage: 1.4+ MB\n"
          ]
        }
      ],
      "source": [
        "df.info()"
      ]
    },
    {
      "cell_type": "markdown",
      "id": "63378edf",
      "metadata": {
        "id": "63378edf"
      },
      "source": []
    },
    {
      "cell_type": "markdown",
      "id": "b39893cb",
      "metadata": {
        "id": "b39893cb"
      },
      "source": [
        "###  Наличие пропусков в данных\n",
        "\n",
        "- Посчитайте количество пропусков в каждом столбце в абсолютных и относительных значениях.\n"
      ]
    },
    {
      "cell_type": "code",
      "execution_count": null,
      "id": "86cd1cc1",
      "metadata": {
        "id": "86cd1cc1",
        "outputId": "bae4a69a-ea42-421d-b392-9e2e120131e4"
      },
      "outputs": [
        {
          "data": {
            "text/plain": [
              "user_score         9268\n",
              "critic_score       8714\n",
              "rating             6871\n",
              "year_of_release     275\n",
              "eu_sales              6\n",
              "jp_sales              4\n",
              "name                  2\n",
              "genre                 2\n",
              "platform              0\n",
              "na_sales              0\n",
              "other_sales           0\n",
              "dtype: int64"
            ]
          },
          "execution_count": 12,
          "metadata": {},
          "output_type": "execute_result"
        }
      ],
      "source": [
        "df.isna().sum().sort_values(ascending=False) # Считаю и сортирую колличество пропусков"
      ]
    },
    {
      "cell_type": "code",
      "execution_count": null,
      "id": "247a6cf7",
      "metadata": {
        "id": "247a6cf7",
        "outputId": "60af212e-747d-4fd7-ac09-2ac0e7a76a0f"
      },
      "outputs": [
        {
          "data": {
            "text/plain": [
              "user_score         54.659118\n",
              "critic_score       51.391838\n",
              "rating             40.522529\n",
              "year_of_release     1.621845\n",
              "eu_sales            0.035386\n",
              "jp_sales            0.023590\n",
              "name                0.011795\n",
              "genre               0.011795\n",
              "platform            0.000000\n",
              "na_sales            0.000000\n",
              "other_sales         0.000000\n",
              "dtype: float64"
            ]
          },
          "execution_count": 13,
          "metadata": {},
          "output_type": "execute_result"
        }
      ],
      "source": [
        "# Процент пропуск в колонках\n",
        "df.isna().mean().sort_values(ascending=False) * 100"
      ]
    },
    {
      "cell_type": "markdown",
      "id": "0a77e5b6",
      "metadata": {
        "id": "0a77e5b6"
      },
      "source": [
        "- Изучите данные с пропущенными значениями. Напишите промежуточный вывод: для каких столбцов характерны пропуски и сколько их. Предположите, почему пропуски могли возникнуть. Укажите, какие действия с этими данными можно сделать и почему.\n",
        "\n",
        "Имеются пропуски в следующих столбцах:\n",
        "\n",
        "- critic_score и user_score имеют более чем 50% отсутствует, считаю что изменять и удалять ничего не надо. Пропуски заполню Nan чтобы в дальнейшем так же информацию об отсутствии значений выделить в отдельную категорию.\n",
        "\n",
        "- rating имеют более чем 40% пропуски в данных, что так же говорит о удаление или замена только искозят данные и иследование будет недостоверны. Пропуски переименую в Undefined чтобы в дальнейшем так же информацию об отсутствии значений выделить в отдельную категорию.\n",
        "\n",
        "- year_of_release имеют незначительные пропуски менее 2%. Приемлемая потеря для чистоты данных.\n",
        "\n",
        "- name и genre имеют по 2 пропуск. Поскольку пропусков очень мало, скорее всего, это случайные ошибки. Лучше всего эти строки удалить.\n",
        "\n",
        "<div class=\"alert alert-info\">\n",
        "Возможные причины возникновения пропусков столбцах user_score и critic_score:\n",
        "\n",
        "- игры старые и в то время оценки ставить просто негде было интернет не был так распространен;\n",
        "\n",
        "- игры вышли недавно и не получили оценки;\n",
        "\n",
        "- игры были не популярны и не были массовыми;\n",
        "\n",
        "- технические сбои при сборе данных.\n",
        "\n",
        "Возможные причины возникновения пропусков столбце rating:\n",
        "\n",
        "- система рейтинга была введена в 1994 году и игры до этого момента могли не получить рейтинг;\n",
        "\n",
        "- не всем играм пристваивают рейтинг это на усмотрение платформы которая его выпустила;\n",
        "\n",
        "- технические или человеческие ошибки при внесении или заполнении базы.\n",
        "\n",
        "Возможные причины возникновения пропусков столбце year_of_release:\n",
        "\n",
        "- игра могла выйти в разных странах в разное время;\n",
        "\n",
        "- технические или человеческие ошибки при внесении или заполнении базы.\n",
        "\n",
        "Возможная причина возникновения пропусков столбцах не превышающих 0,3 процента могли возникнуть в результате технической или человеческой при заполнении базы или ее выгрузке"
      ]
    },
    {
      "cell_type": "code",
      "execution_count": null,
      "id": "b6965b19",
      "metadata": {
        "id": "b6965b19",
        "outputId": "07e0ef88-f103-4a79-bace-b35eeb3cf1b4"
      },
      "outputs": [
        {
          "data": {
            "text/html": [
              "<div>\n",
              "<style scoped>\n",
              "    .dataframe tbody tr th:only-of-type {\n",
              "        vertical-align: middle;\n",
              "    }\n",
              "\n",
              "    .dataframe tbody tr th {\n",
              "        vertical-align: top;\n",
              "    }\n",
              "\n",
              "    .dataframe thead th {\n",
              "        text-align: right;\n",
              "    }\n",
              "</style>\n",
              "<table border=\"1\" class=\"dataframe\">\n",
              "  <thead>\n",
              "    <tr style=\"text-align: right;\">\n",
              "      <th></th>\n",
              "      <th>name</th>\n",
              "      <th>platform</th>\n",
              "      <th>year_of_release</th>\n",
              "      <th>genre</th>\n",
              "      <th>na_sales</th>\n",
              "      <th>eu_sales</th>\n",
              "      <th>jp_sales</th>\n",
              "      <th>other_sales</th>\n",
              "      <th>critic_score</th>\n",
              "      <th>user_score</th>\n",
              "      <th>rating</th>\n",
              "    </tr>\n",
              "  </thead>\n",
              "  <tbody>\n",
              "    <tr>\n",
              "      <th>0</th>\n",
              "      <td>Wii Sports</td>\n",
              "      <td>Wii</td>\n",
              "      <td>2006.0</td>\n",
              "      <td>Sports</td>\n",
              "      <td>41.36</td>\n",
              "      <td>28.96</td>\n",
              "      <td>3.77</td>\n",
              "      <td>8.45</td>\n",
              "      <td>76.0</td>\n",
              "      <td>8.0</td>\n",
              "      <td>E</td>\n",
              "    </tr>\n",
              "    <tr>\n",
              "      <th>1</th>\n",
              "      <td>Super Mario Bros.</td>\n",
              "      <td>NES</td>\n",
              "      <td>1985.0</td>\n",
              "      <td>Platform</td>\n",
              "      <td>29.08</td>\n",
              "      <td>3.58</td>\n",
              "      <td>6.81</td>\n",
              "      <td>0.77</td>\n",
              "      <td>NaN</td>\n",
              "      <td>NaN</td>\n",
              "      <td>NaN</td>\n",
              "    </tr>\n",
              "    <tr>\n",
              "      <th>2</th>\n",
              "      <td>Mario Kart Wii</td>\n",
              "      <td>Wii</td>\n",
              "      <td>2008.0</td>\n",
              "      <td>Racing</td>\n",
              "      <td>15.68</td>\n",
              "      <td>12.76</td>\n",
              "      <td>3.79</td>\n",
              "      <td>3.29</td>\n",
              "      <td>82.0</td>\n",
              "      <td>8.3</td>\n",
              "      <td>E</td>\n",
              "    </tr>\n",
              "    <tr>\n",
              "      <th>3</th>\n",
              "      <td>Wii Sports Resort</td>\n",
              "      <td>Wii</td>\n",
              "      <td>2009.0</td>\n",
              "      <td>Sports</td>\n",
              "      <td>15.61</td>\n",
              "      <td>10.93</td>\n",
              "      <td>3.28</td>\n",
              "      <td>2.95</td>\n",
              "      <td>80.0</td>\n",
              "      <td>8.0</td>\n",
              "      <td>E</td>\n",
              "    </tr>\n",
              "    <tr>\n",
              "      <th>4</th>\n",
              "      <td>Pokemon Red/Pokemon Blue</td>\n",
              "      <td>GB</td>\n",
              "      <td>1996.0</td>\n",
              "      <td>Role-Playing</td>\n",
              "      <td>11.27</td>\n",
              "      <td>8.89</td>\n",
              "      <td>10.22</td>\n",
              "      <td>1.00</td>\n",
              "      <td>NaN</td>\n",
              "      <td>NaN</td>\n",
              "      <td>NaN</td>\n",
              "    </tr>\n",
              "    <tr>\n",
              "      <th>5</th>\n",
              "      <td>Tetris</td>\n",
              "      <td>GB</td>\n",
              "      <td>1989.0</td>\n",
              "      <td>Puzzle</td>\n",
              "      <td>23.20</td>\n",
              "      <td>2.26</td>\n",
              "      <td>4.22</td>\n",
              "      <td>0.58</td>\n",
              "      <td>NaN</td>\n",
              "      <td>NaN</td>\n",
              "      <td>NaN</td>\n",
              "    </tr>\n",
              "    <tr>\n",
              "      <th>6</th>\n",
              "      <td>New Super Mario Bros.</td>\n",
              "      <td>DS</td>\n",
              "      <td>2006.0</td>\n",
              "      <td>Platform</td>\n",
              "      <td>11.28</td>\n",
              "      <td>9.14</td>\n",
              "      <td>6.50</td>\n",
              "      <td>2.88</td>\n",
              "      <td>89.0</td>\n",
              "      <td>8.5</td>\n",
              "      <td>E</td>\n",
              "    </tr>\n",
              "    <tr>\n",
              "      <th>7</th>\n",
              "      <td>Wii Play</td>\n",
              "      <td>Wii</td>\n",
              "      <td>2006.0</td>\n",
              "      <td>Misc</td>\n",
              "      <td>13.96</td>\n",
              "      <td>9.18</td>\n",
              "      <td>2.93</td>\n",
              "      <td>2.84</td>\n",
              "      <td>58.0</td>\n",
              "      <td>6.6</td>\n",
              "      <td>E</td>\n",
              "    </tr>\n",
              "    <tr>\n",
              "      <th>8</th>\n",
              "      <td>New Super Mario Bros. Wii</td>\n",
              "      <td>Wii</td>\n",
              "      <td>2009.0</td>\n",
              "      <td>Platform</td>\n",
              "      <td>14.44</td>\n",
              "      <td>6.94</td>\n",
              "      <td>4.70</td>\n",
              "      <td>2.24</td>\n",
              "      <td>87.0</td>\n",
              "      <td>8.4</td>\n",
              "      <td>E</td>\n",
              "    </tr>\n",
              "    <tr>\n",
              "      <th>9</th>\n",
              "      <td>Duck Hunt</td>\n",
              "      <td>NES</td>\n",
              "      <td>1984.0</td>\n",
              "      <td>Shooter</td>\n",
              "      <td>26.93</td>\n",
              "      <td>0.63</td>\n",
              "      <td>0.28</td>\n",
              "      <td>0.47</td>\n",
              "      <td>NaN</td>\n",
              "      <td>NaN</td>\n",
              "      <td>NaN</td>\n",
              "    </tr>\n",
              "    <tr>\n",
              "      <th>10</th>\n",
              "      <td>Nintendogs</td>\n",
              "      <td>DS</td>\n",
              "      <td>2005.0</td>\n",
              "      <td>Simulation</td>\n",
              "      <td>9.05</td>\n",
              "      <td>10.95</td>\n",
              "      <td>1.93</td>\n",
              "      <td>2.74</td>\n",
              "      <td>NaN</td>\n",
              "      <td>NaN</td>\n",
              "      <td>NaN</td>\n",
              "    </tr>\n",
              "    <tr>\n",
              "      <th>11</th>\n",
              "      <td>Mario Kart DS</td>\n",
              "      <td>DS</td>\n",
              "      <td>2005.0</td>\n",
              "      <td>Racing</td>\n",
              "      <td>9.71</td>\n",
              "      <td>7.47</td>\n",
              "      <td>4.13</td>\n",
              "      <td>1.90</td>\n",
              "      <td>91.0</td>\n",
              "      <td>8.6</td>\n",
              "      <td>E</td>\n",
              "    </tr>\n",
              "    <tr>\n",
              "      <th>12</th>\n",
              "      <td>Pokemon Gold/Pokemon Silver</td>\n",
              "      <td>GB</td>\n",
              "      <td>1999.0</td>\n",
              "      <td>Role-Playing</td>\n",
              "      <td>9.00</td>\n",
              "      <td>6.18</td>\n",
              "      <td>7.20</td>\n",
              "      <td>0.71</td>\n",
              "      <td>NaN</td>\n",
              "      <td>NaN</td>\n",
              "      <td>NaN</td>\n",
              "    </tr>\n",
              "    <tr>\n",
              "      <th>13</th>\n",
              "      <td>Wii Fit</td>\n",
              "      <td>Wii</td>\n",
              "      <td>2007.0</td>\n",
              "      <td>Sports</td>\n",
              "      <td>8.92</td>\n",
              "      <td>8.03</td>\n",
              "      <td>3.60</td>\n",
              "      <td>2.15</td>\n",
              "      <td>80.0</td>\n",
              "      <td>7.7</td>\n",
              "      <td>E</td>\n",
              "    </tr>\n",
              "    <tr>\n",
              "      <th>14</th>\n",
              "      <td>Kinect Adventures!</td>\n",
              "      <td>X360</td>\n",
              "      <td>2010.0</td>\n",
              "      <td>Misc</td>\n",
              "      <td>15.00</td>\n",
              "      <td>4.89</td>\n",
              "      <td>0.24</td>\n",
              "      <td>1.69</td>\n",
              "      <td>61.0</td>\n",
              "      <td>6.3</td>\n",
              "      <td>E</td>\n",
              "    </tr>\n",
              "    <tr>\n",
              "      <th>15</th>\n",
              "      <td>Wii Fit Plus</td>\n",
              "      <td>Wii</td>\n",
              "      <td>2009.0</td>\n",
              "      <td>Sports</td>\n",
              "      <td>9.01</td>\n",
              "      <td>8.49</td>\n",
              "      <td>2.53</td>\n",
              "      <td>1.77</td>\n",
              "      <td>80.0</td>\n",
              "      <td>7.4</td>\n",
              "      <td>E</td>\n",
              "    </tr>\n",
              "    <tr>\n",
              "      <th>16</th>\n",
              "      <td>Grand Theft Auto V</td>\n",
              "      <td>PS3</td>\n",
              "      <td>2013.0</td>\n",
              "      <td>Action</td>\n",
              "      <td>7.02</td>\n",
              "      <td>9.09</td>\n",
              "      <td>0.98</td>\n",
              "      <td>3.96</td>\n",
              "      <td>97.0</td>\n",
              "      <td>8.2</td>\n",
              "      <td>M</td>\n",
              "    </tr>\n",
              "    <tr>\n",
              "      <th>17</th>\n",
              "      <td>Grand Theft Auto: San Andreas</td>\n",
              "      <td>PS2</td>\n",
              "      <td>2004.0</td>\n",
              "      <td>Action</td>\n",
              "      <td>9.43</td>\n",
              "      <td>0.40</td>\n",
              "      <td>0.41</td>\n",
              "      <td>10.57</td>\n",
              "      <td>95.0</td>\n",
              "      <td>9.0</td>\n",
              "      <td>M</td>\n",
              "    </tr>\n",
              "    <tr>\n",
              "      <th>18</th>\n",
              "      <td>Super Mario World</td>\n",
              "      <td>SNES</td>\n",
              "      <td>1990.0</td>\n",
              "      <td>Platform</td>\n",
              "      <td>12.78</td>\n",
              "      <td>3.75</td>\n",
              "      <td>3.54</td>\n",
              "      <td>0.55</td>\n",
              "      <td>NaN</td>\n",
              "      <td>NaN</td>\n",
              "      <td>NaN</td>\n",
              "    </tr>\n",
              "    <tr>\n",
              "      <th>19</th>\n",
              "      <td>Brain Age: Train Your Brain in Minutes a Day</td>\n",
              "      <td>DS</td>\n",
              "      <td>2005.0</td>\n",
              "      <td>Misc</td>\n",
              "      <td>4.74</td>\n",
              "      <td>9.20</td>\n",
              "      <td>4.16</td>\n",
              "      <td>2.04</td>\n",
              "      <td>77.0</td>\n",
              "      <td>7.9</td>\n",
              "      <td>E</td>\n",
              "    </tr>\n",
              "  </tbody>\n",
              "</table>\n",
              "</div>"
            ],
            "text/plain": [
              "                                            name platform  year_of_release  \\\n",
              "0                                     Wii Sports      Wii           2006.0   \n",
              "1                              Super Mario Bros.      NES           1985.0   \n",
              "2                                 Mario Kart Wii      Wii           2008.0   \n",
              "3                              Wii Sports Resort      Wii           2009.0   \n",
              "4                       Pokemon Red/Pokemon Blue       GB           1996.0   \n",
              "5                                         Tetris       GB           1989.0   \n",
              "6                          New Super Mario Bros.       DS           2006.0   \n",
              "7                                       Wii Play      Wii           2006.0   \n",
              "8                      New Super Mario Bros. Wii      Wii           2009.0   \n",
              "9                                      Duck Hunt      NES           1984.0   \n",
              "10                                    Nintendogs       DS           2005.0   \n",
              "11                                 Mario Kart DS       DS           2005.0   \n",
              "12                   Pokemon Gold/Pokemon Silver       GB           1999.0   \n",
              "13                                       Wii Fit      Wii           2007.0   \n",
              "14                            Kinect Adventures!     X360           2010.0   \n",
              "15                                  Wii Fit Plus      Wii           2009.0   \n",
              "16                            Grand Theft Auto V      PS3           2013.0   \n",
              "17                 Grand Theft Auto: San Andreas      PS2           2004.0   \n",
              "18                             Super Mario World     SNES           1990.0   \n",
              "19  Brain Age: Train Your Brain in Minutes a Day       DS           2005.0   \n",
              "\n",
              "           genre  na_sales  eu_sales  jp_sales  other_sales  critic_score  \\\n",
              "0         Sports     41.36     28.96      3.77         8.45          76.0   \n",
              "1       Platform     29.08      3.58      6.81         0.77           NaN   \n",
              "2         Racing     15.68     12.76      3.79         3.29          82.0   \n",
              "3         Sports     15.61     10.93      3.28         2.95          80.0   \n",
              "4   Role-Playing     11.27      8.89     10.22         1.00           NaN   \n",
              "5         Puzzle     23.20      2.26      4.22         0.58           NaN   \n",
              "6       Platform     11.28      9.14      6.50         2.88          89.0   \n",
              "7           Misc     13.96      9.18      2.93         2.84          58.0   \n",
              "8       Platform     14.44      6.94      4.70         2.24          87.0   \n",
              "9        Shooter     26.93      0.63      0.28         0.47           NaN   \n",
              "10    Simulation      9.05     10.95      1.93         2.74           NaN   \n",
              "11        Racing      9.71      7.47      4.13         1.90          91.0   \n",
              "12  Role-Playing      9.00      6.18      7.20         0.71           NaN   \n",
              "13        Sports      8.92      8.03      3.60         2.15          80.0   \n",
              "14          Misc     15.00      4.89      0.24         1.69          61.0   \n",
              "15        Sports      9.01      8.49      2.53         1.77          80.0   \n",
              "16        Action      7.02      9.09      0.98         3.96          97.0   \n",
              "17        Action      9.43      0.40      0.41        10.57          95.0   \n",
              "18      Platform     12.78      3.75      3.54         0.55           NaN   \n",
              "19          Misc      4.74      9.20      4.16         2.04          77.0   \n",
              "\n",
              "    user_score rating  \n",
              "0          8.0      E  \n",
              "1          NaN    NaN  \n",
              "2          8.3      E  \n",
              "3          8.0      E  \n",
              "4          NaN    NaN  \n",
              "5          NaN    NaN  \n",
              "6          8.5      E  \n",
              "7          6.6      E  \n",
              "8          8.4      E  \n",
              "9          NaN    NaN  \n",
              "10         NaN    NaN  \n",
              "11         8.6      E  \n",
              "12         NaN    NaN  \n",
              "13         7.7      E  \n",
              "14         6.3      E  \n",
              "15         7.4      E  \n",
              "16         8.2      M  \n",
              "17         9.0      M  \n",
              "18         NaN    NaN  \n",
              "19         7.9      E  "
            ]
          },
          "execution_count": 14,
          "metadata": {},
          "output_type": "execute_result"
        }
      ],
      "source": [
        "df.head(20)"
      ]
    },
    {
      "cell_type": "code",
      "execution_count": null,
      "id": "cc2d1374",
      "metadata": {
        "id": "cc2d1374",
        "outputId": "1c7390d8-2f24-4daa-bb22-6fc7ec2e4e64"
      },
      "outputs": [
        {
          "name": "stdout",
          "output_type": "stream",
          "text": [
            "<class 'pandas.core.frame.DataFrame'>\n",
            "RangeIndex: 16956 entries, 0 to 16955\n",
            "Data columns (total 11 columns):\n",
            " #   Column           Non-Null Count  Dtype  \n",
            "---  ------           --------------  -----  \n",
            " 0   name             16954 non-null  object \n",
            " 1   platform         16956 non-null  object \n",
            " 2   year_of_release  16681 non-null  float64\n",
            " 3   genre            16954 non-null  object \n",
            " 4   na_sales         16956 non-null  float64\n",
            " 5   eu_sales         16950 non-null  float64\n",
            " 6   jp_sales         16952 non-null  float64\n",
            " 7   other_sales      16956 non-null  float64\n",
            " 8   critic_score     8242 non-null   float64\n",
            " 9   user_score       7688 non-null   float64\n",
            " 10  rating           10085 non-null  object \n",
            "dtypes: float64(7), object(4)\n",
            "memory usage: 1.4+ MB\n"
          ]
        }
      ],
      "source": [
        "df.info()"
      ]
    },
    {
      "cell_type": "code",
      "execution_count": null,
      "id": "ffb182c8",
      "metadata": {
        "id": "ffb182c8",
        "outputId": "5d5f1607-a988-4d99-f775-6def963b3c0c"
      },
      "outputs": [
        {
          "data": {
            "text/html": [
              "<div>\n",
              "<style scoped>\n",
              "    .dataframe tbody tr th:only-of-type {\n",
              "        vertical-align: middle;\n",
              "    }\n",
              "\n",
              "    .dataframe tbody tr th {\n",
              "        vertical-align: top;\n",
              "    }\n",
              "\n",
              "    .dataframe thead th {\n",
              "        text-align: right;\n",
              "    }\n",
              "</style>\n",
              "<table border=\"1\" class=\"dataframe\">\n",
              "  <thead>\n",
              "    <tr style=\"text-align: right;\">\n",
              "      <th></th>\n",
              "      <th>name</th>\n",
              "      <th>platform</th>\n",
              "      <th>year_of_release</th>\n",
              "      <th>genre</th>\n",
              "      <th>na_sales</th>\n",
              "      <th>eu_sales</th>\n",
              "      <th>jp_sales</th>\n",
              "      <th>other_sales</th>\n",
              "      <th>critic_score</th>\n",
              "      <th>user_score</th>\n",
              "      <th>rating</th>\n",
              "    </tr>\n",
              "  </thead>\n",
              "  <tbody>\n",
              "    <tr>\n",
              "      <th>661</th>\n",
              "      <td>NaN</td>\n",
              "      <td>GEN</td>\n",
              "      <td>1993.0</td>\n",
              "      <td>NaN</td>\n",
              "      <td>1.78</td>\n",
              "      <td>0.53</td>\n",
              "      <td>0.00</td>\n",
              "      <td>0.08</td>\n",
              "      <td>NaN</td>\n",
              "      <td>NaN</td>\n",
              "      <td>NaN</td>\n",
              "    </tr>\n",
              "    <tr>\n",
              "      <th>14439</th>\n",
              "      <td>NaN</td>\n",
              "      <td>GEN</td>\n",
              "      <td>1993.0</td>\n",
              "      <td>NaN</td>\n",
              "      <td>0.00</td>\n",
              "      <td>0.00</td>\n",
              "      <td>0.03</td>\n",
              "      <td>0.00</td>\n",
              "      <td>NaN</td>\n",
              "      <td>NaN</td>\n",
              "      <td>NaN</td>\n",
              "    </tr>\n",
              "  </tbody>\n",
              "</table>\n",
              "</div>"
            ],
            "text/plain": [
              "      name platform  year_of_release genre  na_sales  eu_sales  jp_sales  \\\n",
              "661    NaN      GEN           1993.0   NaN      1.78      0.53      0.00   \n",
              "14439  NaN      GEN           1993.0   NaN      0.00      0.00      0.03   \n",
              "\n",
              "       other_sales  critic_score  user_score rating  \n",
              "661           0.08           NaN         NaN    NaN  \n",
              "14439         0.00           NaN         NaN    NaN  "
            ]
          },
          "execution_count": 16,
          "metadata": {},
          "output_type": "execute_result"
        }
      ],
      "source": [
        "df[df['genre'].isna()] # Считаю что их необходимо удалить"
      ]
    },
    {
      "cell_type": "code",
      "execution_count": null,
      "id": "e71d8312",
      "metadata": {
        "id": "e71d8312"
      },
      "outputs": [],
      "source": [
        "df = df.dropna(subset=['genre']) # удалю строки с nan в столбце genre т.к. они не представлют большого интереса"
      ]
    },
    {
      "cell_type": "code",
      "execution_count": null,
      "id": "a1f637f0",
      "metadata": {
        "id": "a1f637f0"
      },
      "outputs": [],
      "source": [
        "df = df.dropna(subset=['year_of_release']) # удалю строки с nan\n",
        "df['year_of_release'] = df['year_of_release'].astype('int64') # преобразую в int"
      ]
    },
    {
      "cell_type": "code",
      "execution_count": null,
      "id": "f205cbac",
      "metadata": {
        "id": "f205cbac"
      },
      "outputs": [],
      "source": [
        "# заменяю на среднее значение в зависимости от названия платформы и года выхода игры\n",
        "df['jp_sales'] = df['jp_sales'].fillna(df.groupby(['platform', 'year_of_release'])['jp_sales'].transform('mean'))"
      ]
    },
    {
      "cell_type": "code",
      "execution_count": null,
      "id": "c33c1696",
      "metadata": {
        "id": "c33c1696"
      },
      "outputs": [],
      "source": [
        "df['eu_sales'] = df['eu_sales'].fillna(df.groupby(['platform', 'year_of_release'])['eu_sales'].transform('mean'))"
      ]
    },
    {
      "cell_type": "code",
      "execution_count": null,
      "id": "a0274c1f",
      "metadata": {
        "id": "a0274c1f"
      },
      "outputs": [],
      "source": [
        "df['na_sales'] = df['na_sales'].fillna(df.groupby(['platform', 'year_of_release'])['na_sales'].transform('mean'))"
      ]
    },
    {
      "cell_type": "code",
      "execution_count": null,
      "id": "8400254f",
      "metadata": {
        "id": "8400254f",
        "outputId": "3935acd9-e226-4edb-8d2b-d27c85e84b29"
      },
      "outputs": [
        {
          "name": "stdout",
          "output_type": "stream",
          "text": [
            "<class 'pandas.core.frame.DataFrame'>\n",
            "Int64Index: 16679 entries, 0 to 16955\n",
            "Data columns (total 11 columns):\n",
            " #   Column           Non-Null Count  Dtype  \n",
            "---  ------           --------------  -----  \n",
            " 0   name             16679 non-null  object \n",
            " 1   platform         16679 non-null  object \n",
            " 2   year_of_release  16679 non-null  int64  \n",
            " 3   genre            16679 non-null  object \n",
            " 4   na_sales         16679 non-null  float64\n",
            " 5   eu_sales         16679 non-null  float64\n",
            " 6   jp_sales         16679 non-null  float64\n",
            " 7   other_sales      16679 non-null  float64\n",
            " 8   critic_score     8085 non-null   float64\n",
            " 9   user_score       7558 non-null   float64\n",
            " 10  rating           9901 non-null   object \n",
            "dtypes: float64(6), int64(1), object(4)\n",
            "memory usage: 1.5+ MB\n"
          ]
        }
      ],
      "source": [
        "df.info()"
      ]
    },
    {
      "cell_type": "markdown",
      "id": "bbbe3bda",
      "metadata": {
        "id": "bbbe3bda"
      },
      "source": [
        "- Обработайте пропущенные значения. Для каждого случая вы можете выбрать оптимальный, на ваш взгляд, вариант: заменить на определённое значение, оставить как есть или удалить.\n",
        "- Если вы решите заменить пропуски на значение-индикатор, то убедитесь, что предложенное значение не может быть использовано в данных.\n",
        "- Если вы нашли пропуски в данных с количеством проданных копий игры в том или ином регионе, их можно заменить на среднее значение в зависимости от названия платформы и года выхода игры."
      ]
    },
    {
      "cell_type": "code",
      "execution_count": null,
      "id": "2784c760",
      "metadata": {
        "id": "2784c760"
      },
      "outputs": [],
      "source": []
    },
    {
      "cell_type": "markdown",
      "id": "a63363fd",
      "metadata": {
        "id": "a63363fd"
      },
      "source": [
        "### 2.4. Явные и неявные дубликаты в данных\n",
        "\n",
        "- Изучите уникальные значения в категориальных данных, например с названиями жанра игры, платформы, рейтинга и года выпуска. Проверьте, встречаются ли среди данных неявные дубликаты, связанные с опечатками или разным способом написания.\n",
        "- При необходимости проведите нормализацию данных с текстовыми значениями. Названия или жанры игр можно привести к нижнему регистру, а названия рейтинга — к верхнему."
      ]
    },
    {
      "cell_type": "code",
      "execution_count": null,
      "id": "4a0b86b9",
      "metadata": {
        "id": "4a0b86b9",
        "outputId": "12878f18-597d-46c7-f67c-e2d0c941dc1b"
      },
      "outputs": [
        {
          "data": {
            "text/plain": [
              "array(['Sports', 'Platform', 'Racing', 'Role-Playing', 'Puzzle', 'Misc',\n",
              "       'Shooter', 'Simulation', 'Action', 'Fighting', 'Adventure',\n",
              "       'Strategy', 'MISC', 'ROLE-PLAYING', 'RACING', 'ACTION', 'SHOOTER',\n",
              "       'FIGHTING', 'SPORTS', 'PLATFORM', 'ADVENTURE', 'SIMULATION',\n",
              "       'PUZZLE', 'STRATEGY'], dtype=object)"
            ]
          },
          "execution_count": 23,
          "metadata": {},
          "output_type": "execute_result"
        }
      ],
      "source": [
        "unique_count = df['genre'].unique()\n",
        "unique_count"
      ]
    },
    {
      "cell_type": "markdown",
      "id": "5b60b849",
      "metadata": {
        "id": "5b60b849"
      },
      "source": [
        "имеются неявные дубликаты в столбце genre, будем приводить к нижнему регистру"
      ]
    },
    {
      "cell_type": "code",
      "execution_count": null,
      "id": "4dd4be7d",
      "metadata": {
        "id": "4dd4be7d"
      },
      "outputs": [],
      "source": [
        "df['genre'] = df['genre'].str.lower()"
      ]
    },
    {
      "cell_type": "code",
      "execution_count": null,
      "id": "c4b51f7a",
      "metadata": {
        "id": "c4b51f7a",
        "outputId": "13351fbb-d6bd-4c49-bcbf-25eb1f96f62d"
      },
      "outputs": [
        {
          "data": {
            "text/plain": [
              "array(['Wii', 'NES', 'GB', 'DS', 'X360', 'PS3', 'PS2', 'SNES', 'GBA',\n",
              "       'PS4', '3DS', 'N64', 'PS', 'XB', 'PC', '2600', 'PSP', 'XOne',\n",
              "       'WiiU', 'GC', 'GEN', 'DC', 'PSV', 'SAT', 'SCD', 'WS', 'NG', 'TG16',\n",
              "       '3DO', 'GG', 'PCFX'], dtype=object)"
            ]
          },
          "execution_count": 25,
          "metadata": {},
          "output_type": "execute_result"
        }
      ],
      "source": [
        "unique_count = df['platform'].unique()\n",
        "unique_count"
      ]
    },
    {
      "cell_type": "markdown",
      "id": "c93be4b7",
      "metadata": {
        "id": "c93be4b7"
      },
      "source": [
        "в столбце platform нет явных или неявных дубликатов"
      ]
    },
    {
      "cell_type": "code",
      "execution_count": null,
      "id": "baec678e",
      "metadata": {
        "id": "baec678e",
        "outputId": "eaa3cb44-2406-4389-9243-d6d73d1529f2"
      },
      "outputs": [
        {
          "data": {
            "text/plain": [
              "array(['E', nan, 'M', 'T', 'E10+', 'K-A', 'AO', 'EC', 'RP'], dtype=object)"
            ]
          },
          "execution_count": 26,
          "metadata": {},
          "output_type": "execute_result"
        }
      ],
      "source": [
        "unique_count = df['rating'].unique()\n",
        "unique_count"
      ]
    },
    {
      "cell_type": "markdown",
      "id": "6baaec2b",
      "metadata": {
        "id": "6baaec2b"
      },
      "source": [
        "в столбце rating имеется неявный дубликат K-A и E - это одинаковые рейтинги. K-A (Kids to Adults) - старый рейтинг, использовался до 1998 года, а E (Everyone) - современный эквивалент, введен в 1998 году. Приведу ка я их к единому рейтингу Е."
      ]
    },
    {
      "cell_type": "code",
      "execution_count": null,
      "id": "8bddcf01",
      "metadata": {
        "id": "8bddcf01"
      },
      "outputs": [],
      "source": [
        "df['rating'] = df['rating'].replace('K-A', 'E')"
      ]
    },
    {
      "cell_type": "code",
      "execution_count": null,
      "id": "b9377bd2",
      "metadata": {
        "id": "b9377bd2",
        "outputId": "003d4f3f-504e-4c4e-8bd8-13c0cb096b73"
      },
      "outputs": [
        {
          "data": {
            "text/plain": [
              "array(['E', nan, 'M', 'T', 'E10+', 'AO', 'EC', 'RP'], dtype=object)"
            ]
          },
          "execution_count": 28,
          "metadata": {},
          "output_type": "execute_result"
        }
      ],
      "source": [
        "unique_count = df['rating'].unique()\n",
        "unique_count"
      ]
    },
    {
      "cell_type": "code",
      "execution_count": null,
      "id": "3a94a013",
      "metadata": {
        "id": "3a94a013",
        "outputId": "e0edd466-59b9-4700-fcbc-277fb94e6756"
      },
      "outputs": [
        {
          "data": {
            "text/plain": [
              "array([2006, 1985, 2008, 2009, 1996, 1989, 1984, 2005, 1999, 2007, 2010,\n",
              "       2013, 2004, 1990, 1988, 2002, 2001, 2011, 1998, 2015, 2012, 2014,\n",
              "       1992, 1997, 1993, 1994, 1982, 2016, 2003, 1986, 2000, 1995, 1991,\n",
              "       1981, 1987, 1980, 1983])"
            ]
          },
          "execution_count": 29,
          "metadata": {},
          "output_type": "execute_result"
        }
      ],
      "source": [
        "unique_count = df['year_of_release'].unique()\n",
        "unique_count"
      ]
    },
    {
      "cell_type": "markdown",
      "id": "9643141e",
      "metadata": {
        "id": "9643141e"
      },
      "source": [
        "в столбце year_of_release нет явных или неявных дубликатов"
      ]
    },
    {
      "cell_type": "code",
      "execution_count": null,
      "id": "308da6f7",
      "metadata": {
        "id": "308da6f7"
      },
      "outputs": [],
      "source": []
    },
    {
      "cell_type": "markdown",
      "id": "5fd21c6a",
      "metadata": {
        "id": "5fd21c6a"
      },
      "source": [
        "- После того как нормализуете данные и устраните неявные дубликаты, проверьте наличие явных дубликатов в данных."
      ]
    },
    {
      "cell_type": "code",
      "execution_count": null,
      "id": "491c9c39",
      "metadata": {
        "id": "491c9c39",
        "outputId": "2c5d3838-cc7d-4251-d702-49b8a1fd6668"
      },
      "outputs": [
        {
          "data": {
            "text/plain": [
              "name               11426\n",
              "platform              31\n",
              "year_of_release       37\n",
              "genre                 12\n",
              "dtype: int64"
            ]
          },
          "execution_count": 30,
          "metadata": {},
          "output_type": "execute_result"
        }
      ],
      "source": [
        "nunique_count = df[['name', 'platform', 'year_of_release', 'genre']].nunique()\n",
        "nunique_count"
      ]
    },
    {
      "cell_type": "code",
      "execution_count": null,
      "id": "d65e58c1",
      "metadata": {
        "id": "d65e58c1",
        "outputId": "4f204cea-3790-4b1c-c816-1977a4e86576"
      },
      "outputs": [
        {
          "data": {
            "text/plain": [
              "235"
            ]
          },
          "execution_count": 31,
          "metadata": {},
          "output_type": "execute_result"
        }
      ],
      "source": [
        "df.duplicated().sum() # Перед удалением перепроверяю сколько у нас полных дубликатов"
      ]
    },
    {
      "cell_type": "markdown",
      "id": "8a463341",
      "metadata": {
        "id": "8a463341"
      },
      "source": [
        "Для определения явных дубликатов выделил 4 столбца для их поиска 'name', 'platform', 'year_of_release', 'genre'.\n",
        "Явные дубликаты считаю необходимым удалить для очищения данных."
      ]
    },
    {
      "cell_type": "code",
      "execution_count": null,
      "id": "f1627198",
      "metadata": {
        "id": "f1627198"
      },
      "outputs": [],
      "source": [
        "df = df.drop_duplicates(subset=['name', 'platform', 'year_of_release', 'genre'])"
      ]
    },
    {
      "cell_type": "code",
      "execution_count": null,
      "id": "9491fa3c",
      "metadata": {
        "id": "9491fa3c"
      },
      "outputs": [],
      "source": []
    },
    {
      "cell_type": "code",
      "execution_count": null,
      "id": "a0cac80c",
      "metadata": {
        "id": "a0cac80c",
        "outputId": "2b6d2c62-5510-4783-eb43-842682a06adc"
      },
      "outputs": [
        {
          "name": "stdout",
          "output_type": "stream",
          "text": [
            "<class 'pandas.core.frame.DataFrame'>\n",
            "Int64Index: 16443 entries, 0 to 16955\n",
            "Data columns (total 11 columns):\n",
            " #   Column           Non-Null Count  Dtype  \n",
            "---  ------           --------------  -----  \n",
            " 0   name             16443 non-null  object \n",
            " 1   platform         16443 non-null  object \n",
            " 2   year_of_release  16443 non-null  int64  \n",
            " 3   genre            16443 non-null  object \n",
            " 4   na_sales         16443 non-null  float64\n",
            " 5   eu_sales         16443 non-null  float64\n",
            " 6   jp_sales         16443 non-null  float64\n",
            " 7   other_sales      16443 non-null  float64\n",
            " 8   critic_score     7982 non-null   float64\n",
            " 9   user_score       7462 non-null   float64\n",
            " 10  rating           9767 non-null   object \n",
            "dtypes: float64(6), int64(1), object(4)\n",
            "memory usage: 1.5+ MB\n"
          ]
        }
      ],
      "source": [
        "df.info()"
      ]
    },
    {
      "cell_type": "code",
      "execution_count": null,
      "id": "0814c721",
      "metadata": {
        "id": "0814c721"
      },
      "outputs": [],
      "source": []
    },
    {
      "cell_type": "markdown",
      "id": "72645ae9",
      "metadata": {
        "id": "72645ae9"
      },
      "source": [
        "- В процессе подготовки данных вы могли что-либо удалять, например строки с пропусками или ошибками, дубликаты и прочее. В этом случае посчитайте количество удалённых строк в абсолютном и относительном значениях."
      ]
    },
    {
      "cell_type": "code",
      "execution_count": null,
      "id": "f9d8ee19",
      "metadata": {
        "id": "f9d8ee19",
        "outputId": "f068c26e-f8ef-42da-a844-b92ecea7ed6c"
      },
      "outputs": [
        {
          "data": {
            "text/plain": [
              "16443"
            ]
          },
          "execution_count": 34,
          "metadata": {},
          "output_type": "execute_result"
        }
      ],
      "source": [
        "final_rows  = df.shape[0] # Фиксирую колличество строк после очишения Датасета\n",
        "final_rows"
      ]
    },
    {
      "cell_type": "code",
      "execution_count": null,
      "id": "3d7a9d8e",
      "metadata": {
        "id": "3d7a9d8e",
        "outputId": "3e25b9a3-5c46-4f85-e886-fa47114aa6eb"
      },
      "outputs": [
        {
          "data": {
            "text/plain": [
              "513"
            ]
          },
          "execution_count": 35,
          "metadata": {},
          "output_type": "execute_result"
        }
      ],
      "source": [
        "del_rows = start_row - final_rows # Кол-во удаленных строк\n",
        "del_rows"
      ]
    },
    {
      "cell_type": "code",
      "execution_count": null,
      "id": "1e48a7ce",
      "metadata": {
        "id": "1e48a7ce",
        "outputId": "32f215b6-1cc0-4eea-f53a-fbc08b91e8b9"
      },
      "outputs": [
        {
          "data": {
            "text/plain": [
              "3.0254777070063694"
            ]
          },
          "execution_count": 36,
          "metadata": {},
          "output_type": "execute_result"
        }
      ],
      "source": [
        "doly_del_rows = del_rows / start_row * 100\n",
        "doly_del_rows"
      ]
    },
    {
      "cell_type": "markdown",
      "id": "8c4805de",
      "metadata": {
        "id": "8c4805de"
      },
      "source": [
        "В процессе предобработки данных были выявлены и устранены неявные и явные дубликаты, а также пропущенные значения. Все некорректные записи были либо удалены, либо приведены к единому среднему.\n",
        "\n",
        "Исходный датасет содержал 16956 записей. После очистки было удалено 513 строк, что составляет 3% от общего объема данных. Такой  процент потерь позволяет считать полученный датасет репрезентативным и готов для дальнейшего анализа.\n"
      ]
    },
    {
      "cell_type": "markdown",
      "id": "613f0eb0",
      "metadata": {
        "id": "613f0eb0"
      },
      "source": [
        "---\n",
        "\n",
        "## 3. Фильтрация данных\n",
        "\n",
        "Коллеги хотят изучить историю продаж игр в начале XXI века, и их интересует период с 2000 по 2013 год включительно. Отберите данные по этому показателю. Сохраните новый срез данных в отдельном датафрейме, например `df_actual`."
      ]
    },
    {
      "cell_type": "code",
      "execution_count": null,
      "id": "2344916d",
      "metadata": {
        "id": "2344916d"
      },
      "outputs": [],
      "source": [
        "df_actual = df[(df['year_of_release'] >= 2000) & (df['year_of_release'] <= 2013)]"
      ]
    },
    {
      "cell_type": "code",
      "execution_count": null,
      "id": "6423a90e",
      "metadata": {
        "id": "6423a90e",
        "outputId": "6d798bbc-e143-4e59-efaa-1379b3f77bf8"
      },
      "outputs": [
        {
          "data": {
            "text/plain": [
              "(2000, 2013)"
            ]
          },
          "execution_count": 38,
          "metadata": {},
          "output_type": "execute_result"
        }
      ],
      "source": [
        "df_actual['year_of_release'].min(), df_actual['year_of_release'].max()"
      ]
    },
    {
      "cell_type": "code",
      "execution_count": null,
      "id": "44d7529f",
      "metadata": {
        "id": "44d7529f",
        "outputId": "21806bd9-a766-497d-e258-fc7e1aeadd72"
      },
      "outputs": [
        {
          "name": "stdout",
          "output_type": "stream",
          "text": [
            "<class 'pandas.core.frame.DataFrame'>\n",
            "Int64Index: 12780 entries, 0 to 16954\n",
            "Data columns (total 11 columns):\n",
            " #   Column           Non-Null Count  Dtype  \n",
            "---  ------           --------------  -----  \n",
            " 0   name             12780 non-null  object \n",
            " 1   platform         12780 non-null  object \n",
            " 2   year_of_release  12780 non-null  int64  \n",
            " 3   genre            12780 non-null  object \n",
            " 4   na_sales         12780 non-null  float64\n",
            " 5   eu_sales         12780 non-null  float64\n",
            " 6   jp_sales         12780 non-null  float64\n",
            " 7   other_sales      12780 non-null  float64\n",
            " 8   critic_score     7168 non-null   float64\n",
            " 9   user_score       6482 non-null   float64\n",
            " 10  rating           8722 non-null   object \n",
            "dtypes: float64(6), int64(1), object(4)\n",
            "memory usage: 1.2+ MB\n"
          ]
        }
      ],
      "source": [
        "df_actual.info()"
      ]
    },
    {
      "cell_type": "markdown",
      "id": "a6f10b01",
      "metadata": {
        "id": "a6f10b01"
      },
      "source": [
        "---\n",
        "\n",
        "## 4. Категоризация данных\n",
        "    \n",
        "Проведите категоризацию данных:\n",
        "- Разделите все игры по оценкам пользователей и выделите такие категории: высокая оценка (от 8 до 10 включительно), средняя оценка (от 3 до 8, не включая правую границу интервала) и низкая оценка (от 0 до 3, не включая правую границу интервала)."
      ]
    },
    {
      "cell_type": "code",
      "execution_count": null,
      "id": "3db87229",
      "metadata": {
        "id": "3db87229"
      },
      "outputs": [],
      "source": [
        "def user_score_group(row):\n",
        "    x = row['user_score']\n",
        "    if x < 3:\n",
        "        return 'low_score'\n",
        "    elif x >= 3 and x < 8:\n",
        "        return 'avg_score'\n",
        "    elif x >= 8 and x <= 10:\n",
        "        return 'high_score'\n",
        "    else:\n",
        "        return 'unknown'"
      ]
    },
    {
      "cell_type": "code",
      "execution_count": null,
      "id": "9b0ca0f2",
      "metadata": {
        "id": "9b0ca0f2"
      },
      "outputs": [],
      "source": [
        "df_actual = df_actual.copy()\n",
        "df_actual['user_score_category'] = df_actual.apply(user_score_group, axis=1)"
      ]
    },
    {
      "cell_type": "code",
      "execution_count": null,
      "id": "35438bd6",
      "metadata": {
        "id": "35438bd6",
        "outputId": "c57222bd-f7ff-4937-92dc-f77382b004f3"
      },
      "outputs": [
        {
          "data": {
            "text/html": [
              "<div>\n",
              "<style scoped>\n",
              "    .dataframe tbody tr th:only-of-type {\n",
              "        vertical-align: middle;\n",
              "    }\n",
              "\n",
              "    .dataframe tbody tr th {\n",
              "        vertical-align: top;\n",
              "    }\n",
              "\n",
              "    .dataframe thead th {\n",
              "        text-align: right;\n",
              "    }\n",
              "</style>\n",
              "<table border=\"1\" class=\"dataframe\">\n",
              "  <thead>\n",
              "    <tr style=\"text-align: right;\">\n",
              "      <th></th>\n",
              "      <th>name</th>\n",
              "      <th>platform</th>\n",
              "      <th>year_of_release</th>\n",
              "      <th>genre</th>\n",
              "      <th>na_sales</th>\n",
              "      <th>eu_sales</th>\n",
              "      <th>jp_sales</th>\n",
              "      <th>other_sales</th>\n",
              "      <th>critic_score</th>\n",
              "      <th>user_score</th>\n",
              "      <th>rating</th>\n",
              "      <th>user_score_category</th>\n",
              "    </tr>\n",
              "  </thead>\n",
              "  <tbody>\n",
              "    <tr>\n",
              "      <th>0</th>\n",
              "      <td>Wii Sports</td>\n",
              "      <td>Wii</td>\n",
              "      <td>2006</td>\n",
              "      <td>sports</td>\n",
              "      <td>41.36</td>\n",
              "      <td>28.96</td>\n",
              "      <td>3.77</td>\n",
              "      <td>8.45</td>\n",
              "      <td>76.0</td>\n",
              "      <td>8.0</td>\n",
              "      <td>E</td>\n",
              "      <td>high_score</td>\n",
              "    </tr>\n",
              "    <tr>\n",
              "      <th>2</th>\n",
              "      <td>Mario Kart Wii</td>\n",
              "      <td>Wii</td>\n",
              "      <td>2008</td>\n",
              "      <td>racing</td>\n",
              "      <td>15.68</td>\n",
              "      <td>12.76</td>\n",
              "      <td>3.79</td>\n",
              "      <td>3.29</td>\n",
              "      <td>82.0</td>\n",
              "      <td>8.3</td>\n",
              "      <td>E</td>\n",
              "      <td>high_score</td>\n",
              "    </tr>\n",
              "    <tr>\n",
              "      <th>3</th>\n",
              "      <td>Wii Sports Resort</td>\n",
              "      <td>Wii</td>\n",
              "      <td>2009</td>\n",
              "      <td>sports</td>\n",
              "      <td>15.61</td>\n",
              "      <td>10.93</td>\n",
              "      <td>3.28</td>\n",
              "      <td>2.95</td>\n",
              "      <td>80.0</td>\n",
              "      <td>8.0</td>\n",
              "      <td>E</td>\n",
              "      <td>high_score</td>\n",
              "    </tr>\n",
              "    <tr>\n",
              "      <th>6</th>\n",
              "      <td>New Super Mario Bros.</td>\n",
              "      <td>DS</td>\n",
              "      <td>2006</td>\n",
              "      <td>platform</td>\n",
              "      <td>11.28</td>\n",
              "      <td>9.14</td>\n",
              "      <td>6.50</td>\n",
              "      <td>2.88</td>\n",
              "      <td>89.0</td>\n",
              "      <td>8.5</td>\n",
              "      <td>E</td>\n",
              "      <td>high_score</td>\n",
              "    </tr>\n",
              "    <tr>\n",
              "      <th>7</th>\n",
              "      <td>Wii Play</td>\n",
              "      <td>Wii</td>\n",
              "      <td>2006</td>\n",
              "      <td>misc</td>\n",
              "      <td>13.96</td>\n",
              "      <td>9.18</td>\n",
              "      <td>2.93</td>\n",
              "      <td>2.84</td>\n",
              "      <td>58.0</td>\n",
              "      <td>6.6</td>\n",
              "      <td>E</td>\n",
              "      <td>avg_score</td>\n",
              "    </tr>\n",
              "  </tbody>\n",
              "</table>\n",
              "</div>"
            ],
            "text/plain": [
              "                    name platform  year_of_release     genre  na_sales  \\\n",
              "0             Wii Sports      Wii             2006    sports     41.36   \n",
              "2         Mario Kart Wii      Wii             2008    racing     15.68   \n",
              "3      Wii Sports Resort      Wii             2009    sports     15.61   \n",
              "6  New Super Mario Bros.       DS             2006  platform     11.28   \n",
              "7               Wii Play      Wii             2006      misc     13.96   \n",
              "\n",
              "   eu_sales  jp_sales  other_sales  critic_score  user_score rating  \\\n",
              "0     28.96      3.77         8.45          76.0         8.0      E   \n",
              "2     12.76      3.79         3.29          82.0         8.3      E   \n",
              "3     10.93      3.28         2.95          80.0         8.0      E   \n",
              "6      9.14      6.50         2.88          89.0         8.5      E   \n",
              "7      9.18      2.93         2.84          58.0         6.6      E   \n",
              "\n",
              "  user_score_category  \n",
              "0          high_score  \n",
              "2          high_score  \n",
              "3          high_score  \n",
              "6          high_score  \n",
              "7           avg_score  "
            ]
          },
          "execution_count": 42,
          "metadata": {},
          "output_type": "execute_result"
        }
      ],
      "source": [
        "df_actual.head()"
      ]
    },
    {
      "cell_type": "markdown",
      "id": "f8f34b40",
      "metadata": {
        "id": "f8f34b40"
      },
      "source": [
        "- Разделите все игры по оценкам критиков и выделите такие категории: высокая оценка (от 80 до 100 включительно), средняя оценка (от 30 до 80, не включая правую границу интервала) и низкая оценка (от 0 до 30, не включая правую границу интервала)."
      ]
    },
    {
      "cell_type": "code",
      "execution_count": null,
      "id": "e3f7acb0",
      "metadata": {
        "id": "e3f7acb0"
      },
      "outputs": [],
      "source": [
        "def critic_score_group(row):\n",
        "    x = row['critic_score']\n",
        "    if x < 30:\n",
        "        return 'low_score'\n",
        "    elif x >= 30 and x < 80:\n",
        "        return 'avg_score'\n",
        "    elif x >= 80 and x <= 100:\n",
        "        return 'high_score'\n",
        "    else:\n",
        "        return 'unknown'"
      ]
    },
    {
      "cell_type": "code",
      "execution_count": null,
      "id": "548fde17",
      "metadata": {
        "id": "548fde17"
      },
      "outputs": [],
      "source": [
        "df_actual['critic_score_category'] = df_actual.apply(critic_score_group, axis=1)"
      ]
    },
    {
      "cell_type": "code",
      "execution_count": null,
      "id": "d136d06b",
      "metadata": {
        "id": "d136d06b",
        "outputId": "cd38b4f6-acb9-4892-aa27-2aa26406baee"
      },
      "outputs": [
        {
          "data": {
            "text/html": [
              "<div>\n",
              "<style scoped>\n",
              "    .dataframe tbody tr th:only-of-type {\n",
              "        vertical-align: middle;\n",
              "    }\n",
              "\n",
              "    .dataframe tbody tr th {\n",
              "        vertical-align: top;\n",
              "    }\n",
              "\n",
              "    .dataframe thead th {\n",
              "        text-align: right;\n",
              "    }\n",
              "</style>\n",
              "<table border=\"1\" class=\"dataframe\">\n",
              "  <thead>\n",
              "    <tr style=\"text-align: right;\">\n",
              "      <th></th>\n",
              "      <th>name</th>\n",
              "      <th>platform</th>\n",
              "      <th>year_of_release</th>\n",
              "      <th>genre</th>\n",
              "      <th>na_sales</th>\n",
              "      <th>eu_sales</th>\n",
              "      <th>jp_sales</th>\n",
              "      <th>other_sales</th>\n",
              "      <th>critic_score</th>\n",
              "      <th>user_score</th>\n",
              "      <th>rating</th>\n",
              "      <th>user_score_category</th>\n",
              "      <th>critic_score_category</th>\n",
              "    </tr>\n",
              "  </thead>\n",
              "  <tbody>\n",
              "    <tr>\n",
              "      <th>0</th>\n",
              "      <td>Wii Sports</td>\n",
              "      <td>Wii</td>\n",
              "      <td>2006</td>\n",
              "      <td>sports</td>\n",
              "      <td>41.36</td>\n",
              "      <td>28.96</td>\n",
              "      <td>3.77</td>\n",
              "      <td>8.45</td>\n",
              "      <td>76.0</td>\n",
              "      <td>8.0</td>\n",
              "      <td>E</td>\n",
              "      <td>high_score</td>\n",
              "      <td>avg_score</td>\n",
              "    </tr>\n",
              "    <tr>\n",
              "      <th>2</th>\n",
              "      <td>Mario Kart Wii</td>\n",
              "      <td>Wii</td>\n",
              "      <td>2008</td>\n",
              "      <td>racing</td>\n",
              "      <td>15.68</td>\n",
              "      <td>12.76</td>\n",
              "      <td>3.79</td>\n",
              "      <td>3.29</td>\n",
              "      <td>82.0</td>\n",
              "      <td>8.3</td>\n",
              "      <td>E</td>\n",
              "      <td>high_score</td>\n",
              "      <td>high_score</td>\n",
              "    </tr>\n",
              "    <tr>\n",
              "      <th>3</th>\n",
              "      <td>Wii Sports Resort</td>\n",
              "      <td>Wii</td>\n",
              "      <td>2009</td>\n",
              "      <td>sports</td>\n",
              "      <td>15.61</td>\n",
              "      <td>10.93</td>\n",
              "      <td>3.28</td>\n",
              "      <td>2.95</td>\n",
              "      <td>80.0</td>\n",
              "      <td>8.0</td>\n",
              "      <td>E</td>\n",
              "      <td>high_score</td>\n",
              "      <td>high_score</td>\n",
              "    </tr>\n",
              "    <tr>\n",
              "      <th>6</th>\n",
              "      <td>New Super Mario Bros.</td>\n",
              "      <td>DS</td>\n",
              "      <td>2006</td>\n",
              "      <td>platform</td>\n",
              "      <td>11.28</td>\n",
              "      <td>9.14</td>\n",
              "      <td>6.50</td>\n",
              "      <td>2.88</td>\n",
              "      <td>89.0</td>\n",
              "      <td>8.5</td>\n",
              "      <td>E</td>\n",
              "      <td>high_score</td>\n",
              "      <td>high_score</td>\n",
              "    </tr>\n",
              "    <tr>\n",
              "      <th>7</th>\n",
              "      <td>Wii Play</td>\n",
              "      <td>Wii</td>\n",
              "      <td>2006</td>\n",
              "      <td>misc</td>\n",
              "      <td>13.96</td>\n",
              "      <td>9.18</td>\n",
              "      <td>2.93</td>\n",
              "      <td>2.84</td>\n",
              "      <td>58.0</td>\n",
              "      <td>6.6</td>\n",
              "      <td>E</td>\n",
              "      <td>avg_score</td>\n",
              "      <td>avg_score</td>\n",
              "    </tr>\n",
              "    <tr>\n",
              "      <th>8</th>\n",
              "      <td>New Super Mario Bros. Wii</td>\n",
              "      <td>Wii</td>\n",
              "      <td>2009</td>\n",
              "      <td>platform</td>\n",
              "      <td>14.44</td>\n",
              "      <td>6.94</td>\n",
              "      <td>4.70</td>\n",
              "      <td>2.24</td>\n",
              "      <td>87.0</td>\n",
              "      <td>8.4</td>\n",
              "      <td>E</td>\n",
              "      <td>high_score</td>\n",
              "      <td>high_score</td>\n",
              "    </tr>\n",
              "    <tr>\n",
              "      <th>10</th>\n",
              "      <td>Nintendogs</td>\n",
              "      <td>DS</td>\n",
              "      <td>2005</td>\n",
              "      <td>simulation</td>\n",
              "      <td>9.05</td>\n",
              "      <td>10.95</td>\n",
              "      <td>1.93</td>\n",
              "      <td>2.74</td>\n",
              "      <td>NaN</td>\n",
              "      <td>NaN</td>\n",
              "      <td>NaN</td>\n",
              "      <td>unknown</td>\n",
              "      <td>unknown</td>\n",
              "    </tr>\n",
              "    <tr>\n",
              "      <th>11</th>\n",
              "      <td>Mario Kart DS</td>\n",
              "      <td>DS</td>\n",
              "      <td>2005</td>\n",
              "      <td>racing</td>\n",
              "      <td>9.71</td>\n",
              "      <td>7.47</td>\n",
              "      <td>4.13</td>\n",
              "      <td>1.90</td>\n",
              "      <td>91.0</td>\n",
              "      <td>8.6</td>\n",
              "      <td>E</td>\n",
              "      <td>high_score</td>\n",
              "      <td>high_score</td>\n",
              "    </tr>\n",
              "    <tr>\n",
              "      <th>13</th>\n",
              "      <td>Wii Fit</td>\n",
              "      <td>Wii</td>\n",
              "      <td>2007</td>\n",
              "      <td>sports</td>\n",
              "      <td>8.92</td>\n",
              "      <td>8.03</td>\n",
              "      <td>3.60</td>\n",
              "      <td>2.15</td>\n",
              "      <td>80.0</td>\n",
              "      <td>7.7</td>\n",
              "      <td>E</td>\n",
              "      <td>avg_score</td>\n",
              "      <td>high_score</td>\n",
              "    </tr>\n",
              "    <tr>\n",
              "      <th>14</th>\n",
              "      <td>Kinect Adventures!</td>\n",
              "      <td>X360</td>\n",
              "      <td>2010</td>\n",
              "      <td>misc</td>\n",
              "      <td>15.00</td>\n",
              "      <td>4.89</td>\n",
              "      <td>0.24</td>\n",
              "      <td>1.69</td>\n",
              "      <td>61.0</td>\n",
              "      <td>6.3</td>\n",
              "      <td>E</td>\n",
              "      <td>avg_score</td>\n",
              "      <td>avg_score</td>\n",
              "    </tr>\n",
              "    <tr>\n",
              "      <th>15</th>\n",
              "      <td>Wii Fit Plus</td>\n",
              "      <td>Wii</td>\n",
              "      <td>2009</td>\n",
              "      <td>sports</td>\n",
              "      <td>9.01</td>\n",
              "      <td>8.49</td>\n",
              "      <td>2.53</td>\n",
              "      <td>1.77</td>\n",
              "      <td>80.0</td>\n",
              "      <td>7.4</td>\n",
              "      <td>E</td>\n",
              "      <td>avg_score</td>\n",
              "      <td>high_score</td>\n",
              "    </tr>\n",
              "    <tr>\n",
              "      <th>16</th>\n",
              "      <td>Grand Theft Auto V</td>\n",
              "      <td>PS3</td>\n",
              "      <td>2013</td>\n",
              "      <td>action</td>\n",
              "      <td>7.02</td>\n",
              "      <td>9.09</td>\n",
              "      <td>0.98</td>\n",
              "      <td>3.96</td>\n",
              "      <td>97.0</td>\n",
              "      <td>8.2</td>\n",
              "      <td>M</td>\n",
              "      <td>high_score</td>\n",
              "      <td>high_score</td>\n",
              "    </tr>\n",
              "    <tr>\n",
              "      <th>17</th>\n",
              "      <td>Grand Theft Auto: San Andreas</td>\n",
              "      <td>PS2</td>\n",
              "      <td>2004</td>\n",
              "      <td>action</td>\n",
              "      <td>9.43</td>\n",
              "      <td>0.40</td>\n",
              "      <td>0.41</td>\n",
              "      <td>10.57</td>\n",
              "      <td>95.0</td>\n",
              "      <td>9.0</td>\n",
              "      <td>M</td>\n",
              "      <td>high_score</td>\n",
              "      <td>high_score</td>\n",
              "    </tr>\n",
              "    <tr>\n",
              "      <th>19</th>\n",
              "      <td>Brain Age: Train Your Brain in Minutes a Day</td>\n",
              "      <td>DS</td>\n",
              "      <td>2005</td>\n",
              "      <td>misc</td>\n",
              "      <td>4.74</td>\n",
              "      <td>9.20</td>\n",
              "      <td>4.16</td>\n",
              "      <td>2.04</td>\n",
              "      <td>77.0</td>\n",
              "      <td>7.9</td>\n",
              "      <td>E</td>\n",
              "      <td>avg_score</td>\n",
              "      <td>avg_score</td>\n",
              "    </tr>\n",
              "    <tr>\n",
              "      <th>20</th>\n",
              "      <td>Pokemon Diamond/Pokemon Pearl</td>\n",
              "      <td>DS</td>\n",
              "      <td>2006</td>\n",
              "      <td>role-playing</td>\n",
              "      <td>6.38</td>\n",
              "      <td>4.46</td>\n",
              "      <td>6.04</td>\n",
              "      <td>1.36</td>\n",
              "      <td>NaN</td>\n",
              "      <td>NaN</td>\n",
              "      <td>NaN</td>\n",
              "      <td>unknown</td>\n",
              "      <td>unknown</td>\n",
              "    </tr>\n",
              "    <tr>\n",
              "      <th>23</th>\n",
              "      <td>Grand Theft Auto V</td>\n",
              "      <td>X360</td>\n",
              "      <td>2013</td>\n",
              "      <td>action</td>\n",
              "      <td>9.66</td>\n",
              "      <td>5.14</td>\n",
              "      <td>0.06</td>\n",
              "      <td>1.41</td>\n",
              "      <td>97.0</td>\n",
              "      <td>8.1</td>\n",
              "      <td>M</td>\n",
              "      <td>high_score</td>\n",
              "      <td>high_score</td>\n",
              "    </tr>\n",
              "    <tr>\n",
              "      <th>24</th>\n",
              "      <td>Grand Theft Auto: Vice City</td>\n",
              "      <td>PS2</td>\n",
              "      <td>2002</td>\n",
              "      <td>action</td>\n",
              "      <td>8.41</td>\n",
              "      <td>5.49</td>\n",
              "      <td>0.47</td>\n",
              "      <td>1.78</td>\n",
              "      <td>95.0</td>\n",
              "      <td>8.7</td>\n",
              "      <td>M</td>\n",
              "      <td>high_score</td>\n",
              "      <td>high_score</td>\n",
              "    </tr>\n",
              "    <tr>\n",
              "      <th>25</th>\n",
              "      <td>Pokemon Ruby/Pokemon Sapphire</td>\n",
              "      <td>GBA</td>\n",
              "      <td>2002</td>\n",
              "      <td>role-playing</td>\n",
              "      <td>6.06</td>\n",
              "      <td>3.90</td>\n",
              "      <td>5.38</td>\n",
              "      <td>0.50</td>\n",
              "      <td>NaN</td>\n",
              "      <td>NaN</td>\n",
              "      <td>NaN</td>\n",
              "      <td>unknown</td>\n",
              "      <td>unknown</td>\n",
              "    </tr>\n",
              "    <tr>\n",
              "      <th>26</th>\n",
              "      <td>Brain Age 2: More Training in Minutes a Day</td>\n",
              "      <td>DS</td>\n",
              "      <td>2005</td>\n",
              "      <td>puzzle</td>\n",
              "      <td>3.43</td>\n",
              "      <td>5.35</td>\n",
              "      <td>5.32</td>\n",
              "      <td>1.18</td>\n",
              "      <td>77.0</td>\n",
              "      <td>7.1</td>\n",
              "      <td>E</td>\n",
              "      <td>avg_score</td>\n",
              "      <td>avg_score</td>\n",
              "    </tr>\n",
              "    <tr>\n",
              "      <th>27</th>\n",
              "      <td>Pokemon Black/Pokemon White</td>\n",
              "      <td>DS</td>\n",
              "      <td>2010</td>\n",
              "      <td>role-playing</td>\n",
              "      <td>5.51</td>\n",
              "      <td>3.17</td>\n",
              "      <td>5.65</td>\n",
              "      <td>0.80</td>\n",
              "      <td>NaN</td>\n",
              "      <td>NaN</td>\n",
              "      <td>NaN</td>\n",
              "      <td>unknown</td>\n",
              "      <td>unknown</td>\n",
              "    </tr>\n",
              "    <tr>\n",
              "      <th>28</th>\n",
              "      <td>Gran Turismo 3: A-Spec</td>\n",
              "      <td>PS2</td>\n",
              "      <td>2001</td>\n",
              "      <td>racing</td>\n",
              "      <td>6.85</td>\n",
              "      <td>5.09</td>\n",
              "      <td>1.87</td>\n",
              "      <td>1.16</td>\n",
              "      <td>95.0</td>\n",
              "      <td>8.4</td>\n",
              "      <td>E</td>\n",
              "      <td>high_score</td>\n",
              "      <td>high_score</td>\n",
              "    </tr>\n",
              "    <tr>\n",
              "      <th>29</th>\n",
              "      <td>Call of Duty: Modern Warfare 3</td>\n",
              "      <td>X360</td>\n",
              "      <td>2011</td>\n",
              "      <td>shooter</td>\n",
              "      <td>9.04</td>\n",
              "      <td>4.24</td>\n",
              "      <td>0.13</td>\n",
              "      <td>1.32</td>\n",
              "      <td>88.0</td>\n",
              "      <td>3.4</td>\n",
              "      <td>M</td>\n",
              "      <td>avg_score</td>\n",
              "      <td>high_score</td>\n",
              "    </tr>\n",
              "    <tr>\n",
              "      <th>32</th>\n",
              "      <td>Call of Duty: Black Ops</td>\n",
              "      <td>X360</td>\n",
              "      <td>2010</td>\n",
              "      <td>shooter</td>\n",
              "      <td>9.70</td>\n",
              "      <td>3.68</td>\n",
              "      <td>0.11</td>\n",
              "      <td>1.13</td>\n",
              "      <td>87.0</td>\n",
              "      <td>6.3</td>\n",
              "      <td>M</td>\n",
              "      <td>avg_score</td>\n",
              "      <td>high_score</td>\n",
              "    </tr>\n",
              "    <tr>\n",
              "      <th>33</th>\n",
              "      <td>Pokemon X/Pokemon Y</td>\n",
              "      <td>3DS</td>\n",
              "      <td>2013</td>\n",
              "      <td>role-playing</td>\n",
              "      <td>5.28</td>\n",
              "      <td>4.19</td>\n",
              "      <td>4.35</td>\n",
              "      <td>0.78</td>\n",
              "      <td>NaN</td>\n",
              "      <td>NaN</td>\n",
              "      <td>NaN</td>\n",
              "      <td>unknown</td>\n",
              "      <td>unknown</td>\n",
              "    </tr>\n",
              "    <tr>\n",
              "      <th>34</th>\n",
              "      <td>Call of Duty: Black Ops II</td>\n",
              "      <td>PS3</td>\n",
              "      <td>2012</td>\n",
              "      <td>shooter</td>\n",
              "      <td>4.99</td>\n",
              "      <td>5.73</td>\n",
              "      <td>0.65</td>\n",
              "      <td>2.42</td>\n",
              "      <td>83.0</td>\n",
              "      <td>5.3</td>\n",
              "      <td>M</td>\n",
              "      <td>avg_score</td>\n",
              "      <td>high_score</td>\n",
              "    </tr>\n",
              "    <tr>\n",
              "      <th>35</th>\n",
              "      <td>Call of Duty: Black Ops II</td>\n",
              "      <td>X360</td>\n",
              "      <td>2012</td>\n",
              "      <td>shooter</td>\n",
              "      <td>8.25</td>\n",
              "      <td>4.24</td>\n",
              "      <td>0.07</td>\n",
              "      <td>1.12</td>\n",
              "      <td>83.0</td>\n",
              "      <td>4.8</td>\n",
              "      <td>M</td>\n",
              "      <td>avg_score</td>\n",
              "      <td>high_score</td>\n",
              "    </tr>\n",
              "    <tr>\n",
              "      <th>36</th>\n",
              "      <td>Call of Duty: Modern Warfare 2</td>\n",
              "      <td>X360</td>\n",
              "      <td>2009</td>\n",
              "      <td>shooter</td>\n",
              "      <td>8.52</td>\n",
              "      <td>3.59</td>\n",
              "      <td>0.08</td>\n",
              "      <td>1.28</td>\n",
              "      <td>94.0</td>\n",
              "      <td>6.3</td>\n",
              "      <td>M</td>\n",
              "      <td>avg_score</td>\n",
              "      <td>high_score</td>\n",
              "    </tr>\n",
              "    <tr>\n",
              "      <th>37</th>\n",
              "      <td>Call of Duty: Modern Warfare 3</td>\n",
              "      <td>PS3</td>\n",
              "      <td>2011</td>\n",
              "      <td>shooter</td>\n",
              "      <td>5.54</td>\n",
              "      <td>5.73</td>\n",
              "      <td>0.49</td>\n",
              "      <td>1.57</td>\n",
              "      <td>88.0</td>\n",
              "      <td>3.2</td>\n",
              "      <td>M</td>\n",
              "      <td>avg_score</td>\n",
              "      <td>high_score</td>\n",
              "    </tr>\n",
              "  </tbody>\n",
              "</table>\n",
              "</div>"
            ],
            "text/plain": [
              "                                            name platform  year_of_release  \\\n",
              "0                                     Wii Sports      Wii             2006   \n",
              "2                                 Mario Kart Wii      Wii             2008   \n",
              "3                              Wii Sports Resort      Wii             2009   \n",
              "6                          New Super Mario Bros.       DS             2006   \n",
              "7                                       Wii Play      Wii             2006   \n",
              "8                      New Super Mario Bros. Wii      Wii             2009   \n",
              "10                                    Nintendogs       DS             2005   \n",
              "11                                 Mario Kart DS       DS             2005   \n",
              "13                                       Wii Fit      Wii             2007   \n",
              "14                            Kinect Adventures!     X360             2010   \n",
              "15                                  Wii Fit Plus      Wii             2009   \n",
              "16                            Grand Theft Auto V      PS3             2013   \n",
              "17                 Grand Theft Auto: San Andreas      PS2             2004   \n",
              "19  Brain Age: Train Your Brain in Minutes a Day       DS             2005   \n",
              "20                 Pokemon Diamond/Pokemon Pearl       DS             2006   \n",
              "23                            Grand Theft Auto V     X360             2013   \n",
              "24                   Grand Theft Auto: Vice City      PS2             2002   \n",
              "25                 Pokemon Ruby/Pokemon Sapphire      GBA             2002   \n",
              "26   Brain Age 2: More Training in Minutes a Day       DS             2005   \n",
              "27                   Pokemon Black/Pokemon White       DS             2010   \n",
              "28                        Gran Turismo 3: A-Spec      PS2             2001   \n",
              "29                Call of Duty: Modern Warfare 3     X360             2011   \n",
              "32                       Call of Duty: Black Ops     X360             2010   \n",
              "33                           Pokemon X/Pokemon Y      3DS             2013   \n",
              "34                    Call of Duty: Black Ops II      PS3             2012   \n",
              "35                    Call of Duty: Black Ops II     X360             2012   \n",
              "36                Call of Duty: Modern Warfare 2     X360             2009   \n",
              "37                Call of Duty: Modern Warfare 3      PS3             2011   \n",
              "\n",
              "           genre  na_sales  eu_sales  jp_sales  other_sales  critic_score  \\\n",
              "0         sports     41.36     28.96      3.77         8.45          76.0   \n",
              "2         racing     15.68     12.76      3.79         3.29          82.0   \n",
              "3         sports     15.61     10.93      3.28         2.95          80.0   \n",
              "6       platform     11.28      9.14      6.50         2.88          89.0   \n",
              "7           misc     13.96      9.18      2.93         2.84          58.0   \n",
              "8       platform     14.44      6.94      4.70         2.24          87.0   \n",
              "10    simulation      9.05     10.95      1.93         2.74           NaN   \n",
              "11        racing      9.71      7.47      4.13         1.90          91.0   \n",
              "13        sports      8.92      8.03      3.60         2.15          80.0   \n",
              "14          misc     15.00      4.89      0.24         1.69          61.0   \n",
              "15        sports      9.01      8.49      2.53         1.77          80.0   \n",
              "16        action      7.02      9.09      0.98         3.96          97.0   \n",
              "17        action      9.43      0.40      0.41        10.57          95.0   \n",
              "19          misc      4.74      9.20      4.16         2.04          77.0   \n",
              "20  role-playing      6.38      4.46      6.04         1.36           NaN   \n",
              "23        action      9.66      5.14      0.06         1.41          97.0   \n",
              "24        action      8.41      5.49      0.47         1.78          95.0   \n",
              "25  role-playing      6.06      3.90      5.38         0.50           NaN   \n",
              "26        puzzle      3.43      5.35      5.32         1.18          77.0   \n",
              "27  role-playing      5.51      3.17      5.65         0.80           NaN   \n",
              "28        racing      6.85      5.09      1.87         1.16          95.0   \n",
              "29       shooter      9.04      4.24      0.13         1.32          88.0   \n",
              "32       shooter      9.70      3.68      0.11         1.13          87.0   \n",
              "33  role-playing      5.28      4.19      4.35         0.78           NaN   \n",
              "34       shooter      4.99      5.73      0.65         2.42          83.0   \n",
              "35       shooter      8.25      4.24      0.07         1.12          83.0   \n",
              "36       shooter      8.52      3.59      0.08         1.28          94.0   \n",
              "37       shooter      5.54      5.73      0.49         1.57          88.0   \n",
              "\n",
              "    user_score rating user_score_category critic_score_category  \n",
              "0          8.0      E          high_score             avg_score  \n",
              "2          8.3      E          high_score            high_score  \n",
              "3          8.0      E          high_score            high_score  \n",
              "6          8.5      E          high_score            high_score  \n",
              "7          6.6      E           avg_score             avg_score  \n",
              "8          8.4      E          high_score            high_score  \n",
              "10         NaN    NaN             unknown               unknown  \n",
              "11         8.6      E          high_score            high_score  \n",
              "13         7.7      E           avg_score            high_score  \n",
              "14         6.3      E           avg_score             avg_score  \n",
              "15         7.4      E           avg_score            high_score  \n",
              "16         8.2      M          high_score            high_score  \n",
              "17         9.0      M          high_score            high_score  \n",
              "19         7.9      E           avg_score             avg_score  \n",
              "20         NaN    NaN             unknown               unknown  \n",
              "23         8.1      M          high_score            high_score  \n",
              "24         8.7      M          high_score            high_score  \n",
              "25         NaN    NaN             unknown               unknown  \n",
              "26         7.1      E           avg_score             avg_score  \n",
              "27         NaN    NaN             unknown               unknown  \n",
              "28         8.4      E          high_score            high_score  \n",
              "29         3.4      M           avg_score            high_score  \n",
              "32         6.3      M           avg_score            high_score  \n",
              "33         NaN    NaN             unknown               unknown  \n",
              "34         5.3      M           avg_score            high_score  \n",
              "35         4.8      M           avg_score            high_score  \n",
              "36         6.3      M           avg_score            high_score  \n",
              "37         3.2      M           avg_score            high_score  "
            ]
          },
          "execution_count": 45,
          "metadata": {},
          "output_type": "execute_result"
        }
      ],
      "source": [
        "df_actual.head(28)"
      ]
    },
    {
      "cell_type": "markdown",
      "id": "olkTlTlAUDR9",
      "metadata": {
        "id": "olkTlTlAUDR9"
      },
      "source": [
        "- После категоризации данных проверьте результат: сгруппируйте данные по выделенным категориям и посчитайте количество игр в каждой категории."
      ]
    },
    {
      "cell_type": "code",
      "execution_count": null,
      "id": "HW0Nsp-4UMSL",
      "metadata": {
        "id": "HW0Nsp-4UMSL",
        "outputId": "a93af909-f728-4fa6-87e6-abd7917cc05d"
      },
      "outputs": [
        {
          "data": {
            "text/plain": [
              "user_score_category\n",
              "avg_score     4080\n",
              "high_score    2286\n",
              "low_score      116\n",
              "unknown       6298\n",
              "Name: name, dtype: int64"
            ]
          },
          "execution_count": 46,
          "metadata": {},
          "output_type": "execute_result"
        }
      ],
      "source": [
        "user_score_group = df_actual.groupby('user_score_category')['name'].count()\n",
        "user_score_group"
      ]
    },
    {
      "cell_type": "code",
      "execution_count": null,
      "id": "x2ne0HIpUMMD",
      "metadata": {
        "id": "x2ne0HIpUMMD",
        "outputId": "5bcb0cf0-e225-4c05-a876-dd58d087cabc"
      },
      "outputs": [
        {
          "data": {
            "text/plain": [
              "critic_score_category\n",
              "avg_score     5422\n",
              "high_score    1691\n",
              "low_score       55\n",
              "unknown       5612\n",
              "Name: name, dtype: int64"
            ]
          },
          "execution_count": 47,
          "metadata": {},
          "output_type": "execute_result"
        }
      ],
      "source": [
        "critic_score_group = df_actual.groupby('critic_score_category')['name'].count()\n",
        "critic_score_group"
      ]
    },
    {
      "cell_type": "markdown",
      "id": "6a98444c",
      "metadata": {
        "id": "6a98444c"
      },
      "source": [
        "- Выделите топ-7 платформ по количеству игр, выпущенных за весь актуальный период."
      ]
    },
    {
      "cell_type": "code",
      "execution_count": null,
      "id": "003caa2c",
      "metadata": {
        "id": "003caa2c",
        "outputId": "7c3a0994-ec6b-443b-c3c7-4c0cc14b42b2"
      },
      "outputs": [
        {
          "data": {
            "text/plain": [
              "PS2     2127\n",
              "DS      2120\n",
              "Wii     1275\n",
              "PSP     1180\n",
              "X360    1121\n",
              "PS3     1086\n",
              "GBA      811\n",
              "Name: platform, dtype: int64"
            ]
          },
          "execution_count": 48,
          "metadata": {},
          "output_type": "execute_result"
        }
      ],
      "source": [
        "top_platforms = df_actual['platform'].value_counts().head(7)\n",
        "top_platforms"
      ]
    },
    {
      "cell_type": "markdown",
      "id": "c0158881",
      "metadata": {
        "id": "c0158881"
      },
      "source": [
        "---\n",
        "\n",
        "## 5. Итоговый вывод\n",
        "\n",
        "В конце напишите основной вывод и отразите, какую работу проделали. Не забудьте указать описание среза данных и новых полей, которые добавили в исходный датасет."
      ]
    },
    {
      "cell_type": "markdown",
      "id": "0af629d8",
      "metadata": {
        "id": "0af629d8"
      },
      "source": [
        "Для исследования игровой индустрии за период 2000-2013 годов была проведена проверка ошибок в данных и их предобработка, состоящая из следующие этапов:\n",
        "\n",
        "1. Названия, или метки, столбцов датафрейма\n",
        "Исходный датасет содержал 16,956 записей с информацией о играх, платформах, продажах и оценках\n",
        "\n",
        "Выявлены пропуски в ключевых столбцах: critic_score (51%), user_score (40%), rating (40%)\n",
        "\n",
        "2. Корректировка структуры данных\n",
        "Приведены названия столбцов к стилю snake_case\n",
        "\n",
        "Выполнено преобразование типов данных: годы выпуска к целочисленному типу, оценки к числовому формату\n",
        "\n",
        "Обработаны текстовые значения в числовые поля\n",
        "\n",
        "3. Наличие пропусков в данных\n",
        "\n",
        "Удалены строки с пропусками значений в годах выпуска игр 1,62 %\n",
        "\n",
        "Удалены незначительные пропуски в названиях игр и жанрах 0.01%\n",
        "\n",
        "Пропуски в данных с количеством проданных копий игры в том или ином регионе были заполнены средним значение в зависимости от названия платформы и года выхода игры\n",
        "\n",
        "Для оценок критиков и пользователей созданы отдельные категории для пропущенных значений \"unknown\"\n",
        "\n",
        "4. Явные и неявные дубликаты в данных\n",
        "Выявлены и исправлены неявные дубликаты в жанрах из-за разного регистра написания\n",
        "\n",
        "Удалены явные дубликаты сравнимые по столбцам 'name', 'platform', 'year_of_release', 'genre'\n",
        "\n",
        "Объединены исторические варианты рейтингов ESRB (K-A → E)\n",
        "\n",
        "Проверены уникальные значения платформ и годов выпуска на наличие дубликатов\n",
        "\n",
        "5. Фильтрация и категоризация данных\n",
        "Создан целевой датафрейм df_actual с играми за период 2000-2013 годов (12780  строк)\n",
        "\n",
        "Реализована категоризация оценок пользователей и критиков по трем уровням\n",
        "\n",
        "Выделен топ-7 платформ по количеству выпущенных игр."
      ]
    }
  ],
  "metadata": {
    "ExecuteTimeLog": [
      {
        "duration": 58,
        "start_time": "2025-09-22T04:45:55.587Z"
      },
      {
        "duration": 7,
        "start_time": "2025-09-22T04:46:01.328Z"
      },
      {
        "duration": 411,
        "start_time": "2025-09-22T04:46:32.665Z"
      },
      {
        "duration": 44,
        "start_time": "2025-09-22T04:46:34.660Z"
      },
      {
        "duration": 17,
        "start_time": "2025-09-22T04:46:37.458Z"
      },
      {
        "duration": 24,
        "start_time": "2025-09-22T04:47:23.799Z"
      },
      {
        "duration": 4,
        "start_time": "2025-09-22T04:47:44.947Z"
      },
      {
        "duration": 14,
        "start_time": "2025-09-22T04:47:58.459Z"
      },
      {
        "duration": 24,
        "start_time": "2025-09-22T04:48:48.639Z"
      },
      {
        "duration": 7,
        "start_time": "2025-09-22T04:51:19.539Z"
      },
      {
        "duration": 4,
        "start_time": "2025-09-22T04:51:29.267Z"
      },
      {
        "duration": 9,
        "start_time": "2025-09-22T04:51:53.341Z"
      },
      {
        "duration": 5,
        "start_time": "2025-09-22T04:52:04.152Z"
      },
      {
        "duration": 10,
        "start_time": "2025-09-22T04:52:47.080Z"
      },
      {
        "duration": 7,
        "start_time": "2025-09-22T04:53:48.553Z"
      },
      {
        "duration": 3,
        "start_time": "2025-09-22T04:54:00.799Z"
      },
      {
        "duration": 9,
        "start_time": "2025-09-22T04:54:27.126Z"
      },
      {
        "duration": 4,
        "start_time": "2025-09-22T04:54:51.306Z"
      },
      {
        "duration": 15,
        "start_time": "2025-09-22T04:55:32.218Z"
      },
      {
        "duration": 3,
        "start_time": "2025-09-22T05:00:52.738Z"
      },
      {
        "duration": 10,
        "start_time": "2025-09-22T05:04:45.465Z"
      },
      {
        "duration": 23,
        "start_time": "2025-09-22T05:05:32.417Z"
      },
      {
        "duration": 13,
        "start_time": "2025-09-22T05:10:44.385Z"
      },
      {
        "duration": 12,
        "start_time": "2025-09-22T05:12:25.640Z"
      },
      {
        "duration": 12,
        "start_time": "2025-09-22T05:13:10.517Z"
      },
      {
        "duration": 12,
        "start_time": "2025-09-22T05:14:05.538Z"
      },
      {
        "duration": 11,
        "start_time": "2025-09-22T05:17:54.441Z"
      },
      {
        "duration": 4,
        "start_time": "2025-09-22T05:51:07.260Z"
      },
      {
        "duration": 3,
        "start_time": "2025-09-22T05:51:57.119Z"
      },
      {
        "duration": 14,
        "start_time": "2025-09-22T05:52:15.319Z"
      },
      {
        "duration": 7,
        "start_time": "2025-09-22T05:54:48.786Z"
      },
      {
        "duration": 15,
        "start_time": "2025-09-22T05:55:03.302Z"
      },
      {
        "duration": 8,
        "start_time": "2025-09-22T05:55:33.746Z"
      },
      {
        "duration": 8,
        "start_time": "2025-09-22T05:55:36.466Z"
      },
      {
        "duration": 15,
        "start_time": "2025-09-22T05:55:54.747Z"
      },
      {
        "duration": 8,
        "start_time": "2025-09-22T05:57:23.762Z"
      },
      {
        "duration": 8,
        "start_time": "2025-09-22T05:58:12.437Z"
      },
      {
        "duration": 49,
        "start_time": "2025-09-22T05:59:26.367Z"
      },
      {
        "duration": 15,
        "start_time": "2025-09-22T05:59:28.858Z"
      },
      {
        "duration": 13,
        "start_time": "2025-09-22T05:59:34.742Z"
      },
      {
        "duration": 7,
        "start_time": "2025-09-22T05:59:50.167Z"
      },
      {
        "duration": 16,
        "start_time": "2025-09-22T05:59:51.890Z"
      },
      {
        "duration": 707,
        "start_time": "2025-09-22T06:00:43.171Z"
      },
      {
        "duration": 5,
        "start_time": "2025-09-22T06:01:08.272Z"
      },
      {
        "duration": 15,
        "start_time": "2025-09-22T06:01:18.567Z"
      },
      {
        "duration": 13,
        "start_time": "2025-09-22T06:01:49.246Z"
      },
      {
        "duration": 15,
        "start_time": "2025-09-22T06:01:51.693Z"
      },
      {
        "duration": 5,
        "start_time": "2025-09-22T06:02:13.846Z"
      },
      {
        "duration": 14,
        "start_time": "2025-09-22T06:02:33.174Z"
      },
      {
        "duration": 19,
        "start_time": "2025-09-22T06:03:46.075Z"
      },
      {
        "duration": 16,
        "start_time": "2025-09-22T06:03:47.767Z"
      },
      {
        "duration": 7,
        "start_time": "2025-09-22T06:04:48.592Z"
      },
      {
        "duration": 15,
        "start_time": "2025-09-22T06:04:49.962Z"
      },
      {
        "duration": 8,
        "start_time": "2025-09-22T06:05:09.529Z"
      },
      {
        "duration": 7,
        "start_time": "2025-09-22T06:05:10.791Z"
      },
      {
        "duration": 3,
        "start_time": "2025-09-22T06:05:38.835Z"
      },
      {
        "duration": 16,
        "start_time": "2025-09-22T06:05:40.527Z"
      },
      {
        "duration": 9,
        "start_time": "2025-09-22T06:11:51.406Z"
      },
      {
        "duration": 16,
        "start_time": "2025-09-22T06:13:11.307Z"
      },
      {
        "duration": 12,
        "start_time": "2025-09-22T06:14:12.409Z"
      },
      {
        "duration": 11,
        "start_time": "2025-09-22T06:15:19.782Z"
      },
      {
        "duration": 11,
        "start_time": "2025-09-22T06:15:21.923Z"
      },
      {
        "duration": 13,
        "start_time": "2025-09-22T06:23:09.289Z"
      },
      {
        "duration": 6,
        "start_time": "2025-09-22T06:23:32.762Z"
      },
      {
        "duration": 16,
        "start_time": "2025-09-22T06:23:46.193Z"
      },
      {
        "duration": 98,
        "start_time": "2025-09-22T06:24:38.519Z"
      },
      {
        "duration": 10,
        "start_time": "2025-09-22T06:24:46.932Z"
      },
      {
        "duration": 48,
        "start_time": "2025-09-22T07:55:46.020Z"
      },
      {
        "duration": 419,
        "start_time": "2025-09-22T07:55:54.009Z"
      },
      {
        "duration": 57,
        "start_time": "2025-09-22T07:55:56.145Z"
      },
      {
        "duration": 1127,
        "start_time": "2025-09-22T07:56:05.212Z"
      },
      {
        "duration": 1326,
        "start_time": "2025-09-22T07:56:08.137Z"
      },
      {
        "duration": 16,
        "start_time": "2025-09-22T07:56:46.710Z"
      },
      {
        "duration": 20,
        "start_time": "2025-09-22T07:56:56.840Z"
      },
      {
        "duration": 44,
        "start_time": "2025-09-22T07:57:14.671Z"
      },
      {
        "duration": 15,
        "start_time": "2025-09-22T07:57:15.482Z"
      },
      {
        "duration": 4,
        "start_time": "2025-09-22T07:57:15.662Z"
      },
      {
        "duration": 13,
        "start_time": "2025-09-22T07:57:15.870Z"
      },
      {
        "duration": 17,
        "start_time": "2025-09-22T07:57:16.062Z"
      },
      {
        "duration": 12,
        "start_time": "2025-09-22T07:57:16.225Z"
      },
      {
        "duration": 5,
        "start_time": "2025-09-22T07:57:17.742Z"
      },
      {
        "duration": 3,
        "start_time": "2025-09-22T07:57:18.962Z"
      },
      {
        "duration": 12,
        "start_time": "2025-09-22T07:57:21.949Z"
      },
      {
        "duration": 16,
        "start_time": "2025-09-22T07:57:24.033Z"
      },
      {
        "duration": 15,
        "start_time": "2025-09-22T07:57:27.355Z"
      },
      {
        "duration": 11,
        "start_time": "2025-09-22T07:59:20.685Z"
      },
      {
        "duration": 8,
        "start_time": "2025-09-22T07:59:38.782Z"
      },
      {
        "duration": 7,
        "start_time": "2025-09-22T07:59:54.152Z"
      },
      {
        "duration": 6,
        "start_time": "2025-09-22T08:00:11.435Z"
      },
      {
        "duration": 15,
        "start_time": "2025-09-22T08:00:13.263Z"
      },
      {
        "duration": 13,
        "start_time": "2025-09-22T08:00:25.550Z"
      },
      {
        "duration": 11,
        "start_time": "2025-09-22T08:01:00.744Z"
      },
      {
        "duration": 5,
        "start_time": "2025-09-22T08:01:33.783Z"
      },
      {
        "duration": 15,
        "start_time": "2025-09-22T08:01:35.123Z"
      },
      {
        "duration": 6,
        "start_time": "2025-09-22T08:01:48.822Z"
      },
      {
        "duration": 15,
        "start_time": "2025-09-22T08:01:49.986Z"
      },
      {
        "duration": 12,
        "start_time": "2025-09-22T08:03:41.100Z"
      },
      {
        "duration": 23,
        "start_time": "2025-09-22T08:21:26.110Z"
      },
      {
        "duration": 4,
        "start_time": "2025-09-22T08:22:51.888Z"
      },
      {
        "duration": 22,
        "start_time": "2025-09-22T08:22:53.310Z"
      },
      {
        "duration": 11,
        "start_time": "2025-09-22T08:23:44.795Z"
      },
      {
        "duration": 5,
        "start_time": "2025-09-22T08:23:56.200Z"
      },
      {
        "duration": 5,
        "start_time": "2025-09-22T08:23:58.089Z"
      },
      {
        "duration": 13,
        "start_time": "2025-09-22T08:24:00.847Z"
      },
      {
        "duration": 7,
        "start_time": "2025-09-22T08:26:58.855Z"
      },
      {
        "duration": 13,
        "start_time": "2025-09-22T08:27:24.888Z"
      },
      {
        "duration": 54,
        "start_time": "2025-09-22T08:27:58.869Z"
      },
      {
        "duration": 14,
        "start_time": "2025-09-22T08:28:00.810Z"
      },
      {
        "duration": 4,
        "start_time": "2025-09-22T08:28:09.213Z"
      },
      {
        "duration": 14,
        "start_time": "2025-09-22T08:28:11.822Z"
      },
      {
        "duration": 4,
        "start_time": "2025-09-22T08:28:54.935Z"
      },
      {
        "duration": 13,
        "start_time": "2025-09-22T08:28:55.656Z"
      },
      {
        "duration": 14,
        "start_time": "2025-09-22T08:29:25.529Z"
      },
      {
        "duration": 9,
        "start_time": "2025-09-22T08:30:06.538Z"
      },
      {
        "duration": 7,
        "start_time": "2025-09-22T08:30:27.079Z"
      },
      {
        "duration": 10,
        "start_time": "2025-09-22T08:30:43.071Z"
      },
      {
        "duration": 43,
        "start_time": "2025-09-22T08:31:51.999Z"
      },
      {
        "duration": 7,
        "start_time": "2025-09-22T08:31:57.084Z"
      },
      {
        "duration": 12,
        "start_time": "2025-09-22T08:32:11.939Z"
      },
      {
        "duration": 4,
        "start_time": "2025-09-22T08:32:25.010Z"
      },
      {
        "duration": 13,
        "start_time": "2025-09-22T08:32:29.109Z"
      },
      {
        "duration": 14,
        "start_time": "2025-09-22T08:32:33.049Z"
      },
      {
        "duration": 9,
        "start_time": "2025-09-22T08:32:47.350Z"
      },
      {
        "duration": 13,
        "start_time": "2025-09-22T08:32:51.909Z"
      },
      {
        "duration": 3,
        "start_time": "2025-09-22T08:36:23.729Z"
      },
      {
        "duration": 9,
        "start_time": "2025-09-22T08:36:27.841Z"
      },
      {
        "duration": 13,
        "start_time": "2025-09-22T08:36:31.151Z"
      },
      {
        "duration": 13,
        "start_time": "2025-09-22T08:36:34.977Z"
      },
      {
        "duration": 7,
        "start_time": "2025-09-22T09:05:51.433Z"
      },
      {
        "duration": 751,
        "start_time": "2025-09-22T09:05:53.033Z"
      },
      {
        "duration": 230,
        "start_time": "2025-09-22T09:12:30.021Z"
      },
      {
        "duration": 10,
        "start_time": "2025-09-22T09:15:54.459Z"
      },
      {
        "duration": 14,
        "start_time": "2025-09-22T09:16:33.185Z"
      },
      {
        "duration": 7,
        "start_time": "2025-09-22T09:18:09.072Z"
      },
      {
        "duration": 13,
        "start_time": "2025-09-22T09:18:12.440Z"
      },
      {
        "duration": 13,
        "start_time": "2025-09-22T09:18:15.904Z"
      },
      {
        "duration": 206,
        "start_time": "2025-09-22T09:18:56.947Z"
      },
      {
        "duration": 8,
        "start_time": "2025-09-22T09:21:31.932Z"
      },
      {
        "duration": 12,
        "start_time": "2025-09-22T09:21:41.459Z"
      },
      {
        "duration": 13,
        "start_time": "2025-09-22T09:21:46.632Z"
      },
      {
        "duration": 7,
        "start_time": "2025-09-22T09:21:53.613Z"
      },
      {
        "duration": 15,
        "start_time": "2025-09-22T09:21:55.491Z"
      },
      {
        "duration": 8,
        "start_time": "2025-09-22T09:22:41.471Z"
      },
      {
        "duration": 14,
        "start_time": "2025-09-22T09:22:43.551Z"
      },
      {
        "duration": 7,
        "start_time": "2025-09-22T09:23:11.990Z"
      },
      {
        "duration": 13,
        "start_time": "2025-09-22T09:23:13.748Z"
      },
      {
        "duration": 13,
        "start_time": "2025-09-22T09:24:44.073Z"
      },
      {
        "duration": 13,
        "start_time": "2025-09-22T09:25:00.193Z"
      },
      {
        "duration": 6,
        "start_time": "2025-09-22T09:44:04.921Z"
      },
      {
        "duration": 13,
        "start_time": "2025-09-22T09:44:07.121Z"
      },
      {
        "duration": 7,
        "start_time": "2025-09-22T09:45:33.480Z"
      },
      {
        "duration": 13,
        "start_time": "2025-09-22T09:45:36.079Z"
      },
      {
        "duration": 7,
        "start_time": "2025-09-22T09:47:43.985Z"
      },
      {
        "duration": 13,
        "start_time": "2025-09-22T09:47:45.961Z"
      },
      {
        "duration": 47,
        "start_time": "2025-09-22T09:52:10.385Z"
      },
      {
        "duration": 346,
        "start_time": "2025-09-22T09:52:19.702Z"
      },
      {
        "duration": 58,
        "start_time": "2025-09-22T09:52:21.080Z"
      },
      {
        "duration": 17,
        "start_time": "2025-09-22T09:52:22.479Z"
      },
      {
        "duration": 8,
        "start_time": "2025-09-22T09:52:26.288Z"
      },
      {
        "duration": 23,
        "start_time": "2025-09-22T09:52:27.546Z"
      },
      {
        "duration": 13,
        "start_time": "2025-09-22T09:52:29.561Z"
      },
      {
        "duration": 14,
        "start_time": "2025-09-22T09:52:32.220Z"
      },
      {
        "duration": 4,
        "start_time": "2025-09-22T09:52:36.059Z"
      },
      {
        "duration": 4,
        "start_time": "2025-09-22T09:52:38.352Z"
      },
      {
        "duration": 14,
        "start_time": "2025-09-22T09:52:39.758Z"
      },
      {
        "duration": 17,
        "start_time": "2025-09-22T09:52:48.992Z"
      },
      {
        "duration": 34,
        "start_time": "2025-09-22T09:53:00.111Z"
      },
      {
        "duration": 4,
        "start_time": "2025-09-22T09:53:03.866Z"
      },
      {
        "duration": 5,
        "start_time": "2025-09-22T09:53:06.427Z"
      },
      {
        "duration": 15,
        "start_time": "2025-09-22T09:53:08.938Z"
      },
      {
        "duration": 5,
        "start_time": "2025-09-22T09:53:19.425Z"
      },
      {
        "duration": 7,
        "start_time": "2025-09-22T09:53:21.018Z"
      },
      {
        "duration": 4,
        "start_time": "2025-09-22T09:53:23.106Z"
      },
      {
        "duration": 5,
        "start_time": "2025-09-22T09:53:24.119Z"
      },
      {
        "duration": 4,
        "start_time": "2025-09-22T09:53:25.661Z"
      },
      {
        "duration": 7,
        "start_time": "2025-09-22T09:53:27.152Z"
      },
      {
        "duration": 16,
        "start_time": "2025-09-22T09:53:35.625Z"
      },
      {
        "duration": 87,
        "start_time": "2025-09-22T09:53:41.879Z"
      },
      {
        "duration": 7,
        "start_time": "2025-09-22T09:53:50.689Z"
      },
      {
        "duration": 13,
        "start_time": "2025-09-22T09:53:53.040Z"
      },
      {
        "duration": 6,
        "start_time": "2025-09-22T09:54:24.801Z"
      },
      {
        "duration": 9,
        "start_time": "2025-09-22T09:54:43.679Z"
      },
      {
        "duration": 9,
        "start_time": "2025-09-22T09:55:22.961Z"
      },
      {
        "duration": 13,
        "start_time": "2025-09-22T09:55:27.314Z"
      },
      {
        "duration": 9,
        "start_time": "2025-09-22T09:55:40.466Z"
      },
      {
        "duration": 42,
        "start_time": "2025-09-22T09:59:41.499Z"
      },
      {
        "duration": 5,
        "start_time": "2025-09-22T09:59:47.480Z"
      },
      {
        "duration": 14,
        "start_time": "2025-09-22T10:00:00.914Z"
      },
      {
        "duration": 14,
        "start_time": "2025-09-22T10:00:18.221Z"
      },
      {
        "duration": 6,
        "start_time": "2025-09-22T10:06:03.785Z"
      },
      {
        "duration": 4,
        "start_time": "2025-09-22T10:06:26.161Z"
      },
      {
        "duration": 14,
        "start_time": "2025-09-22T10:06:30.828Z"
      },
      {
        "duration": 4,
        "start_time": "2025-09-22T10:06:40.289Z"
      },
      {
        "duration": 3,
        "start_time": "2025-09-22T10:06:50.920Z"
      },
      {
        "duration": 13,
        "start_time": "2025-09-22T10:06:54.441Z"
      },
      {
        "duration": 4,
        "start_time": "2025-09-22T10:08:04.905Z"
      },
      {
        "duration": 4,
        "start_time": "2025-09-22T10:08:06.426Z"
      },
      {
        "duration": 4,
        "start_time": "2025-09-22T10:08:07.364Z"
      },
      {
        "duration": 6,
        "start_time": "2025-09-22T10:08:08.836Z"
      },
      {
        "duration": 14,
        "start_time": "2025-09-22T10:08:10.361Z"
      },
      {
        "duration": 8,
        "start_time": "2025-09-22T10:08:29.422Z"
      },
      {
        "duration": 14,
        "start_time": "2025-09-22T10:08:31.625Z"
      },
      {
        "duration": 14,
        "start_time": "2025-09-22T10:08:47.880Z"
      },
      {
        "duration": 7,
        "start_time": "2025-09-22T10:10:20.962Z"
      },
      {
        "duration": 14,
        "start_time": "2025-09-22T10:10:23.320Z"
      },
      {
        "duration": 7,
        "start_time": "2025-09-22T10:10:45.445Z"
      },
      {
        "duration": 14,
        "start_time": "2025-09-22T10:10:46.198Z"
      },
      {
        "duration": 8,
        "start_time": "2025-09-22T10:11:38.868Z"
      },
      {
        "duration": 12,
        "start_time": "2025-09-22T10:11:40.281Z"
      },
      {
        "duration": 7,
        "start_time": "2025-09-22T10:15:43.182Z"
      },
      {
        "duration": 15,
        "start_time": "2025-09-22T10:15:45.261Z"
      },
      {
        "duration": 7,
        "start_time": "2025-09-22T10:16:13.561Z"
      },
      {
        "duration": 14,
        "start_time": "2025-09-22T10:16:14.262Z"
      },
      {
        "duration": 6,
        "start_time": "2025-09-22T10:18:21.003Z"
      },
      {
        "duration": 14,
        "start_time": "2025-09-22T10:18:23.401Z"
      },
      {
        "duration": 7,
        "start_time": "2025-09-22T10:18:35.921Z"
      },
      {
        "duration": 14,
        "start_time": "2025-09-22T10:18:38.421Z"
      },
      {
        "duration": 13,
        "start_time": "2025-09-22T10:18:40.379Z"
      },
      {
        "duration": 14,
        "start_time": "2025-09-22T10:20:51.700Z"
      },
      {
        "duration": 13,
        "start_time": "2025-09-22T10:21:00.677Z"
      },
      {
        "duration": 54,
        "start_time": "2025-09-22T10:23:00.581Z"
      },
      {
        "duration": 7,
        "start_time": "2025-09-22T10:23:15.820Z"
      },
      {
        "duration": 14,
        "start_time": "2025-09-22T10:23:17.660Z"
      },
      {
        "duration": 13,
        "start_time": "2025-09-22T10:23:20.539Z"
      },
      {
        "duration": 14,
        "start_time": "2025-09-22T10:30:49.981Z"
      },
      {
        "duration": 7,
        "start_time": "2025-09-22T10:31:41.163Z"
      },
      {
        "duration": 14,
        "start_time": "2025-09-22T10:31:44.322Z"
      },
      {
        "duration": 373,
        "start_time": "2025-09-22T10:34:09.577Z"
      },
      {
        "duration": 56,
        "start_time": "2025-09-22T10:34:10.982Z"
      },
      {
        "duration": 17,
        "start_time": "2025-09-22T10:34:12.742Z"
      },
      {
        "duration": 10,
        "start_time": "2025-09-22T10:34:13.443Z"
      },
      {
        "duration": 15,
        "start_time": "2025-09-22T10:34:14.149Z"
      },
      {
        "duration": 11,
        "start_time": "2025-09-22T10:34:14.762Z"
      },
      {
        "duration": 13,
        "start_time": "2025-09-22T10:34:15.443Z"
      },
      {
        "duration": 4,
        "start_time": "2025-09-22T10:34:20.430Z"
      },
      {
        "duration": 3,
        "start_time": "2025-09-22T10:34:21.502Z"
      },
      {
        "duration": 13,
        "start_time": "2025-09-22T10:34:22.300Z"
      },
      {
        "duration": 5,
        "start_time": "2025-09-22T10:34:26.242Z"
      },
      {
        "duration": 6,
        "start_time": "2025-09-22T10:34:31.104Z"
      },
      {
        "duration": 4,
        "start_time": "2025-09-22T10:34:31.622Z"
      },
      {
        "duration": 7,
        "start_time": "2025-09-22T10:34:32.044Z"
      },
      {
        "duration": 4,
        "start_time": "2025-09-22T10:34:32.501Z"
      },
      {
        "duration": 5,
        "start_time": "2025-09-22T10:34:32.920Z"
      },
      {
        "duration": 3,
        "start_time": "2025-09-22T10:34:33.502Z"
      },
      {
        "duration": 9,
        "start_time": "2025-09-22T10:34:33.861Z"
      },
      {
        "duration": 4,
        "start_time": "2025-09-22T10:34:34.381Z"
      },
      {
        "duration": 4,
        "start_time": "2025-09-22T10:34:34.821Z"
      },
      {
        "duration": 3,
        "start_time": "2025-09-22T10:34:35.281Z"
      },
      {
        "duration": 4,
        "start_time": "2025-09-22T10:34:35.962Z"
      },
      {
        "duration": 9,
        "start_time": "2025-09-22T10:34:38.201Z"
      },
      {
        "duration": 17,
        "start_time": "2025-09-22T10:34:39.961Z"
      },
      {
        "duration": 14,
        "start_time": "2025-09-22T10:34:42.518Z"
      },
      {
        "duration": 14,
        "start_time": "2025-09-22T10:34:47.521Z"
      },
      {
        "duration": 6,
        "start_time": "2025-09-22T10:39:50.351Z"
      },
      {
        "duration": 9,
        "start_time": "2025-09-22T10:39:59.421Z"
      },
      {
        "duration": 4,
        "start_time": "2025-09-22T10:46:52.270Z"
      },
      {
        "duration": 5,
        "start_time": "2025-09-22T10:49:35.066Z"
      },
      {
        "duration": 15,
        "start_time": "2025-09-22T10:56:14.508Z"
      },
      {
        "duration": 7,
        "start_time": "2025-09-22T10:56:20.090Z"
      },
      {
        "duration": 13,
        "start_time": "2025-09-22T10:56:24.210Z"
      },
      {
        "duration": 57,
        "start_time": "2025-09-22T11:03:39.343Z"
      },
      {
        "duration": 17,
        "start_time": "2025-09-22T11:04:04.831Z"
      },
      {
        "duration": 15,
        "start_time": "2025-09-22T11:04:12.485Z"
      },
      {
        "duration": 15,
        "start_time": "2025-09-22T11:04:34.003Z"
      },
      {
        "duration": 62,
        "start_time": "2025-09-22T11:05:29.664Z"
      },
      {
        "duration": 8,
        "start_time": "2025-09-22T11:05:33.826Z"
      },
      {
        "duration": 14,
        "start_time": "2025-09-22T11:05:36.491Z"
      },
      {
        "duration": 10,
        "start_time": "2025-09-22T11:06:23.369Z"
      },
      {
        "duration": 68,
        "start_time": "2025-09-22T11:07:27.882Z"
      },
      {
        "duration": 4,
        "start_time": "2025-09-22T11:07:38.582Z"
      },
      {
        "duration": 14,
        "start_time": "2025-09-22T11:07:43.465Z"
      },
      {
        "duration": 15,
        "start_time": "2025-09-22T11:07:48.483Z"
      },
      {
        "duration": 3,
        "start_time": "2025-09-22T11:08:02.262Z"
      },
      {
        "duration": 15,
        "start_time": "2025-09-22T11:08:08.012Z"
      },
      {
        "duration": 10,
        "start_time": "2025-09-22T11:08:20.164Z"
      },
      {
        "duration": 413,
        "start_time": "2025-09-22T11:11:53.502Z"
      },
      {
        "duration": 50,
        "start_time": "2025-09-22T11:11:54.671Z"
      },
      {
        "duration": 17,
        "start_time": "2025-09-22T11:11:57.046Z"
      },
      {
        "duration": 8,
        "start_time": "2025-09-22T11:11:59.383Z"
      },
      {
        "duration": 16,
        "start_time": "2025-09-22T11:12:01.140Z"
      },
      {
        "duration": 13,
        "start_time": "2025-09-22T11:12:04.428Z"
      },
      {
        "duration": 14,
        "start_time": "2025-09-22T11:12:07.237Z"
      },
      {
        "duration": 4,
        "start_time": "2025-09-22T11:12:12.636Z"
      },
      {
        "duration": 4,
        "start_time": "2025-09-22T11:12:14.198Z"
      },
      {
        "duration": 13,
        "start_time": "2025-09-22T11:12:15.566Z"
      },
      {
        "duration": 5,
        "start_time": "2025-09-22T11:12:35.222Z"
      },
      {
        "duration": 6,
        "start_time": "2025-09-22T11:12:36.485Z"
      },
      {
        "duration": 4,
        "start_time": "2025-09-22T11:12:37.666Z"
      },
      {
        "duration": 6,
        "start_time": "2025-09-22T11:12:38.694Z"
      },
      {
        "duration": 5,
        "start_time": "2025-09-22T11:12:40.371Z"
      },
      {
        "duration": 5,
        "start_time": "2025-09-22T11:12:41.303Z"
      },
      {
        "duration": 4,
        "start_time": "2025-09-22T11:12:45.062Z"
      },
      {
        "duration": 7,
        "start_time": "2025-09-22T11:13:05.804Z"
      },
      {
        "duration": 11,
        "start_time": "2025-09-22T11:13:13.824Z"
      },
      {
        "duration": 16,
        "start_time": "2025-09-22T11:13:16.830Z"
      },
      {
        "duration": 11,
        "start_time": "2025-09-22T11:13:27.237Z"
      },
      {
        "duration": 5,
        "start_time": "2025-09-22T11:14:01.399Z"
      },
      {
        "duration": 17,
        "start_time": "2025-09-22T11:14:04.284Z"
      },
      {
        "duration": 400,
        "start_time": "2025-09-22T11:15:04.603Z"
      },
      {
        "duration": 55,
        "start_time": "2025-09-22T11:15:05.751Z"
      },
      {
        "duration": 17,
        "start_time": "2025-09-22T11:15:07.622Z"
      },
      {
        "duration": 9,
        "start_time": "2025-09-22T11:15:10.743Z"
      },
      {
        "duration": 16,
        "start_time": "2025-09-22T11:15:12.115Z"
      },
      {
        "duration": 11,
        "start_time": "2025-09-22T11:15:23.989Z"
      },
      {
        "duration": 14,
        "start_time": "2025-09-22T11:15:25.843Z"
      },
      {
        "duration": 4,
        "start_time": "2025-09-22T11:15:32.572Z"
      },
      {
        "duration": 3,
        "start_time": "2025-09-22T11:15:33.905Z"
      },
      {
        "duration": 13,
        "start_time": "2025-09-22T11:15:35.424Z"
      },
      {
        "duration": 4,
        "start_time": "2025-09-22T11:15:52.834Z"
      },
      {
        "duration": 6,
        "start_time": "2025-09-22T11:15:54.083Z"
      },
      {
        "duration": 4,
        "start_time": "2025-09-22T11:15:54.944Z"
      },
      {
        "duration": 7,
        "start_time": "2025-09-22T11:15:55.583Z"
      },
      {
        "duration": 5,
        "start_time": "2025-09-22T11:15:56.365Z"
      },
      {
        "duration": 5,
        "start_time": "2025-09-22T11:15:57.065Z"
      },
      {
        "duration": 3,
        "start_time": "2025-09-22T11:15:57.825Z"
      },
      {
        "duration": 57,
        "start_time": "2025-09-22T11:18:28.132Z"
      },
      {
        "duration": 69,
        "start_time": "2025-09-22T11:18:37.093Z"
      },
      {
        "duration": 6,
        "start_time": "2025-09-22T11:20:16.643Z"
      },
      {
        "duration": 7,
        "start_time": "2025-09-22T11:20:21.924Z"
      },
      {
        "duration": 10,
        "start_time": "2025-09-22T11:20:33.641Z"
      },
      {
        "duration": 8,
        "start_time": "2025-09-22T11:20:47.263Z"
      },
      {
        "duration": 11,
        "start_time": "2025-09-22T11:21:40.630Z"
      },
      {
        "duration": 414,
        "start_time": "2025-09-22T11:25:15.342Z"
      },
      {
        "duration": 57,
        "start_time": "2025-09-22T11:25:16.403Z"
      },
      {
        "duration": 25,
        "start_time": "2025-09-22T11:25:17.582Z"
      },
      {
        "duration": 9,
        "start_time": "2025-09-22T11:25:19.872Z"
      },
      {
        "duration": 15,
        "start_time": "2025-09-22T11:25:20.842Z"
      },
      {
        "duration": 11,
        "start_time": "2025-09-22T11:25:23.591Z"
      },
      {
        "duration": 14,
        "start_time": "2025-09-22T11:25:27.144Z"
      },
      {
        "duration": 4,
        "start_time": "2025-09-22T11:25:58.203Z"
      },
      {
        "duration": 4,
        "start_time": "2025-09-22T11:25:59.710Z"
      },
      {
        "duration": 19,
        "start_time": "2025-09-22T11:26:00.958Z"
      },
      {
        "duration": 4,
        "start_time": "2025-09-22T11:26:04.871Z"
      },
      {
        "duration": 5,
        "start_time": "2025-09-22T11:26:05.824Z"
      },
      {
        "duration": 4,
        "start_time": "2025-09-22T11:26:06.723Z"
      },
      {
        "duration": 9,
        "start_time": "2025-09-22T11:26:07.578Z"
      },
      {
        "duration": 5,
        "start_time": "2025-09-22T11:26:08.384Z"
      },
      {
        "duration": 5,
        "start_time": "2025-09-22T11:26:09.131Z"
      },
      {
        "duration": 3,
        "start_time": "2025-09-22T11:26:09.991Z"
      },
      {
        "duration": 246,
        "start_time": "2025-09-22T11:27:07.588Z"
      },
      {
        "duration": 7,
        "start_time": "2025-09-22T11:28:54.146Z"
      },
      {
        "duration": 11,
        "start_time": "2025-09-22T11:28:58.806Z"
      },
      {
        "duration": 16,
        "start_time": "2025-09-22T11:30:02.823Z"
      },
      {
        "duration": 7,
        "start_time": "2025-09-22T11:31:07.104Z"
      },
      {
        "duration": 14,
        "start_time": "2025-09-22T11:31:08.249Z"
      },
      {
        "duration": 6,
        "start_time": "2025-09-22T11:31:56.476Z"
      },
      {
        "duration": 14,
        "start_time": "2025-09-22T11:31:58.096Z"
      },
      {
        "duration": 7,
        "start_time": "2025-09-22T11:32:23.546Z"
      },
      {
        "duration": 14,
        "start_time": "2025-09-22T11:32:24.917Z"
      },
      {
        "duration": 8,
        "start_time": "2025-09-22T11:32:37.936Z"
      },
      {
        "duration": 13,
        "start_time": "2025-09-22T11:32:39.036Z"
      },
      {
        "duration": 7,
        "start_time": "2025-09-22T11:33:50.800Z"
      },
      {
        "duration": 14,
        "start_time": "2025-09-22T11:33:51.959Z"
      },
      {
        "duration": 7,
        "start_time": "2025-09-22T11:34:07.148Z"
      },
      {
        "duration": 14,
        "start_time": "2025-09-22T11:34:08.857Z"
      },
      {
        "duration": 11,
        "start_time": "2025-09-22T11:34:37.356Z"
      },
      {
        "duration": 14,
        "start_time": "2025-09-22T11:41:04.382Z"
      },
      {
        "duration": 15,
        "start_time": "2025-09-22T11:41:54.423Z"
      },
      {
        "duration": 49,
        "start_time": "2025-09-22T11:42:51.362Z"
      },
      {
        "duration": 16,
        "start_time": "2025-09-22T11:42:53.762Z"
      },
      {
        "duration": 6,
        "start_time": "2025-09-22T11:43:04.083Z"
      },
      {
        "duration": 13,
        "start_time": "2025-09-22T11:43:07.611Z"
      },
      {
        "duration": 7,
        "start_time": "2025-09-22T11:45:16.092Z"
      },
      {
        "duration": 9,
        "start_time": "2025-09-22T11:45:17.722Z"
      },
      {
        "duration": 7,
        "start_time": "2025-09-22T11:46:19.006Z"
      },
      {
        "duration": 3,
        "start_time": "2025-09-22T11:47:43.052Z"
      },
      {
        "duration": 3,
        "start_time": "2025-09-22T11:47:43.883Z"
      },
      {
        "duration": 11,
        "start_time": "2025-09-22T11:47:59.194Z"
      },
      {
        "duration": 10,
        "start_time": "2025-09-22T11:48:01.684Z"
      },
      {
        "duration": 8,
        "start_time": "2025-09-22T11:48:11.265Z"
      },
      {
        "duration": 14,
        "start_time": "2025-09-22T11:48:13.110Z"
      },
      {
        "duration": 426,
        "start_time": "2025-09-22T11:49:27.205Z"
      },
      {
        "duration": 47,
        "start_time": "2025-09-22T11:49:32.385Z"
      },
      {
        "duration": 18,
        "start_time": "2025-09-22T11:49:34.136Z"
      },
      {
        "duration": 8,
        "start_time": "2025-09-22T11:49:36.637Z"
      },
      {
        "duration": 15,
        "start_time": "2025-09-22T11:49:37.737Z"
      },
      {
        "duration": 12,
        "start_time": "2025-09-22T11:49:40.058Z"
      },
      {
        "duration": 13,
        "start_time": "2025-09-22T11:49:41.945Z"
      },
      {
        "duration": 4,
        "start_time": "2025-09-22T11:49:46.367Z"
      },
      {
        "duration": 4,
        "start_time": "2025-09-22T11:49:48.146Z"
      },
      {
        "duration": 14,
        "start_time": "2025-09-22T11:49:49.966Z"
      },
      {
        "duration": 5,
        "start_time": "2025-09-22T11:50:11.100Z"
      },
      {
        "duration": 70,
        "start_time": "2025-09-22T11:50:12.018Z"
      },
      {
        "duration": 375,
        "start_time": "2025-09-22T11:51:39.671Z"
      },
      {
        "duration": 46,
        "start_time": "2025-09-22T11:51:40.603Z"
      },
      {
        "duration": 17,
        "start_time": "2025-09-22T11:51:42.270Z"
      },
      {
        "duration": 8,
        "start_time": "2025-09-22T11:51:44.243Z"
      },
      {
        "duration": 16,
        "start_time": "2025-09-22T11:51:45.194Z"
      },
      {
        "duration": 12,
        "start_time": "2025-09-22T11:51:47.804Z"
      },
      {
        "duration": 13,
        "start_time": "2025-09-22T11:51:49.284Z"
      },
      {
        "duration": 4,
        "start_time": "2025-09-22T11:51:53.432Z"
      },
      {
        "duration": 4,
        "start_time": "2025-09-22T11:51:54.711Z"
      },
      {
        "duration": 16,
        "start_time": "2025-09-22T11:51:55.653Z"
      },
      {
        "duration": 5,
        "start_time": "2025-09-22T11:51:58.309Z"
      },
      {
        "duration": 6,
        "start_time": "2025-09-22T11:52:01.459Z"
      },
      {
        "duration": 4,
        "start_time": "2025-09-22T11:52:02.773Z"
      },
      {
        "duration": 6,
        "start_time": "2025-09-22T11:52:03.564Z"
      },
      {
        "duration": 3,
        "start_time": "2025-09-22T11:52:04.452Z"
      },
      {
        "duration": 3,
        "start_time": "2025-09-22T11:52:05.329Z"
      },
      {
        "duration": 4,
        "start_time": "2025-09-22T11:52:06.765Z"
      },
      {
        "duration": 5,
        "start_time": "2025-09-22T11:52:07.485Z"
      },
      {
        "duration": 4,
        "start_time": "2025-09-22T11:52:08.260Z"
      },
      {
        "duration": 7,
        "start_time": "2025-09-22T11:52:10.312Z"
      },
      {
        "duration": 7,
        "start_time": "2025-09-22T11:52:11.065Z"
      },
      {
        "duration": 7,
        "start_time": "2025-09-22T11:52:11.863Z"
      },
      {
        "duration": 16,
        "start_time": "2025-09-22T11:52:16.086Z"
      },
      {
        "duration": 15,
        "start_time": "2025-09-22T11:52:22.323Z"
      },
      {
        "duration": 411,
        "start_time": "2025-09-22T14:14:48.415Z"
      },
      {
        "duration": 68,
        "start_time": "2025-09-22T14:14:49.623Z"
      },
      {
        "duration": 17,
        "start_time": "2025-09-22T14:14:51.815Z"
      },
      {
        "duration": 9,
        "start_time": "2025-09-22T14:14:55.062Z"
      },
      {
        "duration": 16,
        "start_time": "2025-09-22T14:14:56.263Z"
      },
      {
        "duration": 19,
        "start_time": "2025-09-22T14:14:58.238Z"
      },
      {
        "duration": 14,
        "start_time": "2025-09-22T14:15:01.342Z"
      },
      {
        "duration": 4,
        "start_time": "2025-09-22T14:15:07.485Z"
      },
      {
        "duration": 4,
        "start_time": "2025-09-22T14:15:09.126Z"
      },
      {
        "duration": 14,
        "start_time": "2025-09-22T14:15:10.975Z"
      },
      {
        "duration": 5,
        "start_time": "2025-09-22T14:15:15.022Z"
      },
      {
        "duration": 6,
        "start_time": "2025-09-22T14:15:15.957Z"
      },
      {
        "duration": 5,
        "start_time": "2025-09-22T14:15:16.789Z"
      },
      {
        "duration": 7,
        "start_time": "2025-09-22T14:15:17.510Z"
      },
      {
        "duration": 3,
        "start_time": "2025-09-22T14:15:18.342Z"
      },
      {
        "duration": 3,
        "start_time": "2025-09-22T14:15:18.982Z"
      },
      {
        "duration": 6,
        "start_time": "2025-09-22T14:15:19.766Z"
      },
      {
        "duration": 6,
        "start_time": "2025-09-22T14:15:20.469Z"
      },
      {
        "duration": 4,
        "start_time": "2025-09-22T14:15:21.237Z"
      },
      {
        "duration": 7,
        "start_time": "2025-09-22T14:15:26.325Z"
      },
      {
        "duration": 7,
        "start_time": "2025-09-22T14:15:27.093Z"
      },
      {
        "duration": 8,
        "start_time": "2025-09-22T14:15:27.957Z"
      },
      {
        "duration": 15,
        "start_time": "2025-09-22T14:28:29.412Z"
      },
      {
        "duration": 10,
        "start_time": "2025-09-22T14:28:56.803Z"
      },
      {
        "duration": 10,
        "start_time": "2025-09-22T14:29:13.891Z"
      },
      {
        "duration": 9,
        "start_time": "2025-09-22T15:23:00.016Z"
      },
      {
        "duration": 909,
        "start_time": "2025-09-22T15:23:26.575Z"
      },
      {
        "duration": 9,
        "start_time": "2025-09-22T15:23:31.528Z"
      },
      {
        "duration": 9,
        "start_time": "2025-09-22T15:24:02.366Z"
      },
      {
        "duration": 9,
        "start_time": "2025-09-22T15:24:38.966Z"
      },
      {
        "duration": 9,
        "start_time": "2025-09-22T15:24:57.773Z"
      },
      {
        "duration": 16,
        "start_time": "2025-09-22T15:25:31.245Z"
      },
      {
        "duration": 15,
        "start_time": "2025-09-22T15:25:41.814Z"
      },
      {
        "duration": 22,
        "start_time": "2025-09-22T15:26:18.117Z"
      },
      {
        "duration": 9,
        "start_time": "2025-09-22T15:26:47.468Z"
      },
      {
        "duration": 26,
        "start_time": "2025-09-22T15:27:01.221Z"
      },
      {
        "duration": 9,
        "start_time": "2025-09-22T15:27:15.412Z"
      },
      {
        "duration": 9,
        "start_time": "2025-09-22T15:27:30.332Z"
      },
      {
        "duration": 5,
        "start_time": "2025-09-22T15:27:54.419Z"
      },
      {
        "duration": 4,
        "start_time": "2025-09-22T15:28:38.011Z"
      },
      {
        "duration": 5,
        "start_time": "2025-09-22T15:28:49.666Z"
      },
      {
        "duration": 9,
        "start_time": "2025-09-22T15:30:16.921Z"
      },
      {
        "duration": 10,
        "start_time": "2025-09-22T15:30:28.129Z"
      },
      {
        "duration": 22,
        "start_time": "2025-09-22T15:30:41.881Z"
      },
      {
        "duration": 35,
        "start_time": "2025-09-22T15:30:48.137Z"
      },
      {
        "duration": 16,
        "start_time": "2025-09-22T15:31:05.417Z"
      },
      {
        "duration": 713,
        "start_time": "2025-09-22T15:40:35.842Z"
      },
      {
        "duration": 7,
        "start_time": "2025-09-22T15:41:45.633Z"
      },
      {
        "duration": 7,
        "start_time": "2025-09-22T15:42:10.336Z"
      },
      {
        "duration": 20,
        "start_time": "2025-09-22T15:43:10.391Z"
      },
      {
        "duration": 7,
        "start_time": "2025-09-22T15:45:17.229Z"
      },
      {
        "duration": 5,
        "start_time": "2025-09-22T15:45:29.309Z"
      },
      {
        "duration": 364,
        "start_time": "2025-09-22T15:48:04.759Z"
      },
      {
        "duration": 66,
        "start_time": "2025-09-22T15:48:05.495Z"
      },
      {
        "duration": 18,
        "start_time": "2025-09-22T15:48:06.886Z"
      },
      {
        "duration": 9,
        "start_time": "2025-09-22T15:48:07.678Z"
      },
      {
        "duration": 15,
        "start_time": "2025-09-22T15:48:08.918Z"
      },
      {
        "duration": 12,
        "start_time": "2025-09-22T15:48:09.478Z"
      },
      {
        "duration": 14,
        "start_time": "2025-09-22T15:48:10.054Z"
      },
      {
        "duration": 4,
        "start_time": "2025-09-22T15:48:13.574Z"
      },
      {
        "duration": 4,
        "start_time": "2025-09-22T15:48:14.151Z"
      },
      {
        "duration": 18,
        "start_time": "2025-09-22T15:48:14.959Z"
      },
      {
        "duration": 7,
        "start_time": "2025-09-22T15:48:16.230Z"
      },
      {
        "duration": 8,
        "start_time": "2025-09-22T15:48:16.678Z"
      },
      {
        "duration": 4,
        "start_time": "2025-09-22T15:48:17.119Z"
      },
      {
        "duration": 3,
        "start_time": "2025-09-22T15:48:19.182Z"
      },
      {
        "duration": 3,
        "start_time": "2025-09-22T15:48:20.495Z"
      },
      {
        "duration": 19,
        "start_time": "2025-09-22T15:48:21.246Z"
      },
      {
        "duration": 9,
        "start_time": "2025-09-22T15:48:32.574Z"
      },
      {
        "duration": 7,
        "start_time": "2025-09-22T15:49:06.350Z"
      },
      {
        "duration": 4,
        "start_time": "2025-09-22T15:50:18.757Z"
      },
      {
        "duration": 7,
        "start_time": "2025-09-22T15:50:21.676Z"
      },
      {
        "duration": 8,
        "start_time": "2025-09-22T15:50:44.413Z"
      },
      {
        "duration": 7,
        "start_time": "2025-09-22T15:50:53.220Z"
      },
      {
        "duration": 8,
        "start_time": "2025-09-22T15:51:08.132Z"
      },
      {
        "duration": 6,
        "start_time": "2025-09-22T15:51:16.564Z"
      },
      {
        "duration": 382,
        "start_time": "2025-09-22T15:56:03.850Z"
      },
      {
        "duration": 55,
        "start_time": "2025-09-22T15:56:04.322Z"
      },
      {
        "duration": 17,
        "start_time": "2025-09-22T15:56:05.601Z"
      },
      {
        "duration": 9,
        "start_time": "2025-09-22T15:56:06.114Z"
      },
      {
        "duration": 16,
        "start_time": "2025-09-22T15:56:06.682Z"
      },
      {
        "duration": 13,
        "start_time": "2025-09-22T15:56:07.226Z"
      },
      {
        "duration": 14,
        "start_time": "2025-09-22T15:56:07.786Z"
      },
      {
        "duration": 4,
        "start_time": "2025-09-22T15:56:11.562Z"
      },
      {
        "duration": 4,
        "start_time": "2025-09-22T15:56:12.298Z"
      },
      {
        "duration": 14,
        "start_time": "2025-09-22T15:56:13.130Z"
      },
      {
        "duration": 8,
        "start_time": "2025-09-22T15:56:14.753Z"
      },
      {
        "duration": 11,
        "start_time": "2025-09-22T15:56:15.509Z"
      },
      {
        "duration": 4,
        "start_time": "2025-09-22T15:56:16.354Z"
      },
      {
        "duration": 14,
        "start_time": "2025-09-22T15:56:37.264Z"
      },
      {
        "duration": 74,
        "start_time": "2025-09-22T15:57:06.991Z"
      },
      {
        "duration": 5,
        "start_time": "2025-09-22T15:57:10.943Z"
      },
      {
        "duration": 16,
        "start_time": "2025-09-22T15:57:12.582Z"
      },
      {
        "duration": 7,
        "start_time": "2025-09-22T15:58:33.758Z"
      },
      {
        "duration": 7,
        "start_time": "2025-09-22T15:58:34.461Z"
      },
      {
        "duration": 7,
        "start_time": "2025-09-22T15:58:34.989Z"
      },
      {
        "duration": 11,
        "start_time": "2025-09-22T15:58:37.022Z"
      },
      {
        "duration": 12,
        "start_time": "2025-09-22T15:58:43.510Z"
      },
      {
        "duration": 7,
        "start_time": "2025-09-22T15:59:33.733Z"
      },
      {
        "duration": 19,
        "start_time": "2025-09-22T16:00:12.237Z"
      },
      {
        "duration": 7,
        "start_time": "2025-09-22T16:01:12.964Z"
      },
      {
        "duration": 11,
        "start_time": "2025-09-22T16:02:21.986Z"
      },
      {
        "duration": 7,
        "start_time": "2025-09-22T16:02:58.626Z"
      },
      {
        "duration": 4,
        "start_time": "2025-09-22T16:04:35.600Z"
      },
      {
        "duration": 8,
        "start_time": "2025-09-22T16:04:38.552Z"
      },
      {
        "duration": 20,
        "start_time": "2025-09-22T16:04:50.281Z"
      },
      {
        "duration": 4,
        "start_time": "2025-09-22T16:05:16.720Z"
      },
      {
        "duration": 8,
        "start_time": "2025-09-22T16:05:19.592Z"
      },
      {
        "duration": 20,
        "start_time": "2025-09-22T16:05:22.544Z"
      },
      {
        "duration": 5,
        "start_time": "2025-09-22T16:05:47.071Z"
      },
      {
        "duration": 15,
        "start_time": "2025-09-22T16:06:07.191Z"
      },
      {
        "duration": 4,
        "start_time": "2025-09-22T16:06:40.111Z"
      },
      {
        "duration": 8,
        "start_time": "2025-09-22T16:06:41.534Z"
      },
      {
        "duration": 5,
        "start_time": "2025-09-22T16:06:46.486Z"
      },
      {
        "duration": 20,
        "start_time": "2025-09-22T16:06:48.407Z"
      },
      {
        "duration": 4,
        "start_time": "2025-09-22T16:06:59.542Z"
      },
      {
        "duration": 7,
        "start_time": "2025-09-22T16:07:00.558Z"
      },
      {
        "duration": 5,
        "start_time": "2025-09-22T16:08:20.893Z"
      },
      {
        "duration": 7,
        "start_time": "2025-09-22T16:08:23.613Z"
      },
      {
        "duration": 19,
        "start_time": "2025-09-22T16:08:29.677Z"
      },
      {
        "duration": 4,
        "start_time": "2025-09-22T16:10:16.772Z"
      },
      {
        "duration": 7,
        "start_time": "2025-09-22T16:10:17.907Z"
      },
      {
        "duration": 6,
        "start_time": "2025-09-22T16:10:21.707Z"
      },
      {
        "duration": 7,
        "start_time": "2025-09-22T16:10:24.907Z"
      },
      {
        "duration": 4,
        "start_time": "2025-09-22T16:10:59.683Z"
      },
      {
        "duration": 6,
        "start_time": "2025-09-22T16:11:01.763Z"
      },
      {
        "duration": 5,
        "start_time": "2025-09-22T16:11:08.978Z"
      },
      {
        "duration": 19,
        "start_time": "2025-09-22T16:11:12.419Z"
      },
      {
        "duration": 434,
        "start_time": "2025-09-22T16:45:27.308Z"
      },
      {
        "duration": 44,
        "start_time": "2025-09-22T16:45:28.139Z"
      },
      {
        "duration": 17,
        "start_time": "2025-09-22T16:45:30.156Z"
      },
      {
        "duration": 9,
        "start_time": "2025-09-22T16:45:30.819Z"
      },
      {
        "duration": 17,
        "start_time": "2025-09-22T16:45:31.483Z"
      },
      {
        "duration": 12,
        "start_time": "2025-09-22T16:45:32.044Z"
      },
      {
        "duration": 15,
        "start_time": "2025-09-22T16:45:32.627Z"
      },
      {
        "duration": 4,
        "start_time": "2025-09-22T16:45:37.011Z"
      },
      {
        "duration": 4,
        "start_time": "2025-09-22T16:45:37.675Z"
      },
      {
        "duration": 14,
        "start_time": "2025-09-22T16:45:38.563Z"
      },
      {
        "duration": 7,
        "start_time": "2025-09-22T16:45:39.987Z"
      },
      {
        "duration": 8,
        "start_time": "2025-09-22T16:45:40.779Z"
      },
      {
        "duration": 4,
        "start_time": "2025-09-22T16:45:42.867Z"
      },
      {
        "duration": 2,
        "start_time": "2025-09-22T16:45:43.435Z"
      },
      {
        "duration": 5,
        "start_time": "2025-09-22T16:45:43.955Z"
      },
      {
        "duration": 18,
        "start_time": "2025-09-22T16:45:44.698Z"
      },
      {
        "duration": 7,
        "start_time": "2025-09-22T16:45:48.554Z"
      },
      {
        "duration": 7,
        "start_time": "2025-09-22T16:45:49.283Z"
      },
      {
        "duration": 8,
        "start_time": "2025-09-22T16:45:49.890Z"
      },
      {
        "duration": 12,
        "start_time": "2025-09-22T16:45:52.835Z"
      },
      {
        "duration": 12,
        "start_time": "2025-09-22T16:45:54.156Z"
      },
      {
        "duration": 5,
        "start_time": "2025-09-22T16:45:55.874Z"
      },
      {
        "duration": 8,
        "start_time": "2025-09-22T16:46:01.258Z"
      },
      {
        "duration": 6,
        "start_time": "2025-09-22T16:46:03.298Z"
      },
      {
        "duration": 19,
        "start_time": "2025-09-22T16:46:07.676Z"
      },
      {
        "duration": 5,
        "start_time": "2025-09-22T16:47:11.943Z"
      },
      {
        "duration": 20,
        "start_time": "2025-09-22T16:47:18.816Z"
      },
      {
        "duration": 5,
        "start_time": "2025-09-22T16:47:36.223Z"
      },
      {
        "duration": 8,
        "start_time": "2025-09-22T16:48:02.152Z"
      },
      {
        "duration": 8,
        "start_time": "2025-09-22T16:48:07.910Z"
      },
      {
        "duration": 24,
        "start_time": "2025-09-22T16:49:27.006Z"
      },
      {
        "duration": 18,
        "start_time": "2025-09-22T16:49:45.701Z"
      },
      {
        "duration": 13,
        "start_time": "2025-09-22T16:50:45.301Z"
      },
      {
        "duration": 10,
        "start_time": "2025-09-22T16:50:52.252Z"
      },
      {
        "duration": 9,
        "start_time": "2025-09-22T16:51:12.126Z"
      },
      {
        "duration": 9,
        "start_time": "2025-09-22T16:51:17.780Z"
      },
      {
        "duration": 9,
        "start_time": "2025-09-22T16:51:29.060Z"
      },
      {
        "duration": 13,
        "start_time": "2025-09-22T16:51:51.868Z"
      },
      {
        "duration": 7,
        "start_time": "2025-09-22T16:56:35.144Z"
      },
      {
        "duration": 16,
        "start_time": "2025-09-22T16:56:42.703Z"
      },
      {
        "duration": 70,
        "start_time": "2025-09-22T17:02:23.570Z"
      },
      {
        "duration": 3,
        "start_time": "2025-09-22T17:03:29.657Z"
      },
      {
        "duration": 6,
        "start_time": "2025-09-22T17:03:35.937Z"
      },
      {
        "duration": 6,
        "start_time": "2025-09-22T17:04:13.497Z"
      },
      {
        "duration": 6,
        "start_time": "2025-09-22T17:04:28.360Z"
      },
      {
        "duration": 7,
        "start_time": "2025-09-22T17:04:54.440Z"
      },
      {
        "duration": 15,
        "start_time": "2025-09-22T17:05:51.039Z"
      },
      {
        "duration": 12,
        "start_time": "2025-09-22T17:09:10.932Z"
      },
      {
        "duration": 4,
        "start_time": "2025-09-22T17:09:16.341Z"
      },
      {
        "duration": 16,
        "start_time": "2025-09-22T17:09:28.836Z"
      },
      {
        "duration": 52,
        "start_time": "2025-09-23T03:15:39.323Z"
      },
      {
        "duration": 8,
        "start_time": "2025-09-23T03:19:17.358Z"
      },
      {
        "duration": 493,
        "start_time": "2025-09-23T03:23:57.615Z"
      },
      {
        "duration": 62,
        "start_time": "2025-09-23T03:23:58.380Z"
      },
      {
        "duration": 19,
        "start_time": "2025-09-23T03:24:01.107Z"
      },
      {
        "duration": 9,
        "start_time": "2025-09-23T03:24:02.060Z"
      },
      {
        "duration": 17,
        "start_time": "2025-09-23T03:24:03.102Z"
      },
      {
        "duration": 4,
        "start_time": "2025-09-23T03:24:07.931Z"
      },
      {
        "duration": 4,
        "start_time": "2025-09-23T03:24:08.660Z"
      },
      {
        "duration": 15,
        "start_time": "2025-09-23T03:24:09.439Z"
      },
      {
        "duration": 17,
        "start_time": "2025-09-23T03:24:11.141Z"
      },
      {
        "duration": 8,
        "start_time": "2025-09-23T03:24:16.883Z"
      },
      {
        "duration": 7,
        "start_time": "2025-09-23T03:24:17.420Z"
      },
      {
        "duration": 5,
        "start_time": "2025-09-23T03:24:18.063Z"
      },
      {
        "duration": 2,
        "start_time": "2025-09-23T03:24:18.752Z"
      },
      {
        "duration": 5,
        "start_time": "2025-09-23T03:24:19.420Z"
      },
      {
        "duration": 17,
        "start_time": "2025-09-23T03:24:20.420Z"
      },
      {
        "duration": 8,
        "start_time": "2025-09-23T03:24:29.235Z"
      },
      {
        "duration": 7,
        "start_time": "2025-09-23T03:24:29.736Z"
      },
      {
        "duration": 7,
        "start_time": "2025-09-23T03:24:30.253Z"
      },
      {
        "duration": 13,
        "start_time": "2025-09-23T03:24:31.474Z"
      },
      {
        "duration": 26,
        "start_time": "2025-09-23T03:24:32.263Z"
      },
      {
        "duration": 7,
        "start_time": "2025-09-23T03:36:08.354Z"
      },
      {
        "duration": 5,
        "start_time": "2025-09-23T03:36:09.015Z"
      },
      {
        "duration": 5,
        "start_time": "2025-09-23T03:36:09.579Z"
      },
      {
        "duration": 20,
        "start_time": "2025-09-23T03:36:54.371Z"
      },
      {
        "duration": 9,
        "start_time": "2025-09-23T03:36:56.627Z"
      },
      {
        "duration": 19,
        "start_time": "2025-09-23T03:36:59.103Z"
      },
      {
        "duration": 18,
        "start_time": "2025-09-23T03:38:58.772Z"
      },
      {
        "duration": 19,
        "start_time": "2025-09-23T03:39:03.559Z"
      },
      {
        "duration": 17,
        "start_time": "2025-09-23T03:39:05.673Z"
      },
      {
        "duration": 6,
        "start_time": "2025-09-23T03:42:54.852Z"
      },
      {
        "duration": 6,
        "start_time": "2025-09-23T03:44:34.832Z"
      },
      {
        "duration": 10,
        "start_time": "2025-09-23T03:46:28.900Z"
      },
      {
        "duration": 4,
        "start_time": "2025-09-23T03:46:32.932Z"
      },
      {
        "duration": 6,
        "start_time": "2025-09-23T03:47:29.451Z"
      },
      {
        "duration": 6,
        "start_time": "2025-09-23T03:49:26.791Z"
      },
      {
        "duration": 5,
        "start_time": "2025-09-23T03:51:46.313Z"
      },
      {
        "duration": 4,
        "start_time": "2025-09-23T03:56:48.293Z"
      },
      {
        "duration": 83,
        "start_time": "2025-09-23T03:57:00.060Z"
      },
      {
        "duration": 6,
        "start_time": "2025-09-23T03:57:48.632Z"
      },
      {
        "duration": 5,
        "start_time": "2025-09-23T03:58:38.032Z"
      },
      {
        "duration": 114,
        "start_time": "2025-09-23T03:59:57.771Z"
      },
      {
        "duration": 8,
        "start_time": "2025-09-23T04:02:00.899Z"
      },
      {
        "duration": 16,
        "start_time": "2025-09-23T04:02:03.018Z"
      },
      {
        "duration": 5,
        "start_time": "2025-09-23T04:02:39.449Z"
      },
      {
        "duration": 17,
        "start_time": "2025-09-23T04:05:02.784Z"
      },
      {
        "duration": 14,
        "start_time": "2025-09-23T04:26:25.200Z"
      },
      {
        "duration": 8,
        "start_time": "2025-09-23T04:26:32.087Z"
      },
      {
        "duration": 5,
        "start_time": "2025-09-23T04:27:09.272Z"
      },
      {
        "duration": 2,
        "start_time": "2025-09-23T04:27:41.091Z"
      },
      {
        "duration": 4,
        "start_time": "2025-09-23T04:27:50.132Z"
      },
      {
        "duration": 4,
        "start_time": "2025-09-23T04:28:42.388Z"
      },
      {
        "duration": 405,
        "start_time": "2025-09-23T04:29:00.722Z"
      },
      {
        "duration": 60,
        "start_time": "2025-09-23T04:29:01.291Z"
      },
      {
        "duration": 19,
        "start_time": "2025-09-23T04:29:02.355Z"
      },
      {
        "duration": 10,
        "start_time": "2025-09-23T04:29:03.258Z"
      },
      {
        "duration": 16,
        "start_time": "2025-09-23T04:29:04.963Z"
      },
      {
        "duration": 4,
        "start_time": "2025-09-23T04:29:09.122Z"
      },
      {
        "duration": 4,
        "start_time": "2025-09-23T04:29:10.024Z"
      },
      {
        "duration": 18,
        "start_time": "2025-09-23T04:29:10.914Z"
      },
      {
        "duration": 17,
        "start_time": "2025-09-23T04:29:12.403Z"
      },
      {
        "duration": 7,
        "start_time": "2025-09-23T04:29:14.696Z"
      },
      {
        "duration": 11,
        "start_time": "2025-09-23T04:29:15.225Z"
      },
      {
        "duration": 7,
        "start_time": "2025-09-23T04:29:15.880Z"
      },
      {
        "duration": 4,
        "start_time": "2025-09-23T04:29:16.880Z"
      },
      {
        "duration": 5,
        "start_time": "2025-09-23T04:29:17.722Z"
      },
      {
        "duration": 17,
        "start_time": "2025-09-23T04:29:19.695Z"
      },
      {
        "duration": 8,
        "start_time": "2025-09-23T04:29:22.929Z"
      },
      {
        "duration": 8,
        "start_time": "2025-09-23T04:29:26.800Z"
      },
      {
        "duration": 7,
        "start_time": "2025-09-23T04:29:27.834Z"
      },
      {
        "duration": 13,
        "start_time": "2025-09-23T04:29:29.939Z"
      },
      {
        "duration": 13,
        "start_time": "2025-09-23T04:29:37.303Z"
      },
      {
        "duration": 5,
        "start_time": "2025-09-23T04:29:39.911Z"
      },
      {
        "duration": 4,
        "start_time": "2025-09-23T04:29:40.451Z"
      },
      {
        "duration": 6,
        "start_time": "2025-09-23T04:29:40.895Z"
      },
      {
        "duration": 20,
        "start_time": "2025-09-23T04:29:42.575Z"
      },
      {
        "duration": 19,
        "start_time": "2025-09-23T04:29:45.400Z"
      },
      {
        "duration": 18,
        "start_time": "2025-09-23T04:29:48.336Z"
      },
      {
        "duration": 9,
        "start_time": "2025-09-23T04:29:49.983Z"
      },
      {
        "duration": 8,
        "start_time": "2025-09-23T04:29:50.935Z"
      },
      {
        "duration": 5,
        "start_time": "2025-09-23T04:29:55.536Z"
      },
      {
        "duration": 9,
        "start_time": "2025-09-23T04:29:57.442Z"
      },
      {
        "duration": 5,
        "start_time": "2025-09-23T04:29:58.709Z"
      },
      {
        "duration": 80,
        "start_time": "2025-09-23T04:30:01.347Z"
      },
      {
        "duration": 8,
        "start_time": "2025-09-23T04:30:21.183Z"
      },
      {
        "duration": 4,
        "start_time": "2025-09-23T04:30:24.568Z"
      },
      {
        "duration": 5,
        "start_time": "2025-09-23T04:30:25.663Z"
      },
      {
        "duration": 7,
        "start_time": "2025-09-23T04:30:28.618Z"
      },
      {
        "duration": 19,
        "start_time": "2025-09-23T04:30:32.635Z"
      },
      {
        "duration": 12,
        "start_time": "2025-09-23T04:30:35.095Z"
      },
      {
        "duration": 16,
        "start_time": "2025-09-23T04:30:36.384Z"
      },
      {
        "duration": 4,
        "start_time": "2025-09-23T04:30:41.604Z"
      },
      {
        "duration": 3,
        "start_time": "2025-09-23T04:31:27.322Z"
      },
      {
        "duration": 8,
        "start_time": "2025-09-23T04:31:32.969Z"
      },
      {
        "duration": 4,
        "start_time": "2025-09-23T04:33:06.072Z"
      },
      {
        "duration": 6,
        "start_time": "2025-09-23T04:39:22.252Z"
      },
      {
        "duration": 8,
        "start_time": "2025-09-23T04:49:00.722Z"
      },
      {
        "duration": 7,
        "start_time": "2025-09-23T04:49:07.025Z"
      },
      {
        "duration": 17,
        "start_time": "2025-09-23T04:49:09.580Z"
      },
      {
        "duration": 4,
        "start_time": "2025-09-23T05:17:26.793Z"
      },
      {
        "duration": 24,
        "start_time": "2025-09-23T05:17:29.174Z"
      },
      {
        "duration": 419,
        "start_time": "2025-09-23T05:35:55.819Z"
      },
      {
        "duration": 61,
        "start_time": "2025-09-23T05:35:56.359Z"
      },
      {
        "duration": 19,
        "start_time": "2025-09-23T05:35:57.439Z"
      },
      {
        "duration": 9,
        "start_time": "2025-09-23T05:35:58.259Z"
      },
      {
        "duration": 17,
        "start_time": "2025-09-23T05:35:58.949Z"
      },
      {
        "duration": 4,
        "start_time": "2025-09-23T05:36:02.905Z"
      },
      {
        "duration": 4,
        "start_time": "2025-09-23T05:36:03.690Z"
      },
      {
        "duration": 16,
        "start_time": "2025-09-23T05:36:04.589Z"
      },
      {
        "duration": 18,
        "start_time": "2025-09-23T05:36:06.444Z"
      },
      {
        "duration": 7,
        "start_time": "2025-09-23T05:36:08.144Z"
      },
      {
        "duration": 8,
        "start_time": "2025-09-23T05:36:10.119Z"
      },
      {
        "duration": 4,
        "start_time": "2025-09-23T05:36:11.599Z"
      },
      {
        "duration": 3,
        "start_time": "2025-09-23T05:36:12.244Z"
      },
      {
        "duration": 5,
        "start_time": "2025-09-23T05:36:12.889Z"
      },
      {
        "duration": 17,
        "start_time": "2025-09-23T05:36:13.724Z"
      },
      {
        "duration": 9,
        "start_time": "2025-09-23T05:36:21.816Z"
      },
      {
        "duration": 28,
        "start_time": "2025-09-23T05:36:21.827Z"
      },
      {
        "duration": 8,
        "start_time": "2025-09-23T05:36:21.857Z"
      },
      {
        "duration": 12,
        "start_time": "2025-09-23T05:36:22.104Z"
      },
      {
        "duration": 16,
        "start_time": "2025-09-23T05:36:25.444Z"
      },
      {
        "duration": 6,
        "start_time": "2025-09-23T05:36:30.685Z"
      },
      {
        "duration": 16,
        "start_time": "2025-09-23T05:37:23.824Z"
      },
      {
        "duration": 5,
        "start_time": "2025-09-23T05:37:50.604Z"
      },
      {
        "duration": 4,
        "start_time": "2025-09-23T05:38:09.444Z"
      },
      {
        "duration": 30,
        "start_time": "2025-09-23T05:38:12.859Z"
      },
      {
        "duration": 4,
        "start_time": "2025-09-23T05:38:38.429Z"
      },
      {
        "duration": 78,
        "start_time": "2025-09-23T05:38:39.409Z"
      },
      {
        "duration": 5,
        "start_time": "2025-09-23T05:39:01.399Z"
      },
      {
        "duration": 6,
        "start_time": "2025-09-23T05:39:03.999Z"
      },
      {
        "duration": 19,
        "start_time": "2025-09-23T05:39:05.989Z"
      },
      {
        "duration": 5,
        "start_time": "2025-09-23T05:39:52.809Z"
      },
      {
        "duration": 24,
        "start_time": "2025-09-23T05:40:02.864Z"
      },
      {
        "duration": 5,
        "start_time": "2025-09-23T05:41:54.225Z"
      },
      {
        "duration": 16,
        "start_time": "2025-09-23T05:41:58.021Z"
      },
      {
        "duration": 11,
        "start_time": "2025-09-23T05:42:28.330Z"
      },
      {
        "duration": 15,
        "start_time": "2025-09-23T05:42:32.660Z"
      },
      {
        "duration": 462,
        "start_time": "2025-09-23T05:44:38.870Z"
      },
      {
        "duration": 60,
        "start_time": "2025-09-23T05:44:40.300Z"
      },
      {
        "duration": 18,
        "start_time": "2025-09-23T05:44:46.985Z"
      },
      {
        "duration": 18,
        "start_time": "2025-09-23T05:44:50.960Z"
      },
      {
        "duration": 17,
        "start_time": "2025-09-23T05:44:53.261Z"
      },
      {
        "duration": 5,
        "start_time": "2025-09-23T05:47:23.396Z"
      },
      {
        "duration": 4,
        "start_time": "2025-09-23T05:47:25.846Z"
      },
      {
        "duration": 15,
        "start_time": "2025-09-23T05:47:27.265Z"
      },
      {
        "duration": 17,
        "start_time": "2025-09-23T05:47:31.581Z"
      },
      {
        "duration": 7,
        "start_time": "2025-09-23T05:47:34.921Z"
      },
      {
        "duration": 10,
        "start_time": "2025-09-23T05:47:36.145Z"
      },
      {
        "duration": 4,
        "start_time": "2025-09-23T05:47:37.191Z"
      },
      {
        "duration": 13,
        "start_time": "2025-09-23T05:47:38.626Z"
      },
      {
        "duration": 15,
        "start_time": "2025-09-23T05:47:41.155Z"
      },
      {
        "duration": 7,
        "start_time": "2025-09-23T05:47:51.956Z"
      },
      {
        "duration": 7,
        "start_time": "2025-09-23T05:47:52.710Z"
      },
      {
        "duration": 7,
        "start_time": "2025-09-23T05:47:53.826Z"
      },
      {
        "duration": 18,
        "start_time": "2025-09-23T05:47:58.431Z"
      },
      {
        "duration": 13,
        "start_time": "2025-09-23T05:48:01.800Z"
      },
      {
        "duration": 22,
        "start_time": "2025-09-23T05:48:50.840Z"
      },
      {
        "duration": 25,
        "start_time": "2025-09-23T05:49:00.241Z"
      },
      {
        "duration": 9,
        "start_time": "2025-09-23T05:49:05.884Z"
      },
      {
        "duration": 7,
        "start_time": "2025-09-23T05:49:08.416Z"
      },
      {
        "duration": 17,
        "start_time": "2025-09-23T05:49:09.206Z"
      },
      {
        "duration": 5,
        "start_time": "2025-09-23T05:49:15.883Z"
      },
      {
        "duration": 9,
        "start_time": "2025-09-23T05:49:17.926Z"
      },
      {
        "duration": 7,
        "start_time": "2025-09-23T05:49:20.183Z"
      },
      {
        "duration": 5,
        "start_time": "2025-09-23T05:49:22.946Z"
      },
      {
        "duration": 6,
        "start_time": "2025-09-23T05:49:24.795Z"
      },
      {
        "duration": 6,
        "start_time": "2025-09-23T05:49:25.620Z"
      },
      {
        "duration": 5,
        "start_time": "2025-09-23T05:49:26.425Z"
      },
      {
        "duration": 18,
        "start_time": "2025-09-23T05:49:31.705Z"
      },
      {
        "duration": 11,
        "start_time": "2025-09-23T05:49:34.315Z"
      },
      {
        "duration": 14,
        "start_time": "2025-09-23T05:49:35.684Z"
      },
      {
        "duration": 4,
        "start_time": "2025-09-23T05:49:51.761Z"
      },
      {
        "duration": 4,
        "start_time": "2025-09-23T05:49:53.141Z"
      },
      {
        "duration": 5,
        "start_time": "2025-09-23T05:49:55.040Z"
      },
      {
        "duration": 6,
        "start_time": "2025-09-23T05:49:59.096Z"
      },
      {
        "duration": 14,
        "start_time": "2025-09-23T05:50:00.085Z"
      },
      {
        "duration": 6,
        "start_time": "2025-09-23T05:51:05.920Z"
      },
      {
        "duration": 93,
        "start_time": "2025-09-23T05:51:08.825Z"
      },
      {
        "duration": 98,
        "start_time": "2025-09-23T05:52:26.385Z"
      },
      {
        "duration": 17,
        "start_time": "2025-09-23T05:52:41.286Z"
      },
      {
        "duration": 100,
        "start_time": "2025-09-23T05:54:19.731Z"
      },
      {
        "duration": 17,
        "start_time": "2025-09-23T05:54:26.735Z"
      },
      {
        "duration": 28,
        "start_time": "2025-09-23T05:54:50.996Z"
      },
      {
        "duration": 9,
        "start_time": "2025-09-23T05:59:24.295Z"
      },
      {
        "duration": 11,
        "start_time": "2025-09-23T06:00:04.865Z"
      },
      {
        "duration": 7,
        "start_time": "2025-09-23T06:02:06.429Z"
      },
      {
        "duration": 47,
        "start_time": "2025-09-23T07:52:57.119Z"
      },
      {
        "duration": 363,
        "start_time": "2025-09-23T07:53:22.627Z"
      },
      {
        "duration": 58,
        "start_time": "2025-09-23T07:53:23.346Z"
      },
      {
        "duration": 17,
        "start_time": "2025-09-23T07:53:24.434Z"
      },
      {
        "duration": 8,
        "start_time": "2025-09-23T07:53:24.928Z"
      },
      {
        "duration": 15,
        "start_time": "2025-09-23T07:53:25.376Z"
      },
      {
        "duration": 5,
        "start_time": "2025-09-23T07:53:27.347Z"
      },
      {
        "duration": 4,
        "start_time": "2025-09-23T07:53:27.787Z"
      },
      {
        "duration": 13,
        "start_time": "2025-09-23T07:53:28.247Z"
      },
      {
        "duration": 16,
        "start_time": "2025-09-23T07:53:29.395Z"
      },
      {
        "duration": 8,
        "start_time": "2025-09-23T07:53:30.867Z"
      },
      {
        "duration": 8,
        "start_time": "2025-09-23T07:53:31.346Z"
      },
      {
        "duration": 4,
        "start_time": "2025-09-23T07:53:31.866Z"
      },
      {
        "duration": 8,
        "start_time": "2025-09-23T07:53:32.575Z"
      },
      {
        "duration": 71,
        "start_time": "2025-09-23T07:53:34.267Z"
      },
      {
        "duration": 8,
        "start_time": "2025-09-23T07:55:38.367Z"
      },
      {
        "duration": 428,
        "start_time": "2025-09-23T07:58:05.760Z"
      },
      {
        "duration": 45,
        "start_time": "2025-09-23T07:58:06.787Z"
      },
      {
        "duration": 17,
        "start_time": "2025-09-23T07:58:09.497Z"
      },
      {
        "duration": 9,
        "start_time": "2025-09-23T07:58:12.470Z"
      },
      {
        "duration": 17,
        "start_time": "2025-09-23T07:58:13.790Z"
      },
      {
        "duration": 4,
        "start_time": "2025-09-23T07:58:19.191Z"
      },
      {
        "duration": 4,
        "start_time": "2025-09-23T07:58:20.150Z"
      },
      {
        "duration": 16,
        "start_time": "2025-09-23T07:58:21.118Z"
      },
      {
        "duration": 17,
        "start_time": "2025-09-23T07:58:26.191Z"
      },
      {
        "duration": 8,
        "start_time": "2025-09-23T07:58:29.430Z"
      },
      {
        "duration": 8,
        "start_time": "2025-09-23T07:58:30.218Z"
      },
      {
        "duration": 4,
        "start_time": "2025-09-23T07:58:31.811Z"
      },
      {
        "duration": 10,
        "start_time": "2025-09-23T07:58:47.389Z"
      },
      {
        "duration": 14,
        "start_time": "2025-09-23T07:58:48.750Z"
      },
      {
        "duration": 8,
        "start_time": "2025-09-23T07:58:51.890Z"
      },
      {
        "duration": 7,
        "start_time": "2025-09-23T07:58:52.296Z"
      },
      {
        "duration": 7,
        "start_time": "2025-09-23T07:58:52.799Z"
      },
      {
        "duration": 11,
        "start_time": "2025-09-23T07:58:56.678Z"
      },
      {
        "duration": 12,
        "start_time": "2025-09-23T07:58:57.691Z"
      },
      {
        "duration": 22,
        "start_time": "2025-09-23T07:59:00.770Z"
      },
      {
        "duration": 17,
        "start_time": "2025-09-23T07:59:06.230Z"
      },
      {
        "duration": 16,
        "start_time": "2025-09-23T07:59:08.950Z"
      },
      {
        "duration": 8,
        "start_time": "2025-09-23T07:59:15.431Z"
      },
      {
        "duration": 8,
        "start_time": "2025-09-23T08:00:10.437Z"
      },
      {
        "duration": 13,
        "start_time": "2025-09-23T08:00:11.650Z"
      },
      {
        "duration": 5,
        "start_time": "2025-09-23T08:00:22.939Z"
      },
      {
        "duration": 9,
        "start_time": "2025-09-23T08:00:25.378Z"
      },
      {
        "duration": 5,
        "start_time": "2025-09-23T08:00:26.418Z"
      },
      {
        "duration": 5,
        "start_time": "2025-09-23T08:00:31.990Z"
      },
      {
        "duration": 4,
        "start_time": "2025-09-23T08:00:40.330Z"
      },
      {
        "duration": 5,
        "start_time": "2025-09-23T08:00:41.635Z"
      },
      {
        "duration": 4,
        "start_time": "2025-09-23T08:00:44.310Z"
      },
      {
        "duration": 18,
        "start_time": "2025-09-23T08:00:53.870Z"
      },
      {
        "duration": 11,
        "start_time": "2025-09-23T08:00:57.385Z"
      },
      {
        "duration": 15,
        "start_time": "2025-09-23T08:00:59.370Z"
      },
      {
        "duration": 4,
        "start_time": "2025-09-23T08:01:32.751Z"
      },
      {
        "duration": 4,
        "start_time": "2025-09-23T08:01:36.620Z"
      },
      {
        "duration": 4,
        "start_time": "2025-09-23T08:01:37.691Z"
      },
      {
        "duration": 5,
        "start_time": "2025-09-23T08:02:02.718Z"
      },
      {
        "duration": 13,
        "start_time": "2025-09-23T08:02:03.890Z"
      },
      {
        "duration": 4,
        "start_time": "2025-09-23T08:02:10.951Z"
      },
      {
        "duration": 82,
        "start_time": "2025-09-23T08:02:12.630Z"
      },
      {
        "duration": 16,
        "start_time": "2025-09-23T08:02:13.829Z"
      },
      {
        "duration": 3,
        "start_time": "2025-09-23T08:02:21.450Z"
      },
      {
        "duration": 85,
        "start_time": "2025-09-23T08:02:22.850Z"
      },
      {
        "duration": 25,
        "start_time": "2025-09-23T08:02:25.071Z"
      },
      {
        "duration": 7,
        "start_time": "2025-09-23T08:02:38.438Z"
      },
      {
        "duration": 8,
        "start_time": "2025-09-23T08:02:40.091Z"
      },
      {
        "duration": 7,
        "start_time": "2025-09-23T08:02:45.219Z"
      },
      {
        "duration": 367,
        "start_time": "2025-09-23T08:07:27.127Z"
      },
      {
        "duration": 55,
        "start_time": "2025-09-23T08:07:27.496Z"
      },
      {
        "duration": 15,
        "start_time": "2025-09-23T08:07:27.553Z"
      },
      {
        "duration": 53,
        "start_time": "2025-09-23T08:07:27.570Z"
      },
      {
        "duration": 36,
        "start_time": "2025-09-23T08:07:27.624Z"
      },
      {
        "duration": 19,
        "start_time": "2025-09-23T08:07:27.662Z"
      },
      {
        "duration": 37,
        "start_time": "2025-09-23T08:07:27.682Z"
      },
      {
        "duration": 26,
        "start_time": "2025-09-23T08:07:27.721Z"
      },
      {
        "duration": 33,
        "start_time": "2025-09-23T08:07:27.749Z"
      },
      {
        "duration": 12,
        "start_time": "2025-09-23T08:07:27.785Z"
      },
      {
        "duration": 26,
        "start_time": "2025-09-23T08:07:27.798Z"
      },
      {
        "duration": 8,
        "start_time": "2025-09-23T08:07:27.826Z"
      },
      {
        "duration": 22,
        "start_time": "2025-09-23T08:07:27.835Z"
      },
      {
        "duration": 18,
        "start_time": "2025-09-23T08:07:27.859Z"
      },
      {
        "duration": 7,
        "start_time": "2025-09-23T08:07:27.878Z"
      },
      {
        "duration": 10,
        "start_time": "2025-09-23T08:07:27.887Z"
      },
      {
        "duration": 28,
        "start_time": "2025-09-23T08:07:27.899Z"
      },
      {
        "duration": 12,
        "start_time": "2025-09-23T08:07:27.928Z"
      },
      {
        "duration": 17,
        "start_time": "2025-09-23T08:07:27.941Z"
      },
      {
        "duration": 29,
        "start_time": "2025-09-23T08:07:27.959Z"
      },
      {
        "duration": 15,
        "start_time": "2025-09-23T08:07:27.989Z"
      },
      {
        "duration": 16,
        "start_time": "2025-09-23T08:07:28.005Z"
      },
      {
        "duration": 8,
        "start_time": "2025-09-23T08:07:28.023Z"
      },
      {
        "duration": 10,
        "start_time": "2025-09-23T08:07:28.033Z"
      },
      {
        "duration": 40,
        "start_time": "2025-09-23T08:07:28.044Z"
      },
      {
        "duration": 6,
        "start_time": "2025-09-23T08:07:28.086Z"
      },
      {
        "duration": 15,
        "start_time": "2025-09-23T08:07:28.094Z"
      },
      {
        "duration": 23,
        "start_time": "2025-09-23T08:07:28.113Z"
      },
      {
        "duration": 22,
        "start_time": "2025-09-23T08:07:28.138Z"
      },
      {
        "duration": 20,
        "start_time": "2025-09-23T08:07:28.162Z"
      },
      {
        "duration": 22,
        "start_time": "2025-09-23T08:07:28.184Z"
      },
      {
        "duration": 16,
        "start_time": "2025-09-23T08:07:28.208Z"
      },
      {
        "duration": 21,
        "start_time": "2025-09-23T08:07:28.226Z"
      },
      {
        "duration": 11,
        "start_time": "2025-09-23T08:07:28.249Z"
      },
      {
        "duration": 71,
        "start_time": "2025-09-23T08:07:28.261Z"
      },
      {
        "duration": 24,
        "start_time": "2025-09-23T08:07:28.334Z"
      },
      {
        "duration": 18,
        "start_time": "2025-09-23T08:07:28.360Z"
      },
      {
        "duration": 37,
        "start_time": "2025-09-23T08:07:28.380Z"
      },
      {
        "duration": 13,
        "start_time": "2025-09-23T08:07:28.419Z"
      },
      {
        "duration": 15,
        "start_time": "2025-09-23T08:07:28.434Z"
      },
      {
        "duration": 4,
        "start_time": "2025-09-23T08:07:28.451Z"
      },
      {
        "duration": 93,
        "start_time": "2025-09-23T08:07:28.456Z"
      },
      {
        "duration": 13,
        "start_time": "2025-09-23T08:07:28.551Z"
      },
      {
        "duration": 18,
        "start_time": "2025-09-23T08:07:28.566Z"
      },
      {
        "duration": 90,
        "start_time": "2025-09-23T08:07:28.586Z"
      },
      {
        "duration": 24,
        "start_time": "2025-09-23T08:07:28.678Z"
      },
      {
        "duration": 88,
        "start_time": "2025-09-23T08:07:28.704Z"
      },
      {
        "duration": 9,
        "start_time": "2025-09-23T08:07:28.793Z"
      },
      {
        "duration": 9,
        "start_time": "2025-09-23T08:07:28.803Z"
      },
      {
        "duration": 412,
        "start_time": "2025-09-23T08:23:15.294Z"
      },
      {
        "duration": 47,
        "start_time": "2025-09-23T08:23:15.708Z"
      },
      {
        "duration": 25,
        "start_time": "2025-09-23T08:23:15.756Z"
      },
      {
        "duration": 9,
        "start_time": "2025-09-23T08:23:15.782Z"
      },
      {
        "duration": 22,
        "start_time": "2025-09-23T08:23:15.793Z"
      },
      {
        "duration": 5,
        "start_time": "2025-09-23T08:23:15.817Z"
      },
      {
        "duration": 47,
        "start_time": "2025-09-23T08:23:15.824Z"
      },
      {
        "duration": 34,
        "start_time": "2025-09-23T08:23:15.872Z"
      },
      {
        "duration": 43,
        "start_time": "2025-09-23T08:23:15.908Z"
      },
      {
        "duration": 21,
        "start_time": "2025-09-23T08:23:15.953Z"
      },
      {
        "duration": 30,
        "start_time": "2025-09-23T08:23:15.976Z"
      },
      {
        "duration": 30,
        "start_time": "2025-09-23T08:23:16.008Z"
      },
      {
        "duration": 47,
        "start_time": "2025-09-23T08:23:16.040Z"
      },
      {
        "duration": 52,
        "start_time": "2025-09-23T08:23:16.093Z"
      },
      {
        "duration": 7,
        "start_time": "2025-09-23T08:23:16.147Z"
      },
      {
        "duration": 22,
        "start_time": "2025-09-23T08:23:16.156Z"
      },
      {
        "duration": 53,
        "start_time": "2025-09-23T08:23:16.180Z"
      },
      {
        "duration": 22,
        "start_time": "2025-09-23T08:23:16.235Z"
      },
      {
        "duration": 12,
        "start_time": "2025-09-23T08:23:16.259Z"
      },
      {
        "duration": 86,
        "start_time": "2025-09-23T08:23:16.273Z"
      },
      {
        "duration": 39,
        "start_time": "2025-09-23T08:23:16.361Z"
      },
      {
        "duration": 24,
        "start_time": "2025-09-23T08:23:16.402Z"
      },
      {
        "duration": 19,
        "start_time": "2025-09-23T08:23:16.428Z"
      },
      {
        "duration": 20,
        "start_time": "2025-09-23T08:23:16.448Z"
      },
      {
        "duration": 34,
        "start_time": "2025-09-23T08:23:16.470Z"
      },
      {
        "duration": 57,
        "start_time": "2025-09-23T08:23:16.505Z"
      },
      {
        "duration": 46,
        "start_time": "2025-09-23T08:23:16.564Z"
      },
      {
        "duration": 43,
        "start_time": "2025-09-23T08:23:16.612Z"
      },
      {
        "duration": 74,
        "start_time": "2025-09-23T08:23:16.657Z"
      },
      {
        "duration": 28,
        "start_time": "2025-09-23T08:23:16.733Z"
      },
      {
        "duration": 166,
        "start_time": "2025-09-23T08:23:16.762Z"
      },
      {
        "duration": 25,
        "start_time": "2025-09-23T08:23:16.930Z"
      },
      {
        "duration": 97,
        "start_time": "2025-09-23T08:23:16.956Z"
      },
      {
        "duration": 29,
        "start_time": "2025-09-23T08:23:17.055Z"
      },
      {
        "duration": 36,
        "start_time": "2025-09-23T08:23:17.085Z"
      },
      {
        "duration": 22,
        "start_time": "2025-09-23T08:23:17.123Z"
      },
      {
        "duration": 9,
        "start_time": "2025-09-23T08:23:17.147Z"
      },
      {
        "duration": 12,
        "start_time": "2025-09-23T08:23:17.157Z"
      },
      {
        "duration": 7,
        "start_time": "2025-09-23T08:23:17.170Z"
      },
      {
        "duration": 26,
        "start_time": "2025-09-23T08:23:17.178Z"
      },
      {
        "duration": 3,
        "start_time": "2025-09-23T08:23:17.209Z"
      },
      {
        "duration": 120,
        "start_time": "2025-09-23T08:23:17.213Z"
      },
      {
        "duration": 14,
        "start_time": "2025-09-23T08:23:17.335Z"
      },
      {
        "duration": 5,
        "start_time": "2025-09-23T08:23:17.351Z"
      },
      {
        "duration": 116,
        "start_time": "2025-09-23T08:23:17.358Z"
      },
      {
        "duration": 24,
        "start_time": "2025-09-23T08:23:17.475Z"
      },
      {
        "duration": 52,
        "start_time": "2025-09-23T08:23:17.501Z"
      },
      {
        "duration": 7,
        "start_time": "2025-09-23T08:23:17.555Z"
      },
      {
        "duration": 27,
        "start_time": "2025-09-23T08:23:17.564Z"
      },
      {
        "duration": 49,
        "start_time": "2025-09-23T12:04:42.511Z"
      },
      {
        "duration": 390,
        "start_time": "2025-09-23T12:15:37.948Z"
      },
      {
        "duration": 58,
        "start_time": "2025-09-23T12:15:38.340Z"
      },
      {
        "duration": 18,
        "start_time": "2025-09-23T12:15:38.400Z"
      },
      {
        "duration": 8,
        "start_time": "2025-09-23T12:15:38.420Z"
      },
      {
        "duration": 21,
        "start_time": "2025-09-23T12:15:38.429Z"
      },
      {
        "duration": 4,
        "start_time": "2025-09-23T12:15:38.452Z"
      },
      {
        "duration": 32,
        "start_time": "2025-09-23T12:15:38.458Z"
      },
      {
        "duration": 22,
        "start_time": "2025-09-23T12:15:38.492Z"
      },
      {
        "duration": 78,
        "start_time": "2025-09-23T12:15:38.516Z"
      },
      {
        "duration": 41,
        "start_time": "2025-09-23T12:15:38.597Z"
      },
      {
        "duration": 14,
        "start_time": "2025-09-23T12:15:38.640Z"
      },
      {
        "duration": 12,
        "start_time": "2025-09-23T12:15:38.655Z"
      },
      {
        "duration": 23,
        "start_time": "2025-09-23T12:15:38.669Z"
      },
      {
        "duration": 26,
        "start_time": "2025-09-23T12:15:38.694Z"
      },
      {
        "duration": 26,
        "start_time": "2025-09-23T12:15:38.722Z"
      },
      {
        "duration": 35,
        "start_time": "2025-09-23T12:15:38.750Z"
      },
      {
        "duration": 24,
        "start_time": "2025-09-23T12:15:38.787Z"
      },
      {
        "duration": 9,
        "start_time": "2025-09-23T12:15:38.813Z"
      },
      {
        "duration": 22,
        "start_time": "2025-09-23T12:15:38.824Z"
      },
      {
        "duration": 9,
        "start_time": "2025-09-23T12:15:38.848Z"
      },
      {
        "duration": 10,
        "start_time": "2025-09-23T12:15:38.859Z"
      },
      {
        "duration": 27,
        "start_time": "2025-09-23T12:15:38.871Z"
      },
      {
        "duration": 7,
        "start_time": "2025-09-23T12:15:38.900Z"
      },
      {
        "duration": 15,
        "start_time": "2025-09-23T12:15:38.908Z"
      },
      {
        "duration": 25,
        "start_time": "2025-09-23T12:15:38.924Z"
      },
      {
        "duration": 14,
        "start_time": "2025-09-23T12:15:38.951Z"
      },
      {
        "duration": 11,
        "start_time": "2025-09-23T12:15:38.967Z"
      },
      {
        "duration": 6,
        "start_time": "2025-09-23T12:15:38.981Z"
      },
      {
        "duration": 4,
        "start_time": "2025-09-23T12:15:38.989Z"
      },
      {
        "duration": 15,
        "start_time": "2025-09-23T12:15:38.995Z"
      },
      {
        "duration": 16,
        "start_time": "2025-09-23T12:15:39.012Z"
      },
      {
        "duration": 13,
        "start_time": "2025-09-23T12:15:39.029Z"
      },
      {
        "duration": 15,
        "start_time": "2025-09-23T12:15:39.043Z"
      },
      {
        "duration": 6,
        "start_time": "2025-09-23T12:15:39.087Z"
      },
      {
        "duration": 10,
        "start_time": "2025-09-23T12:15:39.095Z"
      },
      {
        "duration": 54,
        "start_time": "2025-09-23T12:15:39.107Z"
      },
      {
        "duration": 30,
        "start_time": "2025-09-23T12:15:39.163Z"
      },
      {
        "duration": 93,
        "start_time": "2025-09-23T12:15:39.195Z"
      },
      {
        "duration": 0,
        "start_time": "2025-09-23T12:15:39.290Z"
      },
      {
        "duration": 0,
        "start_time": "2025-09-23T12:15:39.292Z"
      },
      {
        "duration": 0,
        "start_time": "2025-09-23T12:15:39.294Z"
      },
      {
        "duration": 0,
        "start_time": "2025-09-23T12:15:39.295Z"
      },
      {
        "duration": 0,
        "start_time": "2025-09-23T12:15:39.296Z"
      },
      {
        "duration": 0,
        "start_time": "2025-09-23T12:15:39.298Z"
      },
      {
        "duration": 0,
        "start_time": "2025-09-23T12:15:39.299Z"
      },
      {
        "duration": 0,
        "start_time": "2025-09-23T12:15:39.301Z"
      },
      {
        "duration": 0,
        "start_time": "2025-09-23T12:15:39.302Z"
      },
      {
        "duration": 1,
        "start_time": "2025-09-23T12:15:39.303Z"
      },
      {
        "duration": 4,
        "start_time": "2025-09-23T12:16:13.663Z"
      },
      {
        "duration": 4,
        "start_time": "2025-09-23T12:16:25.638Z"
      },
      {
        "duration": 1794,
        "start_time": "2025-09-23T12:16:46.310Z"
      },
      {
        "duration": 4,
        "start_time": "2025-09-23T12:17:52.965Z"
      },
      {
        "duration": 4,
        "start_time": "2025-09-23T12:17:55.941Z"
      },
      {
        "duration": 4,
        "start_time": "2025-09-23T12:17:58.812Z"
      },
      {
        "duration": 5,
        "start_time": "2025-09-23T12:18:05.629Z"
      },
      {
        "duration": 430,
        "start_time": "2025-09-23T12:18:38.975Z"
      },
      {
        "duration": 44,
        "start_time": "2025-09-23T12:18:39.407Z"
      },
      {
        "duration": 17,
        "start_time": "2025-09-23T12:18:39.452Z"
      },
      {
        "duration": 8,
        "start_time": "2025-09-23T12:18:39.471Z"
      },
      {
        "duration": 17,
        "start_time": "2025-09-23T12:18:39.486Z"
      },
      {
        "duration": 4,
        "start_time": "2025-09-23T12:18:39.505Z"
      },
      {
        "duration": 15,
        "start_time": "2025-09-23T12:18:39.510Z"
      },
      {
        "duration": 24,
        "start_time": "2025-09-23T12:18:39.526Z"
      },
      {
        "duration": 23,
        "start_time": "2025-09-23T12:18:39.551Z"
      },
      {
        "duration": 27,
        "start_time": "2025-09-23T12:18:39.577Z"
      },
      {
        "duration": 31,
        "start_time": "2025-09-23T12:18:39.606Z"
      },
      {
        "duration": 10,
        "start_time": "2025-09-23T12:18:39.639Z"
      },
      {
        "duration": 27,
        "start_time": "2025-09-23T12:18:39.650Z"
      },
      {
        "duration": 22,
        "start_time": "2025-09-23T12:18:39.678Z"
      },
      {
        "duration": 34,
        "start_time": "2025-09-23T12:18:39.702Z"
      },
      {
        "duration": 16,
        "start_time": "2025-09-23T12:18:39.738Z"
      },
      {
        "duration": 6,
        "start_time": "2025-09-23T12:18:39.756Z"
      },
      {
        "duration": 47,
        "start_time": "2025-09-23T12:18:39.764Z"
      },
      {
        "duration": 11,
        "start_time": "2025-09-23T12:18:39.813Z"
      },
      {
        "duration": 6,
        "start_time": "2025-09-23T12:18:39.826Z"
      },
      {
        "duration": 6,
        "start_time": "2025-09-23T12:18:39.833Z"
      },
      {
        "duration": 13,
        "start_time": "2025-09-23T12:18:39.841Z"
      },
      {
        "duration": 5,
        "start_time": "2025-09-23T12:18:39.856Z"
      },
      {
        "duration": 12,
        "start_time": "2025-09-23T12:18:39.863Z"
      },
      {
        "duration": 6,
        "start_time": "2025-09-23T12:18:39.887Z"
      },
      {
        "duration": 12,
        "start_time": "2025-09-23T12:18:39.894Z"
      },
      {
        "duration": 16,
        "start_time": "2025-09-23T12:18:39.908Z"
      },
      {
        "duration": 9,
        "start_time": "2025-09-23T12:18:39.928Z"
      },
      {
        "duration": 24,
        "start_time": "2025-09-23T12:18:39.938Z"
      },
      {
        "duration": 18,
        "start_time": "2025-09-23T12:18:39.964Z"
      },
      {
        "duration": 15,
        "start_time": "2025-09-23T12:18:39.983Z"
      },
      {
        "duration": 11,
        "start_time": "2025-09-23T12:18:39.999Z"
      },
      {
        "duration": 49,
        "start_time": "2025-09-23T12:18:40.012Z"
      },
      {
        "duration": 14,
        "start_time": "2025-09-23T12:18:40.062Z"
      },
      {
        "duration": 17,
        "start_time": "2025-09-23T12:18:40.078Z"
      },
      {
        "duration": 17,
        "start_time": "2025-09-23T12:18:40.097Z"
      },
      {
        "duration": 17,
        "start_time": "2025-09-23T12:18:40.116Z"
      },
      {
        "duration": 14,
        "start_time": "2025-09-23T12:18:40.135Z"
      },
      {
        "duration": 15,
        "start_time": "2025-09-23T12:18:40.151Z"
      },
      {
        "duration": 3,
        "start_time": "2025-09-23T12:18:40.168Z"
      },
      {
        "duration": 102,
        "start_time": "2025-09-23T12:18:40.172Z"
      },
      {
        "duration": 20,
        "start_time": "2025-09-23T12:18:40.276Z"
      },
      {
        "duration": 4,
        "start_time": "2025-09-23T12:18:40.297Z"
      },
      {
        "duration": 103,
        "start_time": "2025-09-23T12:18:40.303Z"
      },
      {
        "duration": 25,
        "start_time": "2025-09-23T12:18:40.408Z"
      },
      {
        "duration": 23,
        "start_time": "2025-09-23T12:18:40.435Z"
      },
      {
        "duration": 7,
        "start_time": "2025-09-23T12:18:40.460Z"
      },
      {
        "duration": 6,
        "start_time": "2025-09-23T12:18:40.469Z"
      },
      {
        "duration": 376,
        "start_time": "2025-09-23T12:54:39.842Z"
      },
      {
        "duration": 54,
        "start_time": "2025-09-23T12:54:40.220Z"
      },
      {
        "duration": 19,
        "start_time": "2025-09-23T12:54:40.276Z"
      },
      {
        "duration": 9,
        "start_time": "2025-09-23T12:54:40.297Z"
      },
      {
        "duration": 32,
        "start_time": "2025-09-23T12:54:40.307Z"
      },
      {
        "duration": 14,
        "start_time": "2025-09-23T12:54:40.341Z"
      },
      {
        "duration": 17,
        "start_time": "2025-09-23T12:54:40.356Z"
      },
      {
        "duration": 44,
        "start_time": "2025-09-23T12:54:40.374Z"
      },
      {
        "duration": 25,
        "start_time": "2025-09-23T12:54:40.420Z"
      },
      {
        "duration": 23,
        "start_time": "2025-09-23T12:54:40.448Z"
      },
      {
        "duration": 13,
        "start_time": "2025-09-23T12:54:40.473Z"
      },
      {
        "duration": 9,
        "start_time": "2025-09-23T12:54:40.488Z"
      },
      {
        "duration": 58,
        "start_time": "2025-09-23T12:54:40.498Z"
      },
      {
        "duration": 21,
        "start_time": "2025-09-23T12:54:40.558Z"
      },
      {
        "duration": 17,
        "start_time": "2025-09-23T12:54:40.580Z"
      },
      {
        "duration": 14,
        "start_time": "2025-09-23T12:54:40.599Z"
      },
      {
        "duration": 15,
        "start_time": "2025-09-23T12:54:40.614Z"
      },
      {
        "duration": 9,
        "start_time": "2025-09-23T12:54:40.631Z"
      },
      {
        "duration": 30,
        "start_time": "2025-09-23T12:54:40.641Z"
      },
      {
        "duration": 7,
        "start_time": "2025-09-23T12:54:40.673Z"
      },
      {
        "duration": 6,
        "start_time": "2025-09-23T12:54:40.682Z"
      },
      {
        "duration": 30,
        "start_time": "2025-09-23T12:54:40.690Z"
      },
      {
        "duration": 9,
        "start_time": "2025-09-23T12:54:40.722Z"
      },
      {
        "duration": 10,
        "start_time": "2025-09-23T12:54:40.733Z"
      },
      {
        "duration": 6,
        "start_time": "2025-09-23T12:54:40.745Z"
      },
      {
        "duration": 5,
        "start_time": "2025-09-23T12:54:40.752Z"
      },
      {
        "duration": 6,
        "start_time": "2025-09-23T12:54:40.758Z"
      },
      {
        "duration": 21,
        "start_time": "2025-09-23T12:54:40.767Z"
      },
      {
        "duration": 6,
        "start_time": "2025-09-23T12:54:40.790Z"
      },
      {
        "duration": 17,
        "start_time": "2025-09-23T12:54:40.797Z"
      },
      {
        "duration": 17,
        "start_time": "2025-09-23T12:54:40.815Z"
      },
      {
        "duration": 11,
        "start_time": "2025-09-23T12:54:40.834Z"
      },
      {
        "duration": 50,
        "start_time": "2025-09-23T12:54:40.846Z"
      },
      {
        "duration": 5,
        "start_time": "2025-09-23T12:54:40.898Z"
      },
      {
        "duration": 4,
        "start_time": "2025-09-23T12:54:40.904Z"
      },
      {
        "duration": 5,
        "start_time": "2025-09-23T12:54:40.909Z"
      },
      {
        "duration": 7,
        "start_time": "2025-09-23T12:54:40.916Z"
      },
      {
        "duration": 4,
        "start_time": "2025-09-23T12:54:40.925Z"
      },
      {
        "duration": 15,
        "start_time": "2025-09-23T12:54:40.930Z"
      },
      {
        "duration": 41,
        "start_time": "2025-09-23T12:54:40.947Z"
      },
      {
        "duration": 87,
        "start_time": "2025-09-23T12:54:40.991Z"
      },
      {
        "duration": 15,
        "start_time": "2025-09-23T12:54:41.088Z"
      },
      {
        "duration": 14,
        "start_time": "2025-09-23T12:54:41.105Z"
      },
      {
        "duration": 89,
        "start_time": "2025-09-23T12:54:41.121Z"
      },
      {
        "duration": 26,
        "start_time": "2025-09-23T12:54:41.212Z"
      },
      {
        "duration": 16,
        "start_time": "2025-09-23T12:54:41.240Z"
      },
      {
        "duration": 8,
        "start_time": "2025-09-23T12:54:41.257Z"
      },
      {
        "duration": 28,
        "start_time": "2025-09-23T12:54:41.266Z"
      },
      {
        "duration": 51,
        "start_time": "2025-09-24T05:59:32.144Z"
      },
      {
        "duration": 377,
        "start_time": "2025-09-24T05:59:41.841Z"
      },
      {
        "duration": 45,
        "start_time": "2025-09-24T05:59:42.221Z"
      },
      {
        "duration": 16,
        "start_time": "2025-09-24T05:59:42.268Z"
      },
      {
        "duration": 15,
        "start_time": "2025-09-24T05:59:42.288Z"
      },
      {
        "duration": 38,
        "start_time": "2025-09-24T05:59:42.306Z"
      },
      {
        "duration": 12,
        "start_time": "2025-09-24T05:59:42.345Z"
      },
      {
        "duration": 26,
        "start_time": "2025-09-24T05:59:42.359Z"
      },
      {
        "duration": 34,
        "start_time": "2025-09-24T05:59:42.387Z"
      },
      {
        "duration": 16,
        "start_time": "2025-09-24T05:59:42.423Z"
      },
      {
        "duration": 35,
        "start_time": "2025-09-24T05:59:42.440Z"
      },
      {
        "duration": 13,
        "start_time": "2025-09-24T05:59:42.477Z"
      },
      {
        "duration": 16,
        "start_time": "2025-09-24T05:59:42.492Z"
      },
      {
        "duration": 42,
        "start_time": "2025-09-24T05:59:42.510Z"
      },
      {
        "duration": 31,
        "start_time": "2025-09-24T05:59:42.555Z"
      },
      {
        "duration": 46,
        "start_time": "2025-09-24T05:59:42.588Z"
      },
      {
        "duration": 29,
        "start_time": "2025-09-24T05:59:42.636Z"
      },
      {
        "duration": 19,
        "start_time": "2025-09-24T05:59:42.667Z"
      },
      {
        "duration": 30,
        "start_time": "2025-09-24T05:59:42.688Z"
      },
      {
        "duration": 29,
        "start_time": "2025-09-24T05:59:42.719Z"
      },
      {
        "duration": 13,
        "start_time": "2025-09-24T05:59:42.750Z"
      },
      {
        "duration": 12,
        "start_time": "2025-09-24T05:59:42.764Z"
      },
      {
        "duration": 41,
        "start_time": "2025-09-24T05:59:42.777Z"
      },
      {
        "duration": 28,
        "start_time": "2025-09-24T05:59:42.820Z"
      },
      {
        "duration": 28,
        "start_time": "2025-09-24T05:59:42.849Z"
      },
      {
        "duration": 32,
        "start_time": "2025-09-24T05:59:42.879Z"
      },
      {
        "duration": 23,
        "start_time": "2025-09-24T05:59:42.912Z"
      },
      {
        "duration": 4,
        "start_time": "2025-09-24T05:59:42.936Z"
      },
      {
        "duration": 9,
        "start_time": "2025-09-24T05:59:42.941Z"
      },
      {
        "duration": 8,
        "start_time": "2025-09-24T05:59:42.951Z"
      },
      {
        "duration": 17,
        "start_time": "2025-09-24T05:59:42.961Z"
      },
      {
        "duration": 15,
        "start_time": "2025-09-24T05:59:42.979Z"
      },
      {
        "duration": 10,
        "start_time": "2025-09-24T05:59:42.996Z"
      },
      {
        "duration": 23,
        "start_time": "2025-09-24T05:59:43.008Z"
      },
      {
        "duration": 4,
        "start_time": "2025-09-24T05:59:43.033Z"
      },
      {
        "duration": 20,
        "start_time": "2025-09-24T05:59:43.038Z"
      },
      {
        "duration": 4,
        "start_time": "2025-09-24T05:59:43.060Z"
      },
      {
        "duration": 8,
        "start_time": "2025-09-24T05:59:43.066Z"
      },
      {
        "duration": 11,
        "start_time": "2025-09-24T05:59:43.076Z"
      },
      {
        "duration": 12,
        "start_time": "2025-09-24T05:59:43.089Z"
      },
      {
        "duration": 13,
        "start_time": "2025-09-24T05:59:43.103Z"
      },
      {
        "duration": 94,
        "start_time": "2025-09-24T05:59:43.120Z"
      },
      {
        "duration": 14,
        "start_time": "2025-09-24T05:59:43.216Z"
      },
      {
        "duration": 3,
        "start_time": "2025-09-24T05:59:43.232Z"
      },
      {
        "duration": 101,
        "start_time": "2025-09-24T05:59:43.237Z"
      },
      {
        "duration": 24,
        "start_time": "2025-09-24T05:59:43.340Z"
      },
      {
        "duration": 9,
        "start_time": "2025-09-24T05:59:43.366Z"
      },
      {
        "duration": 15,
        "start_time": "2025-09-24T05:59:43.388Z"
      },
      {
        "duration": 21,
        "start_time": "2025-09-24T05:59:43.404Z"
      },
      {
        "duration": 47,
        "start_time": "2025-09-24T08:05:16.741Z"
      },
      {
        "duration": 397,
        "start_time": "2025-09-24T08:05:27.799Z"
      },
      {
        "duration": 43,
        "start_time": "2025-09-24T08:05:28.198Z"
      },
      {
        "duration": 15,
        "start_time": "2025-09-24T08:05:28.243Z"
      },
      {
        "duration": 15,
        "start_time": "2025-09-24T08:05:28.260Z"
      },
      {
        "duration": 29,
        "start_time": "2025-09-24T08:05:28.277Z"
      },
      {
        "duration": 17,
        "start_time": "2025-09-24T08:05:28.308Z"
      },
      {
        "duration": 6,
        "start_time": "2025-09-24T08:05:28.326Z"
      },
      {
        "duration": 23,
        "start_time": "2025-09-24T08:05:28.334Z"
      },
      {
        "duration": 69,
        "start_time": "2025-09-24T08:05:28.358Z"
      },
      {
        "duration": 108,
        "start_time": "2025-09-24T08:05:28.429Z"
      },
      {
        "duration": 14,
        "start_time": "2025-09-24T08:05:28.538Z"
      },
      {
        "duration": 28,
        "start_time": "2025-09-24T08:05:28.553Z"
      },
      {
        "duration": 22,
        "start_time": "2025-09-24T08:05:28.582Z"
      },
      {
        "duration": 28,
        "start_time": "2025-09-24T08:05:28.607Z"
      },
      {
        "duration": 21,
        "start_time": "2025-09-24T08:05:28.637Z"
      },
      {
        "duration": 22,
        "start_time": "2025-09-24T08:05:28.660Z"
      },
      {
        "duration": 7,
        "start_time": "2025-09-24T08:05:28.683Z"
      },
      {
        "duration": 17,
        "start_time": "2025-09-24T08:05:28.692Z"
      },
      {
        "duration": 20,
        "start_time": "2025-09-24T08:05:28.711Z"
      },
      {
        "duration": 11,
        "start_time": "2025-09-24T08:05:28.733Z"
      },
      {
        "duration": 16,
        "start_time": "2025-09-24T08:05:28.746Z"
      },
      {
        "duration": 20,
        "start_time": "2025-09-24T08:05:28.764Z"
      },
      {
        "duration": 5,
        "start_time": "2025-09-24T08:05:28.785Z"
      },
      {
        "duration": 16,
        "start_time": "2025-09-24T08:05:28.792Z"
      },
      {
        "duration": 30,
        "start_time": "2025-09-24T08:05:28.809Z"
      },
      {
        "duration": 20,
        "start_time": "2025-09-24T08:05:28.840Z"
      },
      {
        "duration": 5,
        "start_time": "2025-09-24T08:05:28.862Z"
      },
      {
        "duration": 9,
        "start_time": "2025-09-24T08:05:28.869Z"
      },
      {
        "duration": 8,
        "start_time": "2025-09-24T08:05:28.879Z"
      },
      {
        "duration": 31,
        "start_time": "2025-09-24T08:05:28.888Z"
      },
      {
        "duration": 15,
        "start_time": "2025-09-24T08:05:28.921Z"
      },
      {
        "duration": 8,
        "start_time": "2025-09-24T08:05:28.938Z"
      },
      {
        "duration": 37,
        "start_time": "2025-09-24T08:05:28.948Z"
      },
      {
        "duration": 4,
        "start_time": "2025-09-24T08:05:28.986Z"
      },
      {
        "duration": 10,
        "start_time": "2025-09-24T08:05:28.992Z"
      },
      {
        "duration": 14,
        "start_time": "2025-09-24T08:05:29.003Z"
      },
      {
        "duration": 7,
        "start_time": "2025-09-24T08:05:29.019Z"
      },
      {
        "duration": 11,
        "start_time": "2025-09-24T08:05:29.028Z"
      },
      {
        "duration": 31,
        "start_time": "2025-09-24T08:05:29.041Z"
      },
      {
        "duration": 3,
        "start_time": "2025-09-24T08:05:29.074Z"
      },
      {
        "duration": 105,
        "start_time": "2025-09-24T08:05:29.081Z"
      },
      {
        "duration": 14,
        "start_time": "2025-09-24T08:05:29.188Z"
      },
      {
        "duration": 12,
        "start_time": "2025-09-24T08:05:29.203Z"
      },
      {
        "duration": 104,
        "start_time": "2025-09-24T08:05:29.216Z"
      },
      {
        "duration": 25,
        "start_time": "2025-09-24T08:05:29.322Z"
      },
      {
        "duration": 24,
        "start_time": "2025-09-24T08:05:29.349Z"
      },
      {
        "duration": 14,
        "start_time": "2025-09-24T08:05:29.375Z"
      },
      {
        "duration": 26,
        "start_time": "2025-09-24T08:05:29.390Z"
      },
      {
        "duration": 9,
        "start_time": "2025-09-24T08:06:02.685Z"
      },
      {
        "duration": 11,
        "start_time": "2025-09-24T08:06:11.191Z"
      }
    ],
    "colab": {
      "provenance": [],
      "include_colab_link": true
    },
    "kernelspec": {
      "display_name": "Python 3 (ipykernel)",
      "language": "python",
      "name": "python3"
    },
    "language_info": {
      "codemirror_mode": {
        "name": "ipython",
        "version": 3
      },
      "file_extension": ".py",
      "mimetype": "text/x-python",
      "name": "python",
      "nbconvert_exporter": "python",
      "pygments_lexer": "ipython3",
      "version": "3.9.5"
    },
    "toc": {
      "base_numbering": 1,
      "nav_menu": {},
      "number_sections": true,
      "sideBar": true,
      "skip_h1_title": true,
      "title_cell": "Table of Contents",
      "title_sidebar": "Contents",
      "toc_cell": false,
      "toc_position": {},
      "toc_section_display": true,
      "toc_window_display": false
    }
  },
  "nbformat": 4,
  "nbformat_minor": 5
}